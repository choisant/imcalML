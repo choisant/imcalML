{
 "cells": [
  {
   "cell_type": "code",
   "execution_count": 1,
   "id": "1831994b",
   "metadata": {},
   "outputs": [],
   "source": [
    "import torch\n",
    "import random\n",
    "import numpy as np\n",
    "import matplotlib.pyplot as plt\n",
    "import h5py\n",
    "from tqdm import tqdm\n",
    "import time\n",
    "import pandas as pd\n",
    "import torch.nn as nn\n",
    "import torch.nn.functional as F\n",
    "import torch.optim as optim\n",
    "from torch.utils.data import DataLoader\n",
    "from torch.utils.data import Dataset\n",
    "from torch import Tensor\n",
    "from pathlib import Path\n",
    "#Using newest versions of all libraries"
   ]
  },
  {
   "cell_type": "markdown",
   "id": "4188fa20",
   "metadata": {},
   "source": [
    "# Simple CNN cluster image classifier\n",
    "\n",
    "This notebook provides a framework for classifying cluster images from the ATLAS Open Data dataset [ATLAS simulated samples collection for jet reconstruction training](http://opendata.cern.ch/record/15010).\n",
    "The dataset contains Monte-Carlo simulated samples corresponding to SM hadronic physics processes. As of now (03.20.2022) only the first part of the dataset is used for this analysis. Using the python script in this project 'cut_njets_root.py', the root file is converted into separate files containing 2D histograms. For each number of Truth Jets a category is created, and all the events associated with that number of Truth Jets is placed in the same file for easy access. Data processing is an essential part of any ML process, and this process of creating images is both naive and not necessarily physically motivated. Future work will focus on creating better images, but for now the simple histograms are used for a 'proof-of-concept' version of the code."
   ]
  },
  {
   "cell_type": "code",
   "execution_count": 2,
   "id": "32def5f8",
   "metadata": {},
   "outputs": [
    {
     "name": "stdout",
     "output_type": "stream",
     "text": [
      "ttbar_vs_w_direct-1651828368\n"
     ]
    }
   ],
   "source": [
    "#variables controlled by the user. Change these to fit your specific needs.\n",
    "VAL_PCT = 0.2 #The percentage of the data to be used as the validation set.\n",
    "N_EVENTS = 1000 #Number of events to process for each class. If higher than the available number of events an exception will be raised.\n",
    "MODEL_NAME = \"ttbar_vs_w_direct-\" + str(int(time.time())) #A unique name for the model\n",
    "print(MODEL_NAME)\n",
    "N_LABELS = [0, 1] #A list containing the classes of n number of jets we wish to train for\n",
    "OUTPUTS = len(N_LABELS) #The number of output nodes in the net, equal to the number of classes\n",
    "DATAPATH = Path(\"/disk/atlas3/data_MC/delphes/\") #The path to the folder containing the histogram files\n",
    "RES = 80 #resolution\n",
    "FILENAMES = [\"directW_13TeV_taus_100_40_1000events.h5\", \"ttbar_13TeV_taus_1000events.h5\"] #Filenames should match this format\n",
    "#FILENAMES = [\"directW_13TeV_taus_10000events.h5\", \"blank_images_10000events.h5\"] #Filenames should match this format\n",
    "CUDA = torch.device('cuda') #Change this to cpu if cuda is not abailable"
   ]
  },
  {
   "cell_type": "code",
   "execution_count": 3,
   "id": "545fbd71",
   "metadata": {},
   "outputs": [],
   "source": [
    "class CalorimeterDataset(Dataset):\n",
    "    #Creates tuple object used in the dataloader\n",
    "    def __init__(self, images, labels):\n",
    "            self.img_labels = labels\n",
    "            self.images = images\n",
    "            \n",
    "    def __len__(self):\n",
    "        return len(self.img_labels)\n",
    "    \n",
    "    def __getitem__(self, idx):\n",
    "        image = self.images[idx]\n",
    "        label = self.img_labels[idx]\n",
    "        return image, label\n",
    "\n",
    "def load_hd5_histogram(path:Path):\n",
    "    \"\"\"\n",
    "    Loads the data as numpy array. Opens the file and extracts the data before closing it again.\n",
    "    \"\"\"\n",
    "    with h5py.File(path) as f:\n",
    "        print (f.keys())\n",
    "        data = f[\"images\"]\n",
    "        #create array\n",
    "        arr = np.array(data)\n",
    "        print(f\"Loaded data with {len(arr)} entries of shape {np.shape(arr)}\")\n",
    "        return arr\n",
    "\n",
    "def label_maker(nclasses:list, nevents:int):\n",
    "    #Creates labels for the classes. The first class gets value [1, 0, .., 0], the next [0, 1, ..., 0] etc\n",
    "    a = torch.zeros(nevents*len(nclasses), len(nclasses), dtype=torch.int)\n",
    "    for i in range(len(nclasses)):\n",
    "        for j in range(nevents):\n",
    "            a[nevents*i + j][i] = 1\n",
    "    return a\n",
    "\n",
    "def normalize(AA, batchsize:int):\n",
    "    #Normalises the histograms to ensure that the net gets inputs in the range (0, 1)\n",
    "    AA = AA.view(AA.size(0), -1)\n",
    "    AA -= AA.min(1, keepdim=True)[0]\n",
    "    AA /= AA.max(1, keepdim=True)[0]\n",
    "    AA = AA.view(batchsize, RES, RES, 1)\n",
    "    return AA\n",
    "\n",
    "def load_data(input_files, data_path):\n",
    "    #Loads the data files and outputs CalorimeterDaataset objects\n",
    "    val_size = int(N_EVENTS*VAL_PCT)\n",
    "    train_size = int(N_EVENTS*(1-VAL_PCT))\n",
    "    \n",
    "    data = [load_hd5_histogram(data_path / input_files[i]) for i in range(len(input_files))]\n",
    "    for i in range(len(data)):\n",
    "        item = data[i]\n",
    "        np.random.shuffle(item)\n",
    "        data[i] = Tensor(item)\n",
    "    \n",
    "    Cal_train = torch.cat([data[i][0:train_size] for i in range(len(input_files))]).unsqueeze(3).float().to(CUDA)\n",
    "    #Cal_train = normalize(Cal_train, len(Cal_train))\n",
    "    labels_train = label_maker(N_LABELS, train_size).float().to(CUDA)\n",
    "    print(len(Cal_train), len(labels_train)) #Double check that these match\n",
    "\n",
    "    Cal_test = torch.cat([data[i][(train_size):(train_size+val_size)] for i in range(len(input_files))]).unsqueeze(3).float().to(CUDA)\n",
    "    #Cal_test = normalize(Cal_test, len(Cal_test))\n",
    "    labels_test = label_maker(N_LABELS, val_size).float().to(CUDA)\n",
    "    print(len(Cal_test), len(labels_test)) #Double check that these match\n",
    "    \n",
    "    train_dataset = CalorimeterDataset(Cal_train, labels_train)\n",
    "    test_dataset = CalorimeterDataset(Cal_test, labels_test)\n",
    "    \n",
    "    return train_dataset, test_dataset"
   ]
  },
  {
   "cell_type": "markdown",
   "id": "dd7188de",
   "metadata": {},
   "source": [
    "### Load the data\n",
    "\n",
    "Start by loading the data and then taking a look at it."
   ]
  },
  {
   "cell_type": "code",
   "execution_count": 4,
   "id": "18767b89",
   "metadata": {},
   "outputs": [
    {
     "name": "stdout",
     "output_type": "stream",
     "text": [
      "<KeysViewHDF5 ['images']>\n",
      "Loaded data with 1000 entries of shape (1000, 80, 80)\n",
      "<KeysViewHDF5 ['images']>\n",
      "Loaded data with 1000 entries of shape (1000, 80, 80)\n",
      "1600 1600\n",
      "400 400\n"
     ]
    }
   ],
   "source": [
    "#load data\n",
    "\n",
    "traindata, testdata = load_data(FILENAMES, DATAPATH)"
   ]
  },
  {
   "cell_type": "code",
   "execution_count": 5,
   "id": "9b0626b3",
   "metadata": {},
   "outputs": [
    {
     "name": "stdout",
     "output_type": "stream",
     "text": [
      "[[0, 0, 0], [1, 1, 1]]\n",
      "[[97, 26, 32], [217, 255, 260]]\n",
      "[[[1.0, 0.0], [1.0, 0.0], [1.0, 0.0]], [[0.0, 1.0], [0.0, 1.0], [0.0, 1.0]]]\n"
     ]
    },
    {
     "data": {
      "image/png": "[encoded data removed]",
      "text/plain": [
       "<Figure size 1296x864 with 6 Axes>"
      ]
     },
     "metadata": {
      "needs_background": "light"
     },
     "output_type": "display_data"
    }
   ],
   "source": [
    "def cal_image_plot(ax, n_jets):\n",
    "    ax.set_ylabel(r\"$\\phi$ [radians]]\", fontsize=12)\n",
    "    ax.set_xlabel(r\"$\\eta$\", fontsize=12)\n",
    "    ax.set_title(str(n_jets), fontsize=14,weight=\"bold\")\n",
    "    ax.tick_params(which=\"both\", direction=\"inout\", top=True, right=True, labelsize=12, pad=5, length=4, width=2)\n",
    "    ax.tick_params(which=\"major\", length=8)\n",
    "    ax.tick_params(which=\"minor\", length=6)\n",
    "    ax.minorticks_on()\n",
    "\n",
    "img_per_row = 3\n",
    "k = [[i]*img_per_row for i in range(OUTPUTS)]\n",
    "print(k)\n",
    "for i in range(len(k)):\n",
    "    row = k[i]\n",
    "    row = [item*(N_EVENTS*(VAL_PCT)) for item in row]\n",
    "    row = [int(item + np.random.randint(1, high = 100)) for item in row]\n",
    "    k[i] = row\n",
    "print(k)\n",
    "images = [testdata.images[item].cpu() for item in k]\n",
    "labels = [testdata.img_labels[item].cpu() for item in k]\n",
    "labels = [label.tolist() for label in labels]\n",
    "print(labels) #Double check that this matches the expected values\n",
    "\n",
    "fig, axs = plt.subplots(nrows = OUTPUTS, ncols = img_per_row, figsize = (img_per_row*6, OUTPUTS*6))\n",
    "for i in range (len(k)):\n",
    "    for j in range(img_per_row):\n",
    "        cal_image_plot(axs[i][j], int(N_LABELS[i]))\n",
    "        axs[i][j].imshow(images[i][j], extent=[-5, 5, -np.pi, np.pi], aspect='auto')\n"
   ]
  },
  {
   "cell_type": "code",
   "execution_count": 6,
   "id": "c5c4b71f",
   "metadata": {},
   "outputs": [
    {
     "name": "stdout",
     "output_type": "stream",
     "text": [
      "[0 0 0 ... 1 1 1]\n",
      "200\n",
      "800\n"
     ]
    }
   ],
   "source": [
    "testlabels = np.array(torch.argmax(testdata.img_labels, -1).cpu())\n",
    "trainlabels = np.array(torch.argmax(traindata.img_labels, -1).cpu())\n",
    "print(trainlabels)\n",
    "print(np.count_nonzero(testlabels))\n",
    "print(np.count_nonzero(trainlabels))"
   ]
  },
  {
   "cell_type": "markdown",
   "id": "9c89a75b",
   "metadata": {},
   "source": [
    "### Create the NN and start training\n",
    "\n",
    "We will now create the neural network architecture and the functions for training and testing our network. This is a convoluted neural network CNN. \n"
   ]
  },
  {
   "cell_type": "code",
   "execution_count": 7,
   "id": "8bdc5604",
   "metadata": {},
   "outputs": [],
   "source": [
    "class ConvNet(nn.Module):\n",
    "    #This code is heavily inspired by/copied from this tutorial; https://pythonprogramming.net/introduction-deep-learning-neural-network-pytorch/\n",
    "    def __init__(self):\n",
    "        super().__init__() # just run the init of parent class (nn.Module)\n",
    "        self.conv1 = nn.Conv2d(1, 32, 3) # input is 1 image, 32 output channels, 5x5 kernel / window\n",
    "        self.conv2 = nn.Conv2d(32, 64, 3) # input is 32, bc the first layer output 32. Then we say the output will be 64 channels, 5x5 kernel / window\n",
    "        self.conv3 = nn.Conv2d(64, 128, 3)\n",
    "\n",
    "        x = torch.randn(RES,RES).view(-1,1,RES,RES) #Dummy image used in to_linear func\n",
    "        self._to_linear = None\n",
    "        self.convs(x)\n",
    "\n",
    "        self.fc1 = nn.Linear(self._to_linear, 512) #flattening.\n",
    "        self.fc2 = nn.Linear(512, OUTPUTS) # 512 in, OUTPUTS out -> number of classes\n",
    "\n",
    "    def convs(self, x:Tensor):\n",
    "        # max pooling over 2x2\n",
    "        x = F.max_pool2d(F.relu(self.conv1(x)), (2, 2))\n",
    "        x = F.max_pool2d(F.relu(self.conv2(x)), (2, 2))\n",
    "        x = F.max_pool2d(F.relu(self.conv3(x)), (2, 2))\n",
    "\n",
    "        if self._to_linear is None:\n",
    "            self._to_linear = x[0].shape[0]*x[0].shape[1]*x[0].shape[2] #calculates the output that needs to be flattened\n",
    "        return x\n",
    "\n",
    "    def forward(self, x:Tensor):\n",
    "        x = self.convs(x)\n",
    "        x = x.view(-1, self._to_linear)  # .view is reshape ... this flattens X before \n",
    "        x = F.relu(self.fc1(x))\n",
    "        x = self.fc2(x) # bc this is our output layer. No activation here.\n",
    "        return F.softmax(x, dim=1)\n"
   ]
  },
  {
   "cell_type": "code",
   "execution_count": 8,
   "id": "b1d567ea",
   "metadata": {},
   "outputs": [],
   "source": [
    "#This code is heavily inspired by/copied from this tutorial; https://pythonprogramming.net/introduction-deep-learning-neural-network-pytorch/\n",
    "def fwd_pass(net, X:Tensor, y:Tensor, train=False):\n",
    "    #Checks to see if we are testing or training, as we do NOT want to update weights for testing.\n",
    "    if train:\n",
    "        net.zero_grad()\n",
    "    #Calculates the accuracy and loss\n",
    "    outputs = net(X.view(-1, 1, RES, RES).to(CUDA))\n",
    "    matches = [torch.argmax(i) == torch.argmax(j) for i, j in zip(outputs, y)]\n",
    "    acc = matches.count(True)/len(matches)\n",
    "    loss = loss_function(outputs, y.to(CUDA)) # loss_function(outputs, y)\n",
    "    #If we are training we will apply backpropogation and update the weights, stepping towards lower loss.\n",
    "    if train:\n",
    "        loss.backward()\n",
    "        optimizer.step()\n",
    "    return acc, loss\n",
    "\n",
    "def test(net, data, size:str = 32):\n",
    "    #Returns accuracy and loss on validation data\n",
    "    dataset = DataLoader(data, size, shuffle=True) #shuffle data and choose batch size\n",
    "    X, y = next(iter(dataset)) #get a random batch\n",
    "    val_acc, val_loss = fwd_pass(net, X, y)\n",
    "    return val_acc, val_loss\n",
    "    \n",
    "def predict(net, data):\n",
    "    #Returns the predictions (as class number values)\n",
    "    dataset = DataLoader(data, 1, shuffle=True) #shuffle data and choose batch size\n",
    "    prediction = torch.zeros(len(dataset))\n",
    "    truth = torch.zeros(len(dataset))\n",
    "    i = 0\n",
    "    for data in tqdm(dataset):\n",
    "        X, y = data\n",
    "        output = net(X.view(-1, 1, 80, 80).to(CUDA))\n",
    "        prediction[i] = torch.argmax(output)\n",
    "        truth[i] = torch.argmax(y)\n",
    "        i = i +1\n",
    "    return truth, prediction\n",
    "        \n",
    "\n",
    "def train(net, traindata, testdata, size:str, epochs:str):\n",
    "    #Main training loop. Creates a pandas dataframe and stores information about the training process in it.\n",
    "    dataset = DataLoader(traindata, size, shuffle=True)\n",
    "    df_labels = [\"Loss\", \"Accuracy\", \"Validation loss\", \"Validation accuracy\", \"Epoch\", \"Iteration\"]\n",
    "    df_data = [[0], [0], [0], [0], [0], [0]]\n",
    "    df = pd.DataFrame(dict(zip(df_labels, df_data)))\n",
    "    i = 0\n",
    "    for epoch in tqdm(range(epochs)):\n",
    "        for data in dataset:\n",
    "            i = i+1\n",
    "            X, y = data\n",
    "            acc, loss = fwd_pass(net, X, y, train=True)\n",
    "            if i % 10 == 0: #Computes validation metrics only for 1/10 of the iterations\n",
    "                val_acc, val_loss = test(net, testdata, size=size)\n",
    "                df_data = [float(loss), acc, float(val_loss), val_acc, epoch, i]\n",
    "                new_df = pd.DataFrame(dict(zip(df_labels, df_data)), index=[0])\n",
    "                df = pd.concat([df, new_df], ignore_index=True)\n",
    "    return df"
   ]
  },
  {
   "cell_type": "code",
   "execution_count": 9,
   "id": "9d8ccaa9",
   "metadata": {},
   "outputs": [
    {
     "name": "stdout",
     "output_type": "stream",
     "text": [
      "tensor([[0.5067, 0.4933]], device='cuda:0', grad_fn=<SoftmaxBackward0>)\n"
     ]
    }
   ],
   "source": [
    "#create NN and test that nothing major is wrong.\n",
    "net = ConvNet()\n",
    "net.to(device = CUDA)\n",
    "testimage, testlabel = traindata.images[0], traindata.img_labels[0]\n",
    "print(net(testimage.view(-1, 1, RES, RES).to(CUDA)))"
   ]
  },
  {
   "cell_type": "code",
   "execution_count": 20,
   "id": "6de0788a",
   "metadata": {},
   "outputs": [
    {
     "name": "stderr",
     "output_type": "stream",
     "text": [
      "100%|██████████| 10/10 [00:02<00:00,  3.38it/s]\n"
     ]
    }
   ],
   "source": [
    "#Set learning rate, optimizer, loss function and start training\n",
    "optimizer = optim.Adam(net.parameters(), lr=0.0001)\n",
    "loss_function = nn.CrossEntropyLoss()\n",
    "training_results = train(net, traindata, testdata, 50, 10)"
   ]
  },
  {
   "cell_type": "code",
   "execution_count": 11,
   "id": "04e08835",
   "metadata": {},
   "outputs": [
    {
     "name": "stdout",
     "output_type": "stream",
     "text": [
      "torch.Size([1, 1, 80, 80])\n",
      "tensor([[0.9920, 0.0080]], device='cuda:0', grad_fn=<SoftmaxBackward0>)\n"
     ]
    }
   ],
   "source": [
    "print(np.shape(testimage.view(-1, 1, RES, RES)))\n",
    "print(net(testimage.view(-1, 1, RES, RES).to(CUDA)))"
   ]
  },
  {
   "cell_type": "markdown",
   "id": "56682e67",
   "metadata": {},
   "source": [
    "### Analyzing our model\n",
    "Let's take a look at the learning metrics collected in our dataframe. High accuracy on training data and low accuracy on validation implies overtraining. Low accuracy in both categories mean that the network is not learning. Next look at the loss. Loss should go down if the model is learning. If the validation loss starts going up we have overtrained. "
   ]
  },
  {
   "cell_type": "code",
   "execution_count": 21,
   "id": "3604abc4",
   "metadata": {},
   "outputs": [
    {
     "data": {
      "text/plain": [
       "<AxesSubplot:xlabel='Iteration'>"
      ]
     },
     "execution_count": 21,
     "metadata": {},
     "output_type": "execute_result"
    },
    {
     "data": {
      "image/png": "[encoded data removed]",
      "text/plain": [
       "<Figure size 864x360 with 2 Axes>"
      ]
     },
     "metadata": {
      "needs_background": "light"
     },
     "output_type": "display_data"
    }
   ],
   "source": [
    "fig, axs = plt.subplots(nrows = 1, ncols = 2, figsize = (12, 5))\n",
    "training_results.plot(\"Iteration\", [\"Accuracy\", \"Validation accuracy\"], ax=axs[0], \n",
    "                    title=\"Mean validation accuracy: \" + str(round(training_results[\"Validation accuracy\"].mean(), 2)))\n",
    "training_results.plot(\"Iteration\", [\"Loss\", \"Validation loss\"], ax=axs[1])"
   ]
  },
  {
   "cell_type": "markdown",
   "id": "9c537587",
   "metadata": {},
   "source": [
    "To further analyse our model we can check how the predictions compare to the true values. This can highlight which classes we are having trouble with."
   ]
  },
  {
   "cell_type": "code",
   "execution_count": 13,
   "id": "6d73aa0e",
   "metadata": {},
   "outputs": [
    {
     "name": "stderr",
     "output_type": "stream",
     "text": [
      "100%|██████████| 400/400 [00:00<00:00, 1242.15it/s]"
     ]
    },
    {
     "name": "stdout",
     "output_type": "stream",
     "text": [
      "tensor([1., 0., 0., 0., 1., 0., 1., 1., 0., 0., 1., 0., 0., 1., 0., 1., 1., 0.,\n",
      "        1., 0., 1., 0., 0., 1., 0., 1., 1., 1., 0., 0., 0., 1., 1., 1., 0., 1.,\n",
      "        1., 1., 0., 0., 1., 1., 0., 0., 0., 0., 0., 0., 1., 1.])\n",
      "tensor([1., 0., 0., 0., 1., 0., 1., 1., 0., 0., 1., 0., 1., 1., 0., 1., 1., 0.,\n",
      "        1., 0., 1., 0., 0., 1., 0., 1., 0., 1., 0., 0., 0., 1., 1., 1., 0., 1.,\n",
      "        1., 1., 1., 0., 1., 1., 1., 0., 0., 1., 0., 0., 0., 1.])\n"
     ]
    },
    {
     "name": "stderr",
     "output_type": "stream",
     "text": [
      "\n"
     ]
    }
   ],
   "source": [
    "truth, preds = predict(net, testdata)\n",
    "confusion = pd.DataFrame(dict(zip([\"Truth\", \"Predictions\"], [truth, preds])))\n",
    "print(preds[:50])\n",
    "print(truth[:50])"
   ]
  },
  {
   "cell_type": "code",
   "execution_count": 14,
   "id": "af991673",
   "metadata": {},
   "outputs": [
    {
     "data": {
      "image/png": "[encoded data removed]",
      "text/plain": [
       "<Figure size 720x576 with 1 Axes>"
      ]
     },
     "metadata": {
      "needs_background": "light"
     },
     "output_type": "display_data"
    }
   ],
   "source": [
    "from sklearn.metrics import confusion_matrix\n",
    "import seaborn as sn\n",
    "\n",
    "fig, ax = plt.subplots(figsize = (10, 8))\n",
    "\n",
    "#Generate the confusion matrix\n",
    "cf_matrix = confusion_matrix(confusion[\"Truth\"], confusion[\"Predictions\"])\n",
    "ax = sn.heatmap(cf_matrix, annot=True, cbar=False, cmap='rocket', fmt='g',annot_kws={\"size\": 18})\n",
    "\n",
    "#ax.set_title('Confusion matrix\\n\\n', size=24)\n",
    "ax.set_xlabel('\\nPredicted Values', size=24)\n",
    "ax.set_ylabel('Actual Values ', size=24)\n",
    "\n",
    "## Ticket labels - List must be in alphabetical order\n",
    "ax.xaxis.set_ticklabels(N_LABELS, size=20)\n",
    "ax.yaxis.set_ticklabels(N_LABELS, size=20)\n",
    "\n",
    "## Display the visualization of the Confusion Matrix.\n",
    "plt.show()"
   ]
  },
  {
   "cell_type": "code",
   "execution_count": 15,
   "id": "574f74d2",
   "metadata": {},
   "outputs": [
    {
     "data": {
      "text/plain": [
       "(-0.5, 1.5)"
      ]
     },
     "execution_count": 15,
     "metadata": {},
     "output_type": "execute_result"
    },
    {
     "data": {
      "image/png": "[encoded data removed]",
      "text/plain": [
       "<Figure size 451x360 with 1 Axes>"
      ]
     },
     "metadata": {
      "needs_background": "light"
     },
     "output_type": "display_data"
    }
   ],
   "source": [
    "import seaborn as sn\n",
    "#fig, ax = plt.subplots(figsize = (10, 8))\n",
    "sn.displot(confusion, stat=\"percent\")\n",
    "#sn.displot(confusion, x=\"Truth\", color=\"blue\")\n",
    "plt.xlabel(\"Class\")\n",
    "plt.xlim(-0.5, OUTPUTS -0.5)"
   ]
  }
 ],
 "metadata": {
  "interpreter": {
   "hash": "5b1332e5a07ce33895000dbe941ad9cee852d3baee8993fa123c6057492c40e7"
  },
  "kernelspec": {
   "display_name": "Python 3.9.7 ('matrices': conda)",
   "language": "python",
   "name": "python3"
  },
  "language_info": {
   "codemirror_mode": {
    "name": "ipython",
    "version": 3
   },
   "file_extension": ".py",
   "mimetype": "text/x-python",
   "name": "python",
   "nbconvert_exporter": "python",
   "pygments_lexer": "ipython3",
   "version": "3.9.7"
  }
 },
 "nbformat": 4,
 "nbformat_minor": 5
}

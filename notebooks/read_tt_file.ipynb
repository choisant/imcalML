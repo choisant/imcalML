{
 "cells": [
  {
   "cell_type": "code",
   "execution_count": 76,
   "metadata": {},
   "outputs": [],
   "source": [
    "import numpy as np\n",
    "import pandas as pd\n",
    "import h5py\n",
    "import matplotlib.pyplot as plt\n",
    "from pathlib import Path\n",
    "import awkward as ak\n",
    "import hdf5plugin"
   ]
  },
  {
   "cell_type": "code",
   "execution_count": 77,
   "metadata": {},
   "outputs": [],
   "source": [
    "datapath = Path(\"/disk/atlas3/data_MC/topTagging/top\")"
   ]
  },
  {
   "cell_type": "code",
   "execution_count": 78,
   "metadata": {},
   "outputs": [],
   "source": [
    "def load_array(path:Path):\n",
    "    with h5py.File(path) as f:\n",
    "        labels = [\"event_id\", \"clusters\", \"truth_jet\", \"ttv\", \"is_signal_new\"]\n",
    "        data = f[\"table\"][\"table\"] #dataset, each row is a void type\n",
    "        print(data.dtype)\n",
    "        eventid, clusters, misc = data['index'], data['values_block_0'], data['values_block_1']\n",
    "        truthjets = clusters[:,-4:]\n",
    "        clusters = clusters[:,:-4]\n",
    "        clusters = np.transpose(clusters.reshape(len(clusters), 200, 4), (2, 0, 1))\n",
    "        \n",
    "        print(clusters.shape)\n",
    "        cluster_labels = [\"E\", \"x\", \"y\", \"z\"]\n",
    "        cluster_arr = ak.Array(dict(zip(cluster_labels, clusters)))\n",
    "        \n",
    "        arr = ak.Array(dict(zip(labels, [eventid, cluster_arr, truthjets, misc[:,0], misc[:,1]])))\n",
    "        return arr"
   ]
  },
  {
   "cell_type": "code",
   "execution_count": 79,
   "metadata": {},
   "outputs": [
    {
     "name": "stdout",
     "output_type": "stream",
     "text": [
      "[('index', '<i8'), ('values_block_0', '<f4', (804,)), ('values_block_1', '<i8', (2,))]\n",
      "(4, 1211000, 200)\n"
     ]
    }
   ],
   "source": [
    "train = load_array(datapath/'train.h5')"
   ]
  },
  {
   "cell_type": "code",
   "execution_count": 80,
   "metadata": {},
   "outputs": [],
   "source": [
    "def zero_to_nan(arr):\n",
    "    clusters = arr.clusters\n",
    "    clusters.E = ak.where(clusters.E == 0, np.nan, clusters.E)\n",
    "    clusters.x = ak.where(clusters.x == 0, np.nan, clusters.x)\n",
    "    clusters.y = ak.where(clusters.y == 0, np.nan, clusters.y)\n",
    "    clusters.z = ak.where(clusters.z == 0, np.nan, clusters.z)\n",
    "    arr.clusters = clusters\n",
    "    return arr\n",
    "\n"
   ]
  },
  {
   "cell_type": "code",
   "execution_count": 81,
   "metadata": {},
   "outputs": [],
   "source": [
    "def cartesian_to_angles(arr, drop:bool=False):\n",
    "    clusters = arr.clusters\n",
    "    clusters[\"pT\"] = np.sqrt(clusters.x**2 + clusters.y**2)\n",
    "    clusters[\"eta\"] = np.arcsinh(clusters.z/clusters[\"pT\"])\n",
    "    clusters[\"phi\"] = np.arcsin(clusters.y/clusters[\"pT\"])\n",
    "    \"\"\"\n",
    "    Add this functionality\n",
    "    if drop:\n",
    "    \"\"\"\n",
    "    arr.clusters = clusters\n",
    "    return arr\n",
    "\n"
   ]
  },
  {
   "cell_type": "code",
   "execution_count": 82,
   "metadata": {},
   "outputs": [
    {
     "name": "stdout",
     "output_type": "stream",
     "text": [
      "[{E: [474, 103, 105, 40.2, 22.4, 20.3, 19, 13.5, 11.2, ... 0, 0, 0, 0, 0, 0, 0, 0]}]\n"
     ]
    }
   ],
   "source": [
    "testing = train[0:20]\n",
    "testing = zero_to_nan(testing)\n",
    "testing = cartesian_to_angles(testing)"
   ]
  }
 ],
 "metadata": {
  "interpreter": {
   "hash": "5b1332e5a07ce33895000dbe941ad9cee852d3baee8993fa123c6057492c40e7"
  },
  "kernelspec": {
   "display_name": "Python 3.9.7 ('matrices')",
   "language": "python",
   "name": "python3"
  },
  "language_info": {
   "codemirror_mode": {
    "name": "ipython",
    "version": 3
   },
   "file_extension": ".py",
   "mimetype": "text/x-python",
   "name": "python",
   "nbconvert_exporter": "python",
   "pygments_lexer": "ipython3",
   "version": "3.9.7"
  },
  "orig_nbformat": 4
 },
 "nbformat": 4,
 "nbformat_minor": 2
}

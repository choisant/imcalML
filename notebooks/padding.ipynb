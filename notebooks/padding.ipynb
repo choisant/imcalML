{
 "cells": [
  {
   "cell_type": "code",
   "execution_count": 1,
   "metadata": {},
   "outputs": [],
   "source": [
    "#scientific libraries and plotting\n",
    "import numpy as np\n",
    "import matplotlib.pyplot as plt\n",
    "import pandas as pd\n",
    "import seaborn as sn\n",
    "\n",
    "#torch specific\n",
    "import torch\n",
    "import torchvision as torchv\n",
    "import torch.optim as optim\n",
    "\n",
    "#other libraries\n",
    "import time\n",
    "import sys\n",
    "from pathlib import Path\n",
    "from sklearn.metrics import accuracy_score\n",
    "from sklearn.metrics import confusion_matrix\n",
    "import atlas_mpl_style as ampl\n",
    "\n",
    "#Using newest versions of all libraries"
   ]
  },
  {
   "cell_type": "code",
   "execution_count": 2,
   "metadata": {},
   "outputs": [],
   "source": [
    "# import custom functions from src folder\n",
    "module_path = str(Path.cwd().parents[0] / \"src\")\n",
    "\n",
    "if module_path not in sys.path:\n",
    "    sys.path.append(module_path)\n",
    "\n",
    "from machine_learning import *\n",
    "from resnet import *\n",
    "from resnet import ResNet18\n",
    "from imcal import *\n",
    "from imcal import Hdf5Dataset\n",
    "from imcal import RandomRoll"
   ]
  },
  {
   "cell_type": "code",
   "execution_count": 3,
   "metadata": {},
   "outputs": [
    {
     "name": "stdout",
     "output_type": "stream",
     "text": [
      "Running on the CPU\n"
     ]
    }
   ],
   "source": [
    "#variables controlled by the user. Change these to fit your specific needs.\n",
    "\n",
    "TRAIN_N_EVENTS = 100 #Number of events to process for each class.\n",
    "RES = 50 #resolution\n",
    "CUT=True #Should cut be applied? Chooses different files if True.\n",
    "\n",
    "#Data specification\n",
    "LABELS = [\"PP13-Sphaleron-THR9-FRZ15-NB0-NSUBPALL\"]\n",
    "CLASSES = len(LABELS) #The number of output nodes in the net, equal to the number of classes\n",
    "FOLDERS = [\"sph\"]\n",
    "\n",
    "#Set data paths\n",
    "if CUT:\n",
    "    N_EVENTS = 10000\n",
    "    TRAIN_FILENAMES = [f\"{label}_res{RES}_STmin7_Nmin5_{N_EVENTS}_events.h5\" for label in LABELS]\n",
    "else:\n",
    "    N_EVENTS = 10000\n",
    "    TRAIN_FILENAMES = [f\"{label}_res{RES}_{N_EVENTS}_events.h5\" for label in LABELS]\n",
    "\n",
    "TRAIN_DATAPATHS = [f\"/disk/atlas3/data_MC/2dhistograms/{FOLDERS[i]}/{RES}/{TRAIN_FILENAMES[i]}\" for i in range(CLASSES)]\n",
    "\n",
    "#Setup CPU\n",
    "DEVICE = torch.device(\"cpu\")\n",
    "print(\"Running on the CPU\")\n",
    "\n",
    "#Data processing\n",
    "filters=[None]\n",
    "transforms = torch.nn.Sequential(\n",
    "        CircularPadding(4, 0)\n",
    "    )\n",
    "#For plotting\n",
    "ampl.use_atlas_style()   "
   ]
  },
  {
   "cell_type": "code",
   "execution_count": 6,
   "metadata": {},
   "outputs": [
    {
     "name": "stdout",
     "output_type": "stream",
     "text": [
      "Loads data with transforms Sequential(\n",
      "  (0): CircularPadding()\n",
      ") and filters [None]\n",
      "Loaded data with 100 entries of shape (100, 50, 50, 3).\n",
      "Check max value: 9846.212890625.\n",
      "Data has shape torch.Size([50, 50, 3])\n",
      "There are 1 classes.\n"
     ]
    }
   ],
   "source": [
    "paths = [Path(path) for path in TRAIN_DATAPATHS]\n",
    "data = load_datasets(paths, DEVICE, TRAIN_N_EVENTS, filters, transforms=transforms)"
   ]
  },
  {
   "cell_type": "code",
   "execution_count": 7,
   "metadata": {},
   "outputs": [
    {
     "name": "stdout",
     "output_type": "stream",
     "text": [
      "torch.Size([58, 50, 3])\n"
     ]
    }
   ],
   "source": [
    "print(data[0][0].shape)"
   ]
  },
  {
   "cell_type": "code",
   "execution_count": 8,
   "metadata": {},
   "outputs": [
    {
     "name": "stderr",
     "output_type": "stream",
     "text": [
      "Clipping input data to the valid range for imshow with RGB data ([0..1] for floats or [0..255] for integers).\n"
     ]
    },
    {
     "name": "stdout",
     "output_type": "stream",
     "text": [
      "torch.Size([58, 50, 3])\n"
     ]
    },
    {
     "data": {
      "text/plain": [
       "<matplotlib.image.AxesImage at 0x7f1e20c697f0>"
      ]
     },
     "execution_count": 8,
     "metadata": {},
     "output_type": "execute_result"
    },
    {
     "data": {
      "image/png": "[encoded data removed]",
      "text/plain": [
       "<Figure size 799.992x599.976 with 1 Axes>"
      ]
     },
     "metadata": {},
     "output_type": "display_data"
    }
   ],
   "source": [
    "input = data[5][0].cpu()\n",
    "print(input.shape)\n",
    "plt.imshow(input)"
   ]
  },
  {
   "cell_type": "code",
   "execution_count": 123,
   "metadata": {},
   "outputs": [
    {
     "name": "stderr",
     "output_type": "stream",
     "text": [
      "Clipping input data to the valid range for imshow with RGB data ([0..1] for floats or [0..255] for integers).\n"
     ]
    },
    {
     "data": {
      "text/plain": [
       "<matplotlib.image.AxesImage at 0x7faa1c0e54c0>"
      ]
     },
     "execution_count": 123,
     "metadata": {},
     "output_type": "execute_result"
    },
    {
     "data": {
      "image/png": "[encoded data removed]",
      "text/plain": [
       "<Figure size 799.992x599.976 with 1 Axes>"
      ]
     },
     "metadata": {},
     "output_type": "display_data"
    }
   ],
   "source": [
    "def circular_padding(image, pad_len:int, pad_dim:int):\n",
    "    #pads image on both sides in either x or y-direction (as seen by imshow)\n",
    "    y_dim = image.shape[0]\n",
    "    x_dim = image.shape[1]\n",
    "    channels = image.shape[-1]\n",
    "    if pad_dim==0:\n",
    "        new_image = torch.zeros((x_dim + 2*pad_len, y_dim, channels))\n",
    "        new_image[pad_len-1:-(pad_len+1), :, :] = image\n",
    "        #padding from opposite side\n",
    "        new_image[0:pad_len, :, :] = image[-(pad_len+1):-1, :, :]\n",
    "        new_image[-(pad_len+1):-1, :, :] = image[0:pad_len, :, :]\n",
    "        return new_image\n",
    "\n",
    "    elif pad_dim==1:\n",
    "        new_image = torch.zeros((x_dim, y_dim + 2*pad_len, channels))\n",
    "        new_image[:, pad_len-1:-(pad_len+1), :] = image\n",
    "        #padding from opposite side\n",
    "        new_image[:, 0:pad_len, :] = image[:, -(pad_len+1):-1, :]\n",
    "        new_image[:, -(pad_len+1):-1, :] = image[:, 0:pad_len, :]\n",
    "        return new_image\n",
    "\n",
    "    else:\n",
    "        print(\"pad direction should be x or y\")\n",
    "        return image\n",
    "    \n",
    "test = circular_padding(input, 10, 1)\n",
    "plt.imshow(test)"
   ]
  }
 ],
 "metadata": {
  "kernelspec": {
   "display_name": "matrices",
   "language": "python",
   "name": "python3"
  },
  "language_info": {
   "codemirror_mode": {
    "name": "ipython",
    "version": 3
   },
   "file_extension": ".py",
   "mimetype": "text/x-python",
   "name": "python",
   "nbconvert_exporter": "python",
   "pygments_lexer": "ipython3",
   "version": "3.9.7"
  }
 },
 "nbformat": 4,
 "nbformat_minor": 2
}

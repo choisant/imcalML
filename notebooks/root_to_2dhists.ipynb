{
 "cells": [
  {
   "cell_type": "code",
   "execution_count": 1,
   "metadata": {},
   "outputs": [],
   "source": [
    "import numpy as np\n",
    "import awkward as ak\n",
    "from fast_histogram import histogram2d\n",
    "import matplotlib.pyplot as plt\n",
    "import argparse\n",
    "import logging\n",
    "from datetime import datetime\n",
    "import sys\n",
    "from pathlib import Path\n",
    "import pickle \n",
    "\n",
    "#set global variables\n",
    "MAX_EVENTS = 10000\n",
    "\n",
    "data_path = f\"/disk/atlas3/data_MC/delphes/BH_n4_M10_10000events.root:Delphes\" \n",
    "\n",
    "#Set resolution\n",
    "MIN_RES = 20\n",
    "RESOLUTION = 50\n"
   ]
  },
  {
   "cell_type": "code",
   "execution_count": 2,
   "metadata": {},
   "outputs": [],
   "source": [
    "# import custom functions from src folder\n",
    "module_path = str(Path.cwd().parents[0] / \"src\")\n",
    "\n",
    "if module_path not in sys.path:\n",
    "    sys.path.append(module_path)\n",
    "\n",
    "from imcal import *\n",
    "from imcal import Hdf5Dataset"
   ]
  },
  {
   "cell_type": "code",
   "execution_count": 3,
   "metadata": {},
   "outputs": [
    {
     "name": "stdout",
     "output_type": "stream",
     "text": [
      "Loading 10000 events from branch Tower, fields ['Tower.ET', 'Tower.Eta', 'Tower.Phi', 'Tower.Eem', 'Tower.Ehad'].\n",
      "Loading 10000 events from branch Track, fields ['Track.PT', 'Track.Eta', 'Track.Phi'].\n",
      "Loading 10000 events from branch Event, fields ['Event.Number'].\n",
      "Number of events loaded: 10000\n"
     ]
    }
   ],
   "source": [
    "\n",
    "#Load data\n",
    "clusters = load_data(data_path, MAX_EVENTS, \"Tower\", \n",
    "                        [\"Tower.ET\", \"Tower.Eta\", \"Tower.Phi\", \"Tower.Eem\", \"Tower.Ehad\"])\n",
    "tracks = load_data(data_path, MAX_EVENTS, \"Track\", \n",
    "                        [\"Track.PT\", \"Track.Eta\", \"Track.Phi\"])\n",
    "\n",
    "eventid = load_data(data_path, MAX_EVENTS, \"Event\", [\"Event.Number\"])\n",
    "\n",
    "print(f\"Number of events loaded: {len(clusters)}\")\n"
   ]
  },
  {
   "cell_type": "code",
   "execution_count": 4,
   "metadata": {},
   "outputs": [
    {
     "name": "stdout",
     "output_type": "stream",
     "text": [
      "[[267, 0.831, 34.7, 78.2, 2.1, 0.613, ... 0.489, 1.32, 2.5, 1.62, 0.784, 48.9]]\n"
     ]
    }
   ],
   "source": [
    "print(tracks.PT)"
   ]
  },
  {
   "cell_type": "code",
   "execution_count": 5,
   "metadata": {},
   "outputs": [
    {
     "name": "stdout",
     "output_type": "stream",
     "text": [
      "         PT       Eta       Phi  EventNumber\n",
      "0  0.119908 -2.840896 -0.441638          537\n",
      "1  0.492408 -2.643695  0.391767         2493\n",
      "2  0.559976  2.659502  0.285224         3221\n",
      "3  0.775235  2.639060  0.692546         4776\n",
      "4  0.291009  2.679379 -2.219066         5244\n",
      "5  0.161058 -2.771201  0.279189         8063\n",
      "6  0.507858 -2.648678 -1.490665         8580\n"
     ]
    }
   ],
   "source": [
    "edge_tracks = tracks[abs(tracks[\"Eta\"])>2.6]\n",
    "\n",
    "values = {\"PT\":[], \"Eta\":[], \"Phi\":[], \"EventNumber\":[]}\n",
    "for i, hit in enumerate(edge_tracks):\n",
    "    hit = ak.to_list(hit)\n",
    "    if len(hit) > 0:\n",
    "        values[\"PT\"].append(hit[0][\"PT\"])\n",
    "        values[\"Eta\"].append(hit[0][\"Eta\"])\n",
    "        values[\"Phi\"].append(hit[0][\"Phi\"])\n",
    "        values[\"EventNumber\"].append(i)\n",
    "\n",
    "df = pd.DataFrame(values)\n",
    "print(df)"
   ]
  },
  {
   "cell_type": "code",
   "execution_count": 6,
   "metadata": {},
   "outputs": [
    {
     "name": "stdout",
     "output_type": "stream",
     "text": [
      "Padding towers to size: 529\n",
      "Padding tracks to size: 418\n"
     ]
    }
   ],
   "source": [
    "#Pad Tower data\n",
    "max_hits = np.max([len(event) for event in clusters[\"Eta\"]])\n",
    "print(f\"Padding towers to size: {max_hits}\")\n",
    "clusters = ak.pad_none(clusters, max_hits, axis=-1)\n",
    "\n",
    "#Pad track data\n",
    "max_hits = np.max([len(event) for event in tracks[\"Eta\"]])\n",
    "print(f\"Padding tracks to size: {max_hits}\")\n",
    "tracks = ak.pad_none(tracks, max_hits, axis=-1)\n"
   ]
  },
  {
   "cell_type": "code",
   "execution_count": 7,
   "metadata": {},
   "outputs": [],
   "source": [
    "test = ak.to_numpy(clusters.Phi)\n",
    "test.fill_value = None"
   ]
  },
  {
   "cell_type": "code",
   "execution_count": 8,
   "metadata": {},
   "outputs": [
    {
     "name": "stdout",
     "output_type": "stream",
     "text": [
      "0.0\n",
      "<class 'numpy.ma.core.MaskedArray'>\n"
     ]
    }
   ],
   "source": [
    "print((np.ma.getdata(test[0][-1])))\n",
    "print(type(test))"
   ]
  },
  {
   "cell_type": "code",
   "execution_count": 9,
   "metadata": {},
   "outputs": [],
   "source": [
    "\n",
    "# Creating the histograms\n",
    "hists_Eem = create_histograms(ak.to_numpy(clusters.Phi), ak.to_numpy(clusters.Eta), \n",
    "                                ak.to_numpy(clusters.Eem), MAX_EVENTS, RESOLUTION)\n",
    "hists_Ehad = create_histograms(ak.to_numpy(clusters.Phi), ak.to_numpy(clusters.Eta), \n",
    "                                ak.to_numpy(clusters.Ehad), MAX_EVENTS, RESOLUTION)\n",
    "hists_tracks = create_histograms(ak.to_numpy(tracks.Phi), ak.to_numpy(tracks.Eta), \n",
    "                                    ak.to_numpy(tracks.PT), MAX_EVENTS, RESOLUTION)"
   ]
  },
  {
   "cell_type": "code",
   "execution_count": 10,
   "metadata": {},
   "outputs": [
    {
     "name": "stdout",
     "output_type": "stream",
     "text": [
      "Image data shape: (10000, 50, 50, 3)\n"
     ]
    }
   ],
   "source": [
    "\n",
    "#Stack to 3 channel\n",
    "images = np.stack((hists_Eem, hists_Ehad, hists_tracks), axis=-1)\n",
    "print(f\"Image data shape: {images.shape}\")\n"
   ]
  },
  {
   "cell_type": "code",
   "execution_count": 12,
   "metadata": {},
   "outputs": [
    {
     "data": {
      "text/plain": [
       "<matplotlib.image.AxesImage at 0x7f71a9a05a30>"
      ]
     },
     "execution_count": 12,
     "metadata": {},
     "output_type": "execute_result"
    },
    {
     "data": {
      "image/png": "[encoded data removed]",
      "text/plain": [
       "<Figure size 720x720 with 1 Axes>"
      ]
     },
     "metadata": {
      "needs_background": "light"
     },
     "output_type": "display_data"
    }
   ],
   "source": [
    "fig, ax = plt.subplots(figsize=(10,10))\n",
    "ax.imshow(images[9620][:,:,2], vmin=0, vmax=1, extent=[-5, 5, -np.pi, np.pi], aspect='auto')"
   ]
  }
 ],
 "metadata": {
  "kernelspec": {
   "display_name": "matrices",
   "language": "python",
   "name": "python3"
  },
  "language_info": {
   "codemirror_mode": {
    "name": "ipython",
    "version": 3
   },
   "file_extension": ".py",
   "mimetype": "text/x-python",
   "name": "python",
   "nbconvert_exporter": "python",
   "pygments_lexer": "ipython3",
   "version": "3.9.7"
  },
  "orig_nbformat": 4,
  "vscode": {
   "interpreter": {
    "hash": "5b1332e5a07ce33895000dbe941ad9cee852d3baee8993fa123c6057492c40e7"
   }
  }
 },
 "nbformat": 4,
 "nbformat_minor": 2
}

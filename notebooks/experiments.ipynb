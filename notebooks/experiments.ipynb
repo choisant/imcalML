{
 "cells": [
  {
   "cell_type": "code",
   "execution_count": 7,
   "metadata": {},
   "outputs": [],
   "source": [
    "#scientific libraries and plotting\n",
    "import numpy as np\n",
    "import matplotlib.pyplot as plt\n",
    "import pandas as pd\n",
    "\n",
    "#torch specific\n",
    "import torch\n",
    "import torchvision as torchv\n",
    "import torch.optim as optim\n",
    "\n",
    "#other libraries\n",
    "import time\n",
    "import sys\n",
    "from pathlib import Path\n",
    "from sklearn.metrics import accuracy_score\n",
    "from tqdm import tqdm\n",
    "\n",
    "#Using newest versions of all libraries"
   ]
  },
  {
   "cell_type": "code",
   "execution_count": 8,
   "metadata": {},
   "outputs": [],
   "source": [
    "# import custom functions from src folder\n",
    "module_path = str(Path.cwd().parents[0] / \"src\")\n",
    "\n",
    "if module_path not in sys.path:\n",
    "    sys.path.append(module_path)\n",
    "\n",
    "from machine_learning import *\n",
    "from resnet import *\n",
    "from imcal import *\n",
    "from imcal import CalorimeterDataset\n",
    "from imcal import Hdf5Dataset\n",
    "from imcal import RandomRoll\n",
    "from imcal import plot_conf_matrix"
   ]
  },
  {
   "cell_type": "code",
   "execution_count": 9,
   "metadata": {},
   "outputs": [
    {
     "name": "stdout",
     "output_type": "stream",
     "text": [
      "resnet_1669726758\n",
      "Running on the GPU\n"
     ]
    }
   ],
   "source": [
    "#variables controlled by the user. Change these to fit your specific needs.\n",
    "TRAIN_N_EVENTS = 1000 #Number of events to process for each class. If higher than the available number of events an exception will be raised.\n",
    "TEST_N_EVENTS = 3000 #Number of events to process for each class. If higher than the available number of events an exception will be raised.\n",
    "RES = 50 #resolution\n",
    "\n",
    "#Data specification\n",
    "LABELS = [\"BH_n5_M8\", \"SPH_9\"] #for plotting\n",
    "CLASSES = len(LABELS) #The number of output nodes in the net, equal to the number of classes\n",
    "FILENAMES = [\"BH_n5_M8\", \"PP13-Sphaleron-THR9-FRZ15-NB0-NSUBPALL\"]\n",
    "FOLDERS = [\"BH\", \"sph\"]\n",
    "TRAIN_FILENAMES = [f\"{name}_res{RES}_10000_events.h5\" for name in FILENAMES]\n",
    "TEST_FILENAMES = [f\"{name}_test_res{RES}_3000_events.h5\" for name in FILENAMES]\n",
    "TRAIN_DATAPATHS = [f\"/disk/atlas3/data_MC/2dhistograms/{FOLDERS[i]}/{RES}/{TRAIN_FILENAMES[i]}\" for i in range(CLASSES)] #The path to the folder containing the training histogram files\n",
    "TEST_DATAPATHS = [f\"/disk/atlas3/data_MC/2dhistograms/{FOLDERS[i]}/{RES}/{TEST_FILENAMES[i]}\" for i in range(CLASSES)] #The path to the folder containing the testing histogram files\n",
    "SAVE_PATH = [\"/home/agrefsru/imcalML/results/\"]\n",
    "\n",
    "MODEL_NAME = f'resnet_{str(int(time.time()))}' #A unique name for the model\n",
    "print(MODEL_NAME)\n",
    "\n",
    "if torch.cuda.is_available():\n",
    "    DEVICE = torch.device(\"cuda\")\n",
    "    torch.cuda.empty_cache()\n",
    "    print(\"Running on the GPU\")\n",
    "else:\n",
    "    DEVICE = torch.device(\"cpu\")\n",
    "    print(\"Running on the CPU\")\n",
    "#Data processing\n",
    "#filters=[\"saturate\"]\n",
    "filters=None\n",
    "transforms = torch.nn.Sequential(\n",
    "        torchv.transforms.RandomVerticalFlip(),\n",
    "        #torchv.transforms.RandomHorizontalFlip(),\n",
    "        RandomRoll(1)\n",
    "    )\n",
    "transforms=None"
   ]
  },
  {
   "cell_type": "code",
   "execution_count": 10,
   "metadata": {},
   "outputs": [],
   "source": [
    "\n",
    "testpaths = [Path(path) for path in TEST_DATAPATHS]\n",
    "\n",
    "test_data = Hdf5Dataset(testpaths, [\"BH_n5_M8_test\", \"PP13-Sphaleron-THR9-FRZ15-NB0-NSUBPALL_test\"], DEVICE, \n",
    "                        shuffle=False, filters=filters, transform=None, event_limit=TEST_N_EVENTS)\n",
    "\n",
    "#test_data = load_datasets(testpaths, DEVICE, TEST_N_EVENTS, filters, transforms)\n",
    "\n",
    "df_labels = [\"n\", \"resolution\", \"training samples\", \"epochs\", \"learning rate\", \"transforms\", \"filters\", \"mean accuracy\", \"std accuracy\"]\n",
    "\n",
    "results = pd.DataFrame(columns=df_labels)\n",
    "\n",
    "transforms = torch.nn.Sequential(\n",
    "        torchv.transforms.RandomVerticalFlip(),\n",
    "        #torchv.transforms.RandomHorizontalFlip(),\n",
    "        RandomRoll(1)\n",
    "    )\n",
    "\n",
    "from resnet import ResNet18\n"
   ]
  },
  {
   "cell_type": "code",
   "execution_count": 15,
   "metadata": {},
   "outputs": [],
   "source": [
    "\n",
    "def experiment(df, testdata, n_train, n, epochs, lr, transforms):\n",
    "    scores = np.zeros(n)\n",
    "\n",
    "    \"\"\"traindata = Hdf5Dataset(TRAIN_DATAPATH, [\"BH_n5_M8\", \"PP13-Sphaleron-THR9-FRZ15-NB0-NSUBPALL\"], DEVICE, \n",
    "                        shuffle=True, transform=transforms, event_limit=n_train)\n",
    "    \"\"\"\n",
    "    trainpaths = [Path(path) for path in TRAIN_DATAPATHS]\n",
    "    traindata = load_datasets(trainpaths, DEVICE, n_train, filters, transforms)\n",
    "    #traindata = Hdf5Dataset(trainpaths, [\"BH_n5_M8\", \"PP13-Sphaleron-THR9-FRZ15-NB0-NSUBPALL\"], DEVICE, \n",
    "                       # shuffle=True, transform=transforms, event_limit=n_train)\n",
    "    for i in range(n):\n",
    "        print(f\"Iteration {i}\")\n",
    "        resnet = ResNet18(img_channels=3, num_classes=CLASSES)\n",
    "        resnet.to(DEVICE)\n",
    "        optimizer = optim.Adam(resnet.parameters(), lr=lr)\n",
    "        scheduler = torch.optim.lr_scheduler.CyclicLR(optimizer, base_lr=0.0001, max_lr=0.001,step_size_up=5,mode=\"exp_range\",gamma=0.85, cycle_momentum=False)\n",
    "        training_results = train(resnet, traindata, testdata, 2**8, epochs, RES, DEVICE, optimizer, scheduler)\n",
    "        truth, preds = predict(resnet, testdata, 100, RES, DEVICE)\n",
    "        accuracy = accuracy_score(truth, preds, normalize=True)\n",
    "        scores[i]= accuracy\n",
    "    data = {\"n\":n, \n",
    "            \"resolution\": RES,\n",
    "            \"training samples\": len(traindata), \n",
    "            \"epochs\" : epochs, \n",
    "            \"learning rate\" : lr, \n",
    "            \"transforms\"  : [transforms], \n",
    "            \"filters\" : filters, \n",
    "            \"mean accuracy\" : scores.mean(), \n",
    "            \"std accuracy\" : scores.std()}\n",
    "    new_data = pd.DataFrame(data)\n",
    "    new_df = pd.concat([df, new_data], ignore_index=True)\n",
    "    return new_df, training_results, resnet\n"
   ]
  },
  {
   "cell_type": "code",
   "execution_count": 12,
   "metadata": {},
   "outputs": [
    {
     "name": "stdout",
     "output_type": "stream",
     "text": [
      "Iteration 0\n"
     ]
    },
    {
     "name": "stderr",
     "output_type": "stream",
     "text": [
      "100%|██████████| 25/25 [09:40<00:00, 23.21s/it]\n",
      "100%|██████████| 60/60 [00:04<00:00, 13.67it/s]\n"
     ]
    },
    {
     "name": "stdout",
     "output_type": "stream",
     "text": [
      "Iteration 1\n"
     ]
    },
    {
     "name": "stderr",
     "output_type": "stream",
     "text": [
      "100%|██████████| 25/25 [09:19<00:00, 22.39s/it]\n",
      "100%|██████████| 60/60 [00:04<00:00, 14.13it/s]\n"
     ]
    },
    {
     "name": "stdout",
     "output_type": "stream",
     "text": [
      "Iteration 2\n"
     ]
    },
    {
     "name": "stderr",
     "output_type": "stream",
     "text": [
      "100%|██████████| 25/25 [09:21<00:00, 22.46s/it]\n",
      "100%|██████████| 60/60 [00:04<00:00, 13.62it/s]\n"
     ]
    },
    {
     "name": "stdout",
     "output_type": "stream",
     "text": [
      "Iteration 3\n"
     ]
    },
    {
     "name": "stderr",
     "output_type": "stream",
     "text": [
      "100%|██████████| 25/25 [09:44<00:00, 23.36s/it]\n",
      "100%|██████████| 60/60 [00:04<00:00, 13.66it/s]\n"
     ]
    },
    {
     "name": "stdout",
     "output_type": "stream",
     "text": [
      "Iteration 4\n"
     ]
    },
    {
     "name": "stderr",
     "output_type": "stream",
     "text": [
      "100%|██████████| 25/25 [09:24<00:00, 22.57s/it]\n",
      "100%|██████████| 60/60 [00:04<00:00, 13.92it/s]\n"
     ]
    }
   ],
   "source": [
    "#Run n experiments to find statistics on accuracy\n",
    "transforms = torch.nn.Sequential(\n",
    "        torchv.transforms.RandomVerticalFlip(),\n",
    "        #torchv.transforms.RandomHorizontalFlip(),\n",
    "        RandomRoll(1)\n",
    "    )\n",
    "results, training_results, resnet = experiment(df=results, n_train=10000, testdata=test_data, \n",
    "                                                n=5, epochs=25, lr=0.0001, transforms=transforms)"
   ]
  },
  {
   "cell_type": "code",
   "execution_count": 16,
   "metadata": {},
   "outputs": [
    {
     "name": "stdout",
     "output_type": "stream",
     "text": [
      "Loads data with transforms Sequential(\n",
      "  (0): RandomVerticalFlip(p=0.5)\n",
      "  (1): RandomRoll()\n",
      ") and filters None\n",
      "Loaded data with 10000 entries of shape (10000, 50, 50, 3).\n",
      "Check max value: 17778.150390625.\n",
      "Loaded data with 10000 entries of shape (10000, 50, 50, 3).\n",
      "Check max value: 13608.056640625.\n",
      "Data has shape torch.Size([50, 50, 3])\n",
      "There are 2 classes.\n",
      "Iteration 0\n"
     ]
    },
    {
     "name": "stderr",
     "output_type": "stream",
     "text": [
      "100%|██████████| 25/25 [02:53<00:00,  6.95s/it]\n",
      "100%|██████████| 60/60 [00:04<00:00, 13.77it/s]\n"
     ]
    },
    {
     "name": "stdout",
     "output_type": "stream",
     "text": [
      "Iteration 1\n"
     ]
    },
    {
     "name": "stderr",
     "output_type": "stream",
     "text": [
      "100%|██████████| 25/25 [02:53<00:00,  6.96s/it]\n",
      "100%|██████████| 60/60 [00:04<00:00, 13.65it/s]\n"
     ]
    },
    {
     "name": "stdout",
     "output_type": "stream",
     "text": [
      "Iteration 2\n"
     ]
    },
    {
     "name": "stderr",
     "output_type": "stream",
     "text": [
      "100%|██████████| 25/25 [02:53<00:00,  6.96s/it]\n",
      "100%|██████████| 60/60 [00:04<00:00, 13.70it/s]\n"
     ]
    },
    {
     "name": "stdout",
     "output_type": "stream",
     "text": [
      "Iteration 3\n"
     ]
    },
    {
     "name": "stderr",
     "output_type": "stream",
     "text": [
      "100%|██████████| 25/25 [02:54<00:00,  7.00s/it]\n",
      "100%|██████████| 60/60 [00:04<00:00, 13.33it/s]\n"
     ]
    },
    {
     "name": "stdout",
     "output_type": "stream",
     "text": [
      "Iteration 4\n"
     ]
    },
    {
     "name": "stderr",
     "output_type": "stream",
     "text": [
      "100%|██████████| 25/25 [02:54<00:00,  6.97s/it]\n",
      "100%|██████████| 60/60 [00:04<00:00, 13.69it/s]\n"
     ]
    }
   ],
   "source": [
    "#Run n experiments to find statistics on accuracy\n",
    "transforms = torch.nn.Sequential(\n",
    "        torchv.transforms.RandomVerticalFlip(),\n",
    "        #torchv.transforms.RandomHorizontalFlip(),\n",
    "        RandomRoll(0)\n",
    "    )\n",
    "results, training_results, resnet = experiment(df=results, n_train=10000, testdata=test_data, \n",
    "                                                n=5, epochs=25, lr=0.0001, transforms=transforms)"
   ]
  },
  {
   "cell_type": "code",
   "execution_count": 20,
   "metadata": {},
   "outputs": [
    {
     "name": "stdout",
     "output_type": "stream",
     "text": [
      "Loads data with transforms Sequential(\n",
      "  (0): RandomVerticalFlip(p=0.5)\n",
      "  (1): RandomRoll()\n",
      "  (2): RandomRoll()\n",
      ") and filters None\n",
      "Loaded data with 10000 entries of shape (10000, 50, 50, 3).\n",
      "Check max value: 17778.150390625.\n",
      "Loaded data with 10000 entries of shape (10000, 50, 50, 3).\n",
      "Check max value: 13608.056640625.\n",
      "Data has shape torch.Size([50, 50, 3])\n",
      "There are 2 classes.\n",
      "Iteration 0\n"
     ]
    },
    {
     "name": "stderr",
     "output_type": "stream",
     "text": [
      "100%|██████████| 25/25 [03:05<00:00,  7.41s/it]\n",
      "100%|██████████| 60/60 [00:04<00:00, 13.97it/s]\n"
     ]
    },
    {
     "name": "stdout",
     "output_type": "stream",
     "text": [
      "Iteration 1\n"
     ]
    },
    {
     "name": "stderr",
     "output_type": "stream",
     "text": [
      "100%|██████████| 25/25 [03:04<00:00,  7.36s/it]\n",
      "100%|██████████| 60/60 [00:04<00:00, 14.35it/s]\n"
     ]
    },
    {
     "name": "stdout",
     "output_type": "stream",
     "text": [
      "Iteration 2\n"
     ]
    },
    {
     "name": "stderr",
     "output_type": "stream",
     "text": [
      "100%|██████████| 25/25 [03:04<00:00,  7.36s/it]\n",
      "100%|██████████| 60/60 [00:04<00:00, 13.77it/s]\n"
     ]
    },
    {
     "name": "stdout",
     "output_type": "stream",
     "text": [
      "Iteration 3\n"
     ]
    },
    {
     "name": "stderr",
     "output_type": "stream",
     "text": [
      "100%|██████████| 25/25 [03:04<00:00,  7.37s/it]\n",
      "100%|██████████| 60/60 [00:04<00:00, 14.16it/s]\n"
     ]
    },
    {
     "name": "stdout",
     "output_type": "stream",
     "text": [
      "Iteration 4\n"
     ]
    },
    {
     "name": "stderr",
     "output_type": "stream",
     "text": [
      "100%|██████████| 25/25 [03:04<00:00,  7.36s/it]\n",
      "100%|██████████| 60/60 [00:04<00:00, 13.94it/s]\n"
     ]
    }
   ],
   "source": [
    "#Run n experiments to find statistics on accuracy\n",
    "transforms = torch.nn.Sequential(\n",
    "        torchv.transforms.RandomVerticalFlip(),\n",
    "        #torchv.transforms.RandomHorizontalFlip(),\n",
    "        RandomRoll(1),\n",
    "        RandomRoll(0)\n",
    "    )\n",
    "results, training_results, resnet = experiment(df=results, n_train=10000, testdata=test_data, \n",
    "                                                n=5, epochs=25, lr=0.0001, transforms=transforms)"
   ]
  },
  {
   "cell_type": "code",
   "execution_count": 21,
   "metadata": {},
   "outputs": [
    {
     "name": "stdout",
     "output_type": "stream",
     "text": [
      "Loads data with transforms Sequential(\n",
      "  (0): RandomRoll()\n",
      "  (1): RandomRoll()\n",
      ") and filters None\n",
      "Loaded data with 10000 entries of shape (10000, 50, 50, 3).\n",
      "Check max value: 17778.150390625.\n",
      "Loaded data with 10000 entries of shape (10000, 50, 50, 3).\n",
      "Check max value: 13608.056640625.\n",
      "Data has shape torch.Size([50, 50, 3])\n",
      "There are 2 classes.\n",
      "Iteration 0\n"
     ]
    },
    {
     "name": "stderr",
     "output_type": "stream",
     "text": [
      "100%|██████████| 25/25 [02:51<00:00,  6.86s/it]\n",
      "100%|██████████| 60/60 [00:04<00:00, 13.90it/s]\n"
     ]
    },
    {
     "name": "stdout",
     "output_type": "stream",
     "text": [
      "Iteration 1\n"
     ]
    },
    {
     "name": "stderr",
     "output_type": "stream",
     "text": [
      "100%|██████████| 25/25 [02:51<00:00,  6.85s/it]\n",
      "100%|██████████| 60/60 [00:04<00:00, 14.11it/s]\n"
     ]
    },
    {
     "name": "stdout",
     "output_type": "stream",
     "text": [
      "Iteration 2\n"
     ]
    },
    {
     "name": "stderr",
     "output_type": "stream",
     "text": [
      "100%|██████████| 25/25 [02:51<00:00,  6.85s/it]\n",
      "100%|██████████| 60/60 [00:04<00:00, 13.80it/s]\n"
     ]
    },
    {
     "name": "stdout",
     "output_type": "stream",
     "text": [
      "Iteration 3\n"
     ]
    },
    {
     "name": "stderr",
     "output_type": "stream",
     "text": [
      "100%|██████████| 25/25 [02:52<00:00,  6.88s/it]\n",
      "100%|██████████| 60/60 [00:04<00:00, 13.86it/s]\n"
     ]
    },
    {
     "name": "stdout",
     "output_type": "stream",
     "text": [
      "Iteration 4\n"
     ]
    },
    {
     "name": "stderr",
     "output_type": "stream",
     "text": [
      "100%|██████████| 25/25 [02:51<00:00,  6.85s/it]\n",
      "100%|██████████| 60/60 [00:04<00:00, 13.63it/s]\n"
     ]
    }
   ],
   "source": [
    "#Run n experiments to find statistics on accuracy\n",
    "transforms = torch.nn.Sequential(\n",
    "        #torchv.transforms.RandomVerticalFlip(),\n",
    "        #torchv.transforms.RandomHorizontalFlip(),\n",
    "        RandomRoll(1),\n",
    "        RandomRoll(0)\n",
    "    )\n",
    "results, training_results, resnet = experiment(df=results, n_train=10000, testdata=test_data, \n",
    "                                                n=5, epochs=25, lr=0.0001, transforms=transforms)"
   ]
  },
  {
   "cell_type": "code",
   "execution_count": 22,
   "metadata": {},
   "outputs": [
    {
     "name": "stdout",
     "output_type": "stream",
     "text": [
      "Loads data with transforms Sequential(\n",
      "  (0): RandomVerticalFlip(p=0.5)\n",
      "  (1): RandomHorizontalFlip(p=0.5)\n",
      "  (2): RandomRoll()\n",
      "  (3): RandomRoll()\n",
      ") and filters None\n",
      "Loaded data with 10000 entries of shape (10000, 50, 50, 3).\n",
      "Check max value: 17778.150390625.\n",
      "Loaded data with 10000 entries of shape (10000, 50, 50, 3).\n",
      "Check max value: 13608.056640625.\n",
      "Data has shape torch.Size([50, 50, 3])\n",
      "There are 2 classes.\n",
      "Iteration 0\n"
     ]
    },
    {
     "name": "stderr",
     "output_type": "stream",
     "text": [
      "100%|██████████| 25/25 [03:20<00:00,  8.00s/it]\n",
      "100%|██████████| 60/60 [00:04<00:00, 13.61it/s]\n"
     ]
    },
    {
     "name": "stdout",
     "output_type": "stream",
     "text": [
      "Iteration 1\n"
     ]
    },
    {
     "name": "stderr",
     "output_type": "stream",
     "text": [
      "100%|██████████| 25/25 [03:20<00:00,  8.02s/it]\n",
      "100%|██████████| 60/60 [00:04<00:00, 13.58it/s]\n"
     ]
    },
    {
     "name": "stdout",
     "output_type": "stream",
     "text": [
      "Iteration 2\n"
     ]
    },
    {
     "name": "stderr",
     "output_type": "stream",
     "text": [
      "100%|██████████| 25/25 [03:19<00:00,  7.99s/it]\n",
      "100%|██████████| 60/60 [00:04<00:00, 13.60it/s]\n"
     ]
    },
    {
     "name": "stdout",
     "output_type": "stream",
     "text": [
      "Iteration 3\n"
     ]
    },
    {
     "name": "stderr",
     "output_type": "stream",
     "text": [
      "100%|██████████| 25/25 [03:21<00:00,  8.04s/it]\n",
      "100%|██████████| 60/60 [00:04<00:00, 13.55it/s]\n"
     ]
    },
    {
     "name": "stdout",
     "output_type": "stream",
     "text": [
      "Iteration 4\n"
     ]
    },
    {
     "name": "stderr",
     "output_type": "stream",
     "text": [
      "100%|██████████| 25/25 [03:19<00:00,  7.99s/it]\n",
      "100%|██████████| 60/60 [00:04<00:00, 13.73it/s]\n"
     ]
    }
   ],
   "source": [
    "#Run n experiments to find statistics on accuracy\n",
    "transforms = torch.nn.Sequential(\n",
    "        torchv.transforms.RandomVerticalFlip(),\n",
    "        torchv.transforms.RandomHorizontalFlip(),\n",
    "        RandomRoll(1),\n",
    "        RandomRoll(0)\n",
    "    )\n",
    "results, training_results, resnet = experiment(df=results, n_train=10000, testdata=test_data, \n",
    "                                                n=5, epochs=25, lr=0.0001, transforms=transforms)"
   ]
  },
  {
   "cell_type": "code",
   "execution_count": 23,
   "metadata": {},
   "outputs": [
    {
     "name": "stdout",
     "output_type": "stream",
     "text": [
      "Loads data with transforms None and filters None\n",
      "Loaded data with 10000 entries of shape (10000, 50, 50, 3).\n",
      "Check max value: 17778.150390625.\n",
      "Loaded data with 10000 entries of shape (10000, 50, 50, 3).\n",
      "Check max value: 13608.056640625.\n",
      "Data has shape torch.Size([50, 50, 3])\n",
      "There are 2 classes.\n",
      "Iteration 0\n"
     ]
    },
    {
     "name": "stderr",
     "output_type": "stream",
     "text": [
      "100%|██████████| 25/25 [02:31<00:00,  6.07s/it]\n",
      "100%|██████████| 60/60 [00:04<00:00, 13.75it/s]\n"
     ]
    },
    {
     "name": "stdout",
     "output_type": "stream",
     "text": [
      "Iteration 1\n"
     ]
    },
    {
     "name": "stderr",
     "output_type": "stream",
     "text": [
      "100%|██████████| 25/25 [02:32<00:00,  6.08s/it]\n",
      "100%|██████████| 60/60 [00:04<00:00, 13.92it/s]\n"
     ]
    },
    {
     "name": "stdout",
     "output_type": "stream",
     "text": [
      "Iteration 2\n"
     ]
    },
    {
     "name": "stderr",
     "output_type": "stream",
     "text": [
      "100%|██████████| 25/25 [02:32<00:00,  6.08s/it]\n",
      "100%|██████████| 60/60 [00:04<00:00, 13.81it/s]\n"
     ]
    },
    {
     "name": "stdout",
     "output_type": "stream",
     "text": [
      "Iteration 3\n"
     ]
    },
    {
     "name": "stderr",
     "output_type": "stream",
     "text": [
      "100%|██████████| 25/25 [02:31<00:00,  6.08s/it]\n",
      "100%|██████████| 60/60 [00:04<00:00, 13.85it/s]\n"
     ]
    },
    {
     "name": "stdout",
     "output_type": "stream",
     "text": [
      "Iteration 4\n"
     ]
    },
    {
     "name": "stderr",
     "output_type": "stream",
     "text": [
      "100%|██████████| 25/25 [02:32<00:00,  6.09s/it]\n",
      "100%|██████████| 60/60 [00:04<00:00, 13.81it/s]\n"
     ]
    }
   ],
   "source": [
    "#Run n experiments to find statistics on accuracy\n",
    "\n",
    "results, training_results, resnet = experiment(df=results, n_train=10000, testdata=test_data, \n",
    "                                                n=5, epochs=25, lr=0.0001, transforms=None)"
   ]
  },
  {
   "cell_type": "code",
   "execution_count": 24,
   "metadata": {},
   "outputs": [
    {
     "data": {
      "text/html": [
       "<div>\n",
       "<style scoped>\n",
       "    .dataframe tbody tr th:only-of-type {\n",
       "        vertical-align: middle;\n",
       "    }\n",
       "\n",
       "    .dataframe tbody tr th {\n",
       "        vertical-align: top;\n",
       "    }\n",
       "\n",
       "    .dataframe thead th {\n",
       "        text-align: right;\n",
       "    }\n",
       "</style>\n",
       "<table border=\"1\" class=\"dataframe\">\n",
       "  <thead>\n",
       "    <tr style=\"text-align: right;\">\n",
       "      <th></th>\n",
       "      <th>n</th>\n",
       "      <th>resolution</th>\n",
       "      <th>training samples</th>\n",
       "      <th>epochs</th>\n",
       "      <th>learning rate</th>\n",
       "      <th>transforms</th>\n",
       "      <th>filters</th>\n",
       "      <th>mean accuracy</th>\n",
       "      <th>std accuracy</th>\n",
       "    </tr>\n",
       "  </thead>\n",
       "  <tbody>\n",
       "    <tr>\n",
       "      <th>0</th>\n",
       "      <td>5</td>\n",
       "      <td>50</td>\n",
       "      <td>20000</td>\n",
       "      <td>25</td>\n",
       "      <td>0.0001</td>\n",
       "      <td>[RandomVerticalFlip(p=0.5), RandomRoll()]</td>\n",
       "      <td>None</td>\n",
       "      <td>0.856667</td>\n",
       "      <td>0.009118</td>\n",
       "    </tr>\n",
       "    <tr>\n",
       "      <th>1</th>\n",
       "      <td>5</td>\n",
       "      <td>50</td>\n",
       "      <td>20000</td>\n",
       "      <td>25</td>\n",
       "      <td>0.0001</td>\n",
       "      <td>[RandomVerticalFlip(p=0.5), RandomRoll()]</td>\n",
       "      <td>None</td>\n",
       "      <td>0.857167</td>\n",
       "      <td>0.007021</td>\n",
       "    </tr>\n",
       "    <tr>\n",
       "      <th>2</th>\n",
       "      <td>5</td>\n",
       "      <td>50</td>\n",
       "      <td>20000</td>\n",
       "      <td>25</td>\n",
       "      <td>0.0001</td>\n",
       "      <td>[RandomVerticalFlip(p=0.5), RandomRoll(), Rand...</td>\n",
       "      <td>None</td>\n",
       "      <td>0.863667</td>\n",
       "      <td>0.002292</td>\n",
       "    </tr>\n",
       "    <tr>\n",
       "      <th>3</th>\n",
       "      <td>5</td>\n",
       "      <td>50</td>\n",
       "      <td>20000</td>\n",
       "      <td>25</td>\n",
       "      <td>0.0001</td>\n",
       "      <td>[RandomRoll(), RandomRoll()]</td>\n",
       "      <td>None</td>\n",
       "      <td>0.863233</td>\n",
       "      <td>0.004078</td>\n",
       "    </tr>\n",
       "    <tr>\n",
       "      <th>4</th>\n",
       "      <td>5</td>\n",
       "      <td>50</td>\n",
       "      <td>20000</td>\n",
       "      <td>25</td>\n",
       "      <td>0.0001</td>\n",
       "      <td>[RandomVerticalFlip(p=0.5), RandomHorizontalFl...</td>\n",
       "      <td>None</td>\n",
       "      <td>0.838133</td>\n",
       "      <td>0.028082</td>\n",
       "    </tr>\n",
       "    <tr>\n",
       "      <th>5</th>\n",
       "      <td>5</td>\n",
       "      <td>50</td>\n",
       "      <td>20000</td>\n",
       "      <td>25</td>\n",
       "      <td>0.0001</td>\n",
       "      <td>None</td>\n",
       "      <td>None</td>\n",
       "      <td>0.793867</td>\n",
       "      <td>0.012071</td>\n",
       "    </tr>\n",
       "  </tbody>\n",
       "</table>\n",
       "</div>"
      ],
      "text/plain": [
       "   n resolution training samples epochs learning rate  \\\n",
       "0  5         50            20000     25        0.0001   \n",
       "1  5         50            20000     25        0.0001   \n",
       "2  5         50            20000     25        0.0001   \n",
       "3  5         50            20000     25        0.0001   \n",
       "4  5         50            20000     25        0.0001   \n",
       "5  5         50            20000     25        0.0001   \n",
       "\n",
       "                                          transforms filters mean accuracy  \\\n",
       "0          [RandomVerticalFlip(p=0.5), RandomRoll()]    None      0.856667   \n",
       "1          [RandomVerticalFlip(p=0.5), RandomRoll()]    None      0.857167   \n",
       "2  [RandomVerticalFlip(p=0.5), RandomRoll(), Rand...    None      0.863667   \n",
       "3                       [RandomRoll(), RandomRoll()]    None      0.863233   \n",
       "4  [RandomVerticalFlip(p=0.5), RandomHorizontalFl...    None      0.838133   \n",
       "5                                               None    None      0.793867   \n",
       "\n",
       "  std accuracy  \n",
       "0     0.009118  \n",
       "1     0.007021  \n",
       "2     0.002292  \n",
       "3     0.004078  \n",
       "4     0.028082  \n",
       "5     0.012071  "
      ]
     },
     "execution_count": 24,
     "metadata": {},
     "output_type": "execute_result"
    }
   ],
   "source": [
    "results"
   ]
  },
  {
   "cell_type": "code",
   "execution_count": 25,
   "metadata": {},
   "outputs": [
    {
     "name": "stdout",
     "output_type": "stream",
     "text": [
      "['/disk/atlas3/data_MC/2dhistograms/BH/50/BH_n5_M8_res50_10000_events.h5', '/disk/atlas3/data_MC/2dhistograms/sph/50/PP13-Sphaleron-THR9-FRZ15-NB0-NSUBPALL_res50_10000_events.h5']\n"
     ]
    }
   ],
   "source": [
    "results.to_csv(f\"{SAVE_PATH}/{MODEL_NAME}_results.csv\")\n",
    "results.to_pickle(f\"{SAVE_PATH}/{MODEL_NAME}_results.pkl\")"
   ]
  },
  {
   "cell_type": "code",
   "execution_count": 26,
   "metadata": {},
   "outputs": [
    {
     "data": {
      "text/plain": [
       "<AxesSubplot:xlabel='Iteration'>"
      ]
     },
     "execution_count": 26,
     "metadata": {},
     "output_type": "execute_result"
    },
    {
     "data": {
      "image/png": "[encoded data removed]",
      "text/plain": [
       "<Figure size 864x360 with 2 Axes>"
      ]
     },
     "metadata": {
      "needs_background": "light"
     },
     "output_type": "display_data"
    }
   ],
   "source": [
    "fig, axs = plt.subplots(nrows = 1, ncols = 2, figsize = (12, 5))\n",
    "training_results.plot(\"Iteration\", [\"Accuracy\", \"Validation accuracy\"], ax=axs[0], \n",
    "                    title=\"Mean validation accuracy: \" + str(round(training_results[\"Validation accuracy\"].mean(), 2)))\n",
    "training_results.plot(\"Iteration\", [\"Loss\", \"Validation loss\"], ax=axs[1])\n",
    "#axs[0].set_ylim(0.6, 1)"
   ]
  },
  {
   "cell_type": "code",
   "execution_count": 27,
   "metadata": {},
   "outputs": [
    {
     "name": "stderr",
     "output_type": "stream",
     "text": [
      "100%|██████████| 60/60 [00:04<00:00, 13.67it/s]\n"
     ]
    },
    {
     "data": {
      "image/png": "[encoded data removed]",
      "text/plain": [
       "<Figure size 576x576 with 1 Axes>"
      ]
     },
     "metadata": {
      "needs_background": "light"
     },
     "output_type": "display_data"
    }
   ],
   "source": [
    "truth, preds = predict(resnet, test_data, 100, RES, DEVICE)\n",
    "confusion = pd.DataFrame(dict(zip([\"Truth\", \"Predictions\"], [truth, preds])))\n",
    "accuracy = accuracy_score(truth, preds, normalize=True)\n",
    "plot_conf_matrix(confusion, accuracy, LABELS)"
   ]
  }
 ],
 "metadata": {
  "kernelspec": {
   "display_name": "Python 3.9.7 ('matrices': conda)",
   "language": "python",
   "name": "python3"
  },
  "language_info": {
   "codemirror_mode": {
    "name": "ipython",
    "version": 3
   },
   "file_extension": ".py",
   "mimetype": "text/x-python",
   "name": "python",
   "nbconvert_exporter": "python",
   "pygments_lexer": "ipython3",
   "version": "3.9.7"
  },
  "orig_nbformat": 4,
  "vscode": {
   "interpreter": {
    "hash": "5b1332e5a07ce33895000dbe941ad9cee852d3baee8993fa123c6057492c40e7"
   }
  }
 },
 "nbformat": 4,
 "nbformat_minor": 2
}

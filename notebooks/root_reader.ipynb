{
 "cells": [
  {
   "cell_type": "code",
   "execution_count": 2,
   "id": "6422a9ac",
   "metadata": {},
   "outputs": [],
   "source": [
    "import numpy as np\n",
    "import matplotlib.pyplot as plt\n",
    "import pandas as pd\n",
    "import uproot\n",
    "import awkward as ak"
   ]
  },
  {
   "cell_type": "code",
   "execution_count": 3,
   "id": "29a730df",
   "metadata": {},
   "outputs": [],
   "source": [
    "#data_path = \"/disk/atlas3/data_MC/ATLASOpen/jets/part1.root\" \n",
    "data_path = \"../../Delphes-3.5.0/delphes_output.root:Delphes\" "
   ]
  },
  {
   "cell_type": "markdown",
   "id": "9aa1309f",
   "metadata": {},
   "source": [
    "These are some examples of how to look at root files using uproot and awkward arrays. More info in this tutorial:\n",
    "https://hub.gke2.mybinder.org/user/jpivarski-2020--ep2020-tutorial-7h7oraqf/lab/tree/tutorial.ipynb\n"
   ]
  },
  {
   "cell_type": "code",
   "execution_count": 11,
   "id": "d0e08570",
   "metadata": {},
   "outputs": [],
   "source": [
    "#Open file in with-function will close it when you exit\n",
    "def look(rootfile:str):\n",
    "    with uproot.open(rootfile) as file:\n",
    "        keys = file.keys()\n",
    "        #print(keys)\n",
    "        #print(file.show())\n",
    "        print(file[\"Tower\"].keys())\n",
    "        #print(file[\"Tower\"][\"Tower.ET\"].array())\n",
    "\n",
    "def load_data(rootfile:str, branch:str, keys:list):\n",
    "    with uproot.open(rootfile) as file:\n",
    "        valid_list = [key in file.keys() for key in keys]\n",
    "        if valid_list:\n",
    "            arr = file[branch].arrays(keys, library=\"ak\", how=\"zip\")\n",
    "            return arr[branch]\n",
    "        else:\n",
    "            print(keys[not(valid_list)], \" not present in data.\")\n",
    "\n",
    "\n",
    "#look(data_path)\n",
    "clusters = load_data(data_path, \"Tower\", [\"Tower.ET\", \"Tower.Eta\", \"Tower.Phi\", \"Tower.Eem\", \"Tower.Ehad\"])"
   ]
  },
  {
   "cell_type": "code",
   "execution_count": 12,
   "id": "61a9dd5c",
   "metadata": {},
   "outputs": [
    {
     "data": {
      "text/plain": [
       "['ET', 'Eta', 'Phi', 'Eem', 'Ehad']"
      ]
     },
     "execution_count": 12,
     "metadata": {},
     "output_type": "execute_result"
    }
   ],
   "source": [
    "ak.fields(clusters)"
   ]
  },
  {
   "cell_type": "code",
   "execution_count": 13,
   "id": "6eab1c87",
   "metadata": {},
   "outputs": [],
   "source": [
    "clusters[\"EZ\"] = clusters[\"ET\"]*np.sinh(clusters[\"Eta\"])\n",
    "clusters[\"EX\"] = clusters[\"ET\"]*np.cos(clusters[\"Phi\"])\n",
    "clusters[\"EY\"] = clusters[\"ET\"]*np.sin(clusters[\"Phi\"])"
   ]
  },
  {
   "cell_type": "code",
   "execution_count": null,
   "id": "d3c1dfd0",
   "metadata": {},
   "outputs": [],
   "source": [
    "#Extracting data for plotting\n",
    "eta = ak.to_list(clusters.Eta[:,0])\n",
    "phi = ak.to_list(clusters.clusters.phi[:,0])\n",
    "E = ak.to_list(clusters.clusters.E[:,0])\n"
   ]
  }
 ],
 "metadata": {
  "kernelspec": {
   "display_name": "Python 3",
   "language": "python",
   "name": "python3"
  },
  "language_info": {
   "codemirror_mode": {
    "name": "ipython",
    "version": 3
   },
   "file_extension": ".py",
   "mimetype": "text/x-python",
   "name": "python",
   "nbconvert_exporter": "python",
   "pygments_lexer": "ipython3",
   "version": "3.9.7"
  }
 },
 "nbformat": 4,
 "nbformat_minor": 5
}

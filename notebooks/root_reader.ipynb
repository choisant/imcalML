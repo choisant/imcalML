{
 "cells": [
  {
   "cell_type": "code",
   "execution_count": 1,
   "id": "6422a9ac",
   "metadata": {},
   "outputs": [],
   "source": [
    "import numpy as np\n",
    "import matplotlib.pyplot as plt\n",
    "import pandas as pd\n",
    "import uproot\n",
    "import awkward as ak"
   ]
  },
  {
   "cell_type": "code",
   "execution_count": 2,
   "id": "29a730df",
   "metadata": {},
   "outputs": [],
   "source": [
    "data_path = \"/disk/atlas3/data_MC/ATLASOpen/jets/part1.root\" "
   ]
  },
  {
   "cell_type": "markdown",
   "id": "9aa1309f",
   "metadata": {},
   "source": [
    "These are some examples of how to look at root files using uproot and awkward arrays. More info in this tutorial:\n",
    "https://hub.gke2.mybinder.org/user/jpivarski-2020--ep2020-tutorial-7h7oraqf/lab/tree/tutorial.ipynb\n"
   ]
  },
  {
   "cell_type": "code",
   "execution_count": 3,
   "id": "d0e08570",
   "metadata": {},
   "outputs": [
    {
     "name": "stdout",
     "output_type": "stream",
     "text": [
      "['JetRecoTree;64', 'JetRecoTree;63']\n",
      "name                 | typename                 | interpretation                \n",
      "---------------------+--------------------------+-------------------------------\n",
      "EventNumber          | uint64_t                 | AsDtype('>u8')\n",
      "RunNumber            | uint64_t                 | AsDtype('>u8')\n",
      "EventWeight          | float                    | AsDtype('>f4')\n",
      "mu_average           | float                    | AsDtype('>f4')\n",
      "mu_actual            | float                    | AsDtype('>f4')\n",
      "NPV                  | uint32_t                 | AsDtype('>u4')\n",
      "Tracks_pt            | std::vector<float>       | AsJagged(AsDtype('>f4'), he...\n",
      "Tracks_eta           | std::vector<float>       | AsJagged(AsDtype('>f4'), he...\n",
      "Tracks_phi           | std::vector<float>       | AsJagged(AsDtype('>f4'), he...\n",
      "Tracks_m             | std::vector<float>       | AsJagged(AsDtype('>f4'), he...\n",
      "Tracks_vtx           | std::vector<int32_t>     | AsJagged(AsDtype('>i4'), he...\n",
      "Clusters_pt          | std::vector<float>       | AsJagged(AsDtype('>f4'), he...\n",
      "Clusters_eta         | std::vector<float>       | AsJagged(AsDtype('>f4'), he...\n",
      "Clusters_phi         | std::vector<float>       | AsJagged(AsDtype('>f4'), he...\n",
      "Clusters_m           | std::vector<float>       | AsJagged(AsDtype('>f4'), he...\n",
      "Particles_pt         | std::vector<float>       | AsJagged(AsDtype('>f4'), he...\n",
      "Particles_eta        | std::vector<float>       | AsJagged(AsDtype('>f4'), he...\n",
      "Particles_phi        | std::vector<float>       | AsJagged(AsDtype('>f4'), he...\n",
      "Particles_m          | std::vector<float>       | AsJagged(AsDtype('>f4'), he...\n",
      "Particles_pdgID      | std::vector<int32_t>     | AsJagged(AsDtype('>i4'), he...\n",
      "RecoJets_R4_pt       | std::vector<float>       | AsJagged(AsDtype('>f4'), he...\n",
      "RecoJets_R4_eta      | std::vector<float>       | AsJagged(AsDtype('>f4'), he...\n",
      "RecoJets_R4_phi      | std::vector<float>       | AsJagged(AsDtype('>f4'), he...\n",
      "RecoJets_R4_m        | std::vector<float>       | AsJagged(AsDtype('>f4'), he...\n",
      "RecoJets_R4_jvf      | std::vector<float>       | AsJagged(AsDtype('>f4'), he...\n",
      "TrackJets_R4_pt      | std::vector<float>       | AsJagged(AsDtype('>f4'), he...\n",
      "TrackJets_R4_eta     | std::vector<float>       | AsJagged(AsDtype('>f4'), he...\n",
      "TrackJets_R4_phi     | std::vector<float>       | AsJagged(AsDtype('>f4'), he...\n",
      "TrackJets_R4_m       | std::vector<float>       | AsJagged(AsDtype('>f4'), he...\n",
      "RecoJets_R10_pt      | std::vector<float>       | AsJagged(AsDtype('>f4'), he...\n",
      "RecoJets_R10_eta     | std::vector<float>       | AsJagged(AsDtype('>f4'), he...\n",
      "RecoJets_R10_phi     | std::vector<float>       | AsJagged(AsDtype('>f4'), he...\n",
      "RecoJets_R10_m       | std::vector<float>       | AsJagged(AsDtype('>f4'), he...\n",
      "RecoJets_R10_D2beta1 | std::vector<float>       | AsJagged(AsDtype('>f4'), he...\n",
      "RecoJets_R10_tau3... | std::vector<float>       | AsJagged(AsDtype('>f4'), he...\n",
      "RecoJets_R10_Trim... | std::vector<float>       | AsJagged(AsDtype('>f4'), he...\n",
      "RecoJets_R10_Trim... | std::vector<float>       | AsJagged(AsDtype('>f4'), he...\n",
      "RecoJets_R10_Trim... | std::vector<float>       | AsJagged(AsDtype('>f4'), he...\n",
      "RecoJets_R10_Trim... | std::vector<float>       | AsJagged(AsDtype('>f4'), he...\n",
      "RecoJets_R10_Trim... | std::vector<float>       | AsJagged(AsDtype('>f4'), he...\n",
      "RecoJets_R10_Trim... | std::vector<float>       | AsJagged(AsDtype('>f4'), he...\n",
      "TruthJets_R4_pt      | std::vector<float>       | AsJagged(AsDtype('>f4'), he...\n",
      "TruthJets_R4_eta     | std::vector<float>       | AsJagged(AsDtype('>f4'), he...\n",
      "TruthJets_R4_phi     | std::vector<float>       | AsJagged(AsDtype('>f4'), he...\n",
      "TruthJets_R4_m       | std::vector<float>       | AsJagged(AsDtype('>f4'), he...\n",
      "TruthJets_R10_pt     | std::vector<float>       | AsJagged(AsDtype('>f4'), he...\n",
      "TruthJets_R10_eta    | std::vector<float>       | AsJagged(AsDtype('>f4'), he...\n",
      "TruthJets_R10_phi    | std::vector<float>       | AsJagged(AsDtype('>f4'), he...\n",
      "TruthJets_R10_m      | std::vector<float>       | AsJagged(AsDtype('>f4'), he...\n",
      "TruthJets_R10_D2b... | std::vector<float>       | AsJagged(AsDtype('>f4'), he...\n",
      "TruthJets_R10_tau... | std::vector<float>       | AsJagged(AsDtype('>f4'), he...\n",
      "TruthJets_R10_Tri... | std::vector<float>       | AsJagged(AsDtype('>f4'), he...\n",
      "TruthJets_R10_Tri... | std::vector<float>       | AsJagged(AsDtype('>f4'), he...\n",
      "TruthJets_R10_Tri... | std::vector<float>       | AsJagged(AsDtype('>f4'), he...\n",
      "TruthJets_R10_Tri... | std::vector<float>       | AsJagged(AsDtype('>f4'), he...\n",
      "TruthJets_R10_Tri... | std::vector<float>       | AsJagged(AsDtype('>f4'), he...\n",
      "TruthJets_R10_Tri... | std::vector<float>       | AsJagged(AsDtype('>f4'), he...\n",
      "None\n"
     ]
    }
   ],
   "source": [
    "#Open file in with-function will close it when you exit\n",
    "def look(rootfile:str):\n",
    "    with uproot.open(rootfile) as file:\n",
    "        keys = file.keys()\n",
    "        print(keys)\n",
    "        print(file[keys[0]].show())\n",
    "\n",
    "look(data_path)"
   ]
  },
  {
   "cell_type": "code",
   "execution_count": 4,
   "id": "d23a1f83",
   "metadata": {},
   "outputs": [],
   "source": [
    "tree = uproot.open(data_path+\":JetRecoTree\")\n",
    "events = tree.arrays(library=\"ak\", how=\"zip\")"
   ]
  },
  {
   "cell_type": "code",
   "execution_count": 5,
   "id": "61a9dd5c",
   "metadata": {},
   "outputs": [],
   "source": [
    "clusters = events[\"Clusters\", [\"pt\", \"eta\", \"phi\", \"m\"]]"
   ]
  },
  {
   "cell_type": "code",
   "execution_count": 6,
   "id": "6eab1c87",
   "metadata": {},
   "outputs": [
    {
     "ename": "KeyboardInterrupt",
     "evalue": "",
     "output_type": "error",
     "traceback": [
      "\u001b[0;31m---------------------------------------------------------------------------\u001b[0m",
      "\u001b[0;31mKeyboardInterrupt\u001b[0m                         Traceback (most recent call last)",
      "\u001b[1;32m/home/agrefsru/imcalML/notebooks/root_reader.ipynb Cell 7'\u001b[0m in \u001b[0;36m<module>\u001b[0;34m\u001b[0m\n\u001b[1;32m      <a href='vscode-notebook-cell://ssh-remote%2Batlas3.ift.uib.no/home/agrefsru/imcalML/notebooks/root_reader.ipynb#ch0000006vscode-remote?line=0'>1</a>\u001b[0m clusters[\u001b[39m\"\u001b[39m\u001b[39mpz\u001b[39m\u001b[39m\"\u001b[39m] \u001b[39m=\u001b[39m clusters[\u001b[39m\"\u001b[39m\u001b[39mpt\u001b[39m\u001b[39m\"\u001b[39m]\u001b[39m*\u001b[39mnp\u001b[39m.\u001b[39msinh(clusters[\u001b[39m\"\u001b[39m\u001b[39meta\u001b[39m\u001b[39m\"\u001b[39m])\n\u001b[0;32m----> <a href='vscode-notebook-cell://ssh-remote%2Batlas3.ift.uib.no/home/agrefsru/imcalML/notebooks/root_reader.ipynb#ch0000006vscode-remote?line=1'>2</a>\u001b[0m clusters[\u001b[39m\"\u001b[39m\u001b[39mpx\u001b[39m\u001b[39m\"\u001b[39m] \u001b[39m=\u001b[39m clusters[\u001b[39m\"\u001b[39;49m\u001b[39mpt\u001b[39;49m\u001b[39m\"\u001b[39;49m]\u001b[39m*\u001b[39;49mnp\u001b[39m.\u001b[39;49mcos(clusters[\u001b[39m\"\u001b[39;49m\u001b[39mphi\u001b[39;49m\u001b[39m\"\u001b[39;49m])\n\u001b[1;32m      <a href='vscode-notebook-cell://ssh-remote%2Batlas3.ift.uib.no/home/agrefsru/imcalML/notebooks/root_reader.ipynb#ch0000006vscode-remote?line=2'>3</a>\u001b[0m clusters[\u001b[39m\"\u001b[39m\u001b[39mpy\u001b[39m\u001b[39m\"\u001b[39m] \u001b[39m=\u001b[39m clusters[\u001b[39m\"\u001b[39m\u001b[39mpt\u001b[39m\u001b[39m\"\u001b[39m]\u001b[39m*\u001b[39mnp\u001b[39m.\u001b[39msin(clusters[\u001b[39m\"\u001b[39m\u001b[39mphi\u001b[39m\u001b[39m\"\u001b[39m])\n",
      "File \u001b[0;32m~/.conda/envs/matrices/lib/python3.9/site-packages/numpy/lib/mixins.py:21\u001b[0m, in \u001b[0;36m_binary_method.<locals>.func\u001b[0;34m(self, other)\u001b[0m\n\u001b[1;32m     <a href='file:///~/.conda/envs/matrices/lib/python3.9/site-packages/numpy/lib/mixins.py?line=18'>19</a>\u001b[0m \u001b[39mif\u001b[39;00m _disables_array_ufunc(other):\n\u001b[1;32m     <a href='file:///~/.conda/envs/matrices/lib/python3.9/site-packages/numpy/lib/mixins.py?line=19'>20</a>\u001b[0m     \u001b[39mreturn\u001b[39;00m \u001b[39mNotImplemented\u001b[39m\n\u001b[0;32m---> <a href='file:///~/.conda/envs/matrices/lib/python3.9/site-packages/numpy/lib/mixins.py?line=20'>21</a>\u001b[0m \u001b[39mreturn\u001b[39;00m ufunc(\u001b[39mself\u001b[39;49m, other)\n",
      "File \u001b[0;32m~/.conda/envs/matrices/lib/python3.9/site-packages/awkward/highlevel.py:1418\u001b[0m, in \u001b[0;36mArray.__array_ufunc__\u001b[0;34m(self, ufunc, method, *inputs, **kwargs)\u001b[0m\n\u001b[1;32m   <a href='file:///~/.conda/envs/matrices/lib/python3.9/site-packages/awkward/highlevel.py?line=1360'>1361</a>\u001b[0m \u001b[39m\"\"\"\u001b[39;00m\n\u001b[1;32m   <a href='file:///~/.conda/envs/matrices/lib/python3.9/site-packages/awkward/highlevel.py?line=1361'>1362</a>\u001b[0m \u001b[39mIntercepts attempts to pass this Array to a NumPy\u001b[39;00m\n\u001b[1;32m   <a href='file:///~/.conda/envs/matrices/lib/python3.9/site-packages/awkward/highlevel.py?line=1362'>1363</a>\u001b[0m \u001b[39m[universal functions](https://docs.scipy.org/doc/numpy/reference/ufuncs.html)\u001b[39;00m\n\u001b[0;32m   (...)\u001b[0m\n\u001b[1;32m   <a href='file:///~/.conda/envs/matrices/lib/python3.9/site-packages/awkward/highlevel.py?line=1414'>1415</a>\u001b[0m \u001b[39mSee also #__array_function__.\u001b[39;00m\n\u001b[1;32m   <a href='file:///~/.conda/envs/matrices/lib/python3.9/site-packages/awkward/highlevel.py?line=1415'>1416</a>\u001b[0m \u001b[39m\"\"\"\u001b[39;00m\n\u001b[1;32m   <a href='file:///~/.conda/envs/matrices/lib/python3.9/site-packages/awkward/highlevel.py?line=1416'>1417</a>\u001b[0m \u001b[39mif\u001b[39;00m \u001b[39mnot\u001b[39;00m \u001b[39mhasattr\u001b[39m(\u001b[39mself\u001b[39m, \u001b[39m\"\u001b[39m\u001b[39m_tracers\u001b[39m\u001b[39m\"\u001b[39m):\n\u001b[0;32m-> <a href='file:///~/.conda/envs/matrices/lib/python3.9/site-packages/awkward/highlevel.py?line=1417'>1418</a>\u001b[0m     \u001b[39mreturn\u001b[39;00m ak\u001b[39m.\u001b[39;49m_connect\u001b[39m.\u001b[39;49m_numpy\u001b[39m.\u001b[39;49marray_ufunc(ufunc, method, inputs, kwargs)\n\u001b[1;32m   <a href='file:///~/.conda/envs/matrices/lib/python3.9/site-packages/awkward/highlevel.py?line=1418'>1419</a>\u001b[0m \u001b[39melse\u001b[39;00m:\n\u001b[1;32m   <a href='file:///~/.conda/envs/matrices/lib/python3.9/site-packages/awkward/highlevel.py?line=1419'>1420</a>\u001b[0m     \u001b[39mreturn\u001b[39;00m ak\u001b[39m.\u001b[39m_connect\u001b[39m.\u001b[39m_jax\u001b[39m.\u001b[39mjax_utils\u001b[39m.\u001b[39marray_ufunc(\n\u001b[1;32m   <a href='file:///~/.conda/envs/matrices/lib/python3.9/site-packages/awkward/highlevel.py?line=1420'>1421</a>\u001b[0m         \u001b[39mself\u001b[39m, ufunc, method, inputs, kwargs\n\u001b[1;32m   <a href='file:///~/.conda/envs/matrices/lib/python3.9/site-packages/awkward/highlevel.py?line=1421'>1422</a>\u001b[0m     )\n",
      "File \u001b[0;32m~/.conda/envs/matrices/lib/python3.9/site-packages/awkward/_connect/_numpy.py:264\u001b[0m, in \u001b[0;36marray_ufunc\u001b[0;34m(ufunc, method, inputs, kwargs)\u001b[0m\n\u001b[1;32m    <a href='file:///~/.conda/envs/matrices/lib/python3.9/site-packages/awkward/_connect/_numpy.py?line=253'>254</a>\u001b[0m         \u001b[39mraise\u001b[39;00m \u001b[39mValueError\u001b[39;00m(\n\u001b[1;32m    <a href='file:///~/.conda/envs/matrices/lib/python3.9/site-packages/awkward/_connect/_numpy.py?line=254'>255</a>\u001b[0m             \u001b[39m\"\u001b[39m\u001b[39mno overloads for custom types: \u001b[39m\u001b[39m{0}\u001b[39;00m\u001b[39m(\u001b[39m\u001b[39m{1}\u001b[39;00m\u001b[39m)\u001b[39m\u001b[39m\"\u001b[39m\u001b[39m.\u001b[39mformat(\n\u001b[1;32m    <a href='file:///~/.conda/envs/matrices/lib/python3.9/site-packages/awkward/_connect/_numpy.py?line=255'>256</a>\u001b[0m                 ufunc\u001b[39m.\u001b[39m\u001b[39m__name__\u001b[39m,\n\u001b[0;32m   (...)\u001b[0m\n\u001b[1;32m    <a href='file:///~/.conda/envs/matrices/lib/python3.9/site-packages/awkward/_connect/_numpy.py?line=258'>259</a>\u001b[0m             \u001b[39m+\u001b[39m ak\u001b[39m.\u001b[39m_util\u001b[39m.\u001b[39mexception_suffix(\u001b[39m__file__\u001b[39m)\n\u001b[1;32m    <a href='file:///~/.conda/envs/matrices/lib/python3.9/site-packages/awkward/_connect/_numpy.py?line=259'>260</a>\u001b[0m         )\n\u001b[1;32m    <a href='file:///~/.conda/envs/matrices/lib/python3.9/site-packages/awkward/_connect/_numpy.py?line=261'>262</a>\u001b[0m     \u001b[39mreturn\u001b[39;00m \u001b[39mNone\u001b[39;00m\n\u001b[0;32m--> <a href='file:///~/.conda/envs/matrices/lib/python3.9/site-packages/awkward/_connect/_numpy.py?line=263'>264</a>\u001b[0m out \u001b[39m=\u001b[39m ak\u001b[39m.\u001b[39;49m_util\u001b[39m.\u001b[39;49mbroadcast_and_apply(\n\u001b[1;32m    <a href='file:///~/.conda/envs/matrices/lib/python3.9/site-packages/awkward/_connect/_numpy.py?line=264'>265</a>\u001b[0m     inputs, getfunction, behavior, allow_records\u001b[39m=\u001b[39;49m\u001b[39mFalse\u001b[39;49;00m, pass_depth\u001b[39m=\u001b[39;49m\u001b[39mFalse\u001b[39;49;00m\n\u001b[1;32m    <a href='file:///~/.conda/envs/matrices/lib/python3.9/site-packages/awkward/_connect/_numpy.py?line=265'>266</a>\u001b[0m )\n\u001b[1;32m    <a href='file:///~/.conda/envs/matrices/lib/python3.9/site-packages/awkward/_connect/_numpy.py?line=266'>267</a>\u001b[0m \u001b[39massert\u001b[39;00m \u001b[39misinstance\u001b[39m(out, \u001b[39mtuple\u001b[39m) \u001b[39mand\u001b[39;00m \u001b[39mlen\u001b[39m(out) \u001b[39m==\u001b[39m \u001b[39m1\u001b[39m\n\u001b[1;32m    <a href='file:///~/.conda/envs/matrices/lib/python3.9/site-packages/awkward/_connect/_numpy.py?line=267'>268</a>\u001b[0m \u001b[39mreturn\u001b[39;00m ak\u001b[39m.\u001b[39m_util\u001b[39m.\u001b[39mwrap(out[\u001b[39m0\u001b[39m], behavior)\n",
      "File \u001b[0;32m~/.conda/envs/matrices/lib/python3.9/site-packages/awkward/_util.py:1182\u001b[0m, in \u001b[0;36mbroadcast_and_apply\u001b[0;34m(inputs, getfunction, behavior, allow_records, pass_depth, pass_user, user, left_broadcast, right_broadcast, numpy_to_regular, regular_to_jagged)\u001b[0m\n\u001b[1;32m   <a href='file:///~/.conda/envs/matrices/lib/python3.9/site-packages/awkward/_util.py?line=1179'>1180</a>\u001b[0m \u001b[39melse\u001b[39;00m:\n\u001b[1;32m   <a href='file:///~/.conda/envs/matrices/lib/python3.9/site-packages/awkward/_util.py?line=1180'>1181</a>\u001b[0m     isscalar \u001b[39m=\u001b[39m []\n\u001b[0;32m-> <a href='file:///~/.conda/envs/matrices/lib/python3.9/site-packages/awkward/_util.py?line=1181'>1182</a>\u001b[0m     out \u001b[39m=\u001b[39m apply(broadcast_pack(inputs, isscalar), \u001b[39m0\u001b[39;49m, user)\n\u001b[1;32m   <a href='file:///~/.conda/envs/matrices/lib/python3.9/site-packages/awkward/_util.py?line=1182'>1183</a>\u001b[0m     \u001b[39massert\u001b[39;00m \u001b[39misinstance\u001b[39m(out, \u001b[39mtuple\u001b[39m)\n\u001b[1;32m   <a href='file:///~/.conda/envs/matrices/lib/python3.9/site-packages/awkward/_util.py?line=1183'>1184</a>\u001b[0m     \u001b[39mreturn\u001b[39;00m \u001b[39mtuple\u001b[39m(broadcast_unpack(x, isscalar) \u001b[39mfor\u001b[39;00m x \u001b[39min\u001b[39;00m out)\n",
      "File \u001b[0;32m~/.conda/envs/matrices/lib/python3.9/site-packages/awkward/_util.py:944\u001b[0m, in \u001b[0;36mbroadcast_and_apply.<locals>.apply\u001b[0;34m(inputs, depth, user)\u001b[0m\n\u001b[1;32m    <a href='file:///~/.conda/envs/matrices/lib/python3.9/site-packages/awkward/_util.py?line=938'>939</a>\u001b[0m         nextinputs\u001b[39m.\u001b[39mappend(x)\n\u001b[1;32m    <a href='file:///~/.conda/envs/matrices/lib/python3.9/site-packages/awkward/_util.py?line=940'>941</a>\u001b[0m maxlen \u001b[39m=\u001b[39m \u001b[39mmax\u001b[39m(\n\u001b[1;32m    <a href='file:///~/.conda/envs/matrices/lib/python3.9/site-packages/awkward/_util.py?line=941'>942</a>\u001b[0m     [\u001b[39mlen\u001b[39m(x) \u001b[39mfor\u001b[39;00m x \u001b[39min\u001b[39;00m nextinputs \u001b[39mif\u001b[39;00m \u001b[39misinstance\u001b[39m(x, ak\u001b[39m.\u001b[39mlayout\u001b[39m.\u001b[39mContent)]\n\u001b[1;32m    <a href='file:///~/.conda/envs/matrices/lib/python3.9/site-packages/awkward/_util.py?line=942'>943</a>\u001b[0m )\n\u001b[0;32m--> <a href='file:///~/.conda/envs/matrices/lib/python3.9/site-packages/awkward/_util.py?line=943'>944</a>\u001b[0m outcontent \u001b[39m=\u001b[39m apply(nextinputs, depth \u001b[39m+\u001b[39;49m \u001b[39m1\u001b[39;49m, user)\n\u001b[1;32m    <a href='file:///~/.conda/envs/matrices/lib/python3.9/site-packages/awkward/_util.py?line=944'>945</a>\u001b[0m \u001b[39massert\u001b[39;00m \u001b[39misinstance\u001b[39m(outcontent, \u001b[39mtuple\u001b[39m)\n\u001b[1;32m    <a href='file:///~/.conda/envs/matrices/lib/python3.9/site-packages/awkward/_util.py?line=946'>947</a>\u001b[0m \u001b[39mreturn\u001b[39;00m \u001b[39mtuple\u001b[39m(\n\u001b[1;32m    <a href='file:///~/.conda/envs/matrices/lib/python3.9/site-packages/awkward/_util.py?line=947'>948</a>\u001b[0m     ak\u001b[39m.\u001b[39mlayout\u001b[39m.\u001b[39mRegularArray(x, maxsize, maxlen) \u001b[39mfor\u001b[39;00m x \u001b[39min\u001b[39;00m outcontent\n\u001b[1;32m    <a href='file:///~/.conda/envs/matrices/lib/python3.9/site-packages/awkward/_util.py?line=948'>949</a>\u001b[0m )\n",
      "File \u001b[0;32m~/.conda/envs/matrices/lib/python3.9/site-packages/awkward/_util.py:1038\u001b[0m, in \u001b[0;36mbroadcast_and_apply.<locals>.apply\u001b[0;34m(inputs, depth, user)\u001b[0m\n\u001b[1;32m   <a href='file:///~/.conda/envs/matrices/lib/python3.9/site-packages/awkward/_util.py?line=1034'>1035</a>\u001b[0m     \u001b[39melse\u001b[39;00m:\n\u001b[1;32m   <a href='file:///~/.conda/envs/matrices/lib/python3.9/site-packages/awkward/_util.py?line=1035'>1036</a>\u001b[0m         nextinputs\u001b[39m.\u001b[39mappend(x)\n\u001b[0;32m-> <a href='file:///~/.conda/envs/matrices/lib/python3.9/site-packages/awkward/_util.py?line=1037'>1038</a>\u001b[0m outcontent \u001b[39m=\u001b[39m apply(nextinputs, depth \u001b[39m+\u001b[39;49m \u001b[39m1\u001b[39;49m, user)\n\u001b[1;32m   <a href='file:///~/.conda/envs/matrices/lib/python3.9/site-packages/awkward/_util.py?line=1039'>1040</a>\u001b[0m \u001b[39mif\u001b[39;00m \u001b[39misinstance\u001b[39m(offsets, ak\u001b[39m.\u001b[39mlayout\u001b[39m.\u001b[39mIndex32):\n\u001b[1;32m   <a href='file:///~/.conda/envs/matrices/lib/python3.9/site-packages/awkward/_util.py?line=1040'>1041</a>\u001b[0m     \u001b[39mreturn\u001b[39;00m \u001b[39mtuple\u001b[39m(\n\u001b[1;32m   <a href='file:///~/.conda/envs/matrices/lib/python3.9/site-packages/awkward/_util.py?line=1041'>1042</a>\u001b[0m         ak\u001b[39m.\u001b[39mlayout\u001b[39m.\u001b[39mListOffsetArray32(offsets, x) \u001b[39mfor\u001b[39;00m x \u001b[39min\u001b[39;00m outcontent\n\u001b[1;32m   <a href='file:///~/.conda/envs/matrices/lib/python3.9/site-packages/awkward/_util.py?line=1042'>1043</a>\u001b[0m     )\n",
      "File \u001b[0;32m~/.conda/envs/matrices/lib/python3.9/site-packages/awkward/_util.py:755\u001b[0m, in \u001b[0;36mbroadcast_and_apply.<locals>.apply\u001b[0;34m(inputs, depth, user)\u001b[0m\n\u001b[1;32m    <a href='file:///~/.conda/envs/matrices/lib/python3.9/site-packages/awkward/_util.py?line=751'>752</a>\u001b[0m \u001b[39mif\u001b[39;00m pass_user:\n\u001b[1;32m    <a href='file:///~/.conda/envs/matrices/lib/python3.9/site-packages/awkward/_util.py?line=752'>753</a>\u001b[0m     args \u001b[39m=\u001b[39m args \u001b[39m+\u001b[39m (user,)\n\u001b[0;32m--> <a href='file:///~/.conda/envs/matrices/lib/python3.9/site-packages/awkward/_util.py?line=754'>755</a>\u001b[0m custom \u001b[39m=\u001b[39m getfunction(inputs, \u001b[39m*\u001b[39;49margs)\n\u001b[1;32m    <a href='file:///~/.conda/envs/matrices/lib/python3.9/site-packages/awkward/_util.py?line=755'>756</a>\u001b[0m \u001b[39mif\u001b[39;00m callable(custom):\n\u001b[1;32m    <a href='file:///~/.conda/envs/matrices/lib/python3.9/site-packages/awkward/_util.py?line=756'>757</a>\u001b[0m     \u001b[39mreturn\u001b[39;00m custom()\n",
      "File \u001b[0;32m~/.conda/envs/matrices/lib/python3.9/site-packages/awkward/_connect/_numpy.py:209\u001b[0m, in \u001b[0;36marray_ufunc.<locals>.getfunction\u001b[0;34m(inputs)\u001b[0m\n\u001b[1;32m    <a href='file:///~/.conda/envs/matrices/lib/python3.9/site-packages/awkward/_connect/_numpy.py?line=199'>200</a>\u001b[0m \u001b[39mif\u001b[39;00m \u001b[39mall\u001b[39m(\n\u001b[1;32m    <a href='file:///~/.conda/envs/matrices/lib/python3.9/site-packages/awkward/_connect/_numpy.py?line=200'>201</a>\u001b[0m     (\n\u001b[1;32m    <a href='file:///~/.conda/envs/matrices/lib/python3.9/site-packages/awkward/_connect/_numpy.py?line=201'>202</a>\u001b[0m         \u001b[39misinstance\u001b[39m(x, ak\u001b[39m.\u001b[39mlayout\u001b[39m.\u001b[39mNumpyArray)\n\u001b[0;32m   (...)\u001b[0m\n\u001b[1;32m    <a href='file:///~/.conda/envs/matrices/lib/python3.9/site-packages/awkward/_connect/_numpy.py?line=205'>206</a>\u001b[0m     \u001b[39mfor\u001b[39;00m x \u001b[39min\u001b[39;00m inputs\n\u001b[1;32m    <a href='file:///~/.conda/envs/matrices/lib/python3.9/site-packages/awkward/_connect/_numpy.py?line=206'>207</a>\u001b[0m ):\n\u001b[1;32m    <a href='file:///~/.conda/envs/matrices/lib/python3.9/site-packages/awkward/_connect/_numpy.py?line=207'>208</a>\u001b[0m     nplike \u001b[39m=\u001b[39m ak\u001b[39m.\u001b[39mnplike\u001b[39m.\u001b[39mof(\u001b[39m*\u001b[39minputs)\n\u001b[0;32m--> <a href='file:///~/.conda/envs/matrices/lib/python3.9/site-packages/awkward/_connect/_numpy.py?line=208'>209</a>\u001b[0m     result \u001b[39m=\u001b[39m \u001b[39mgetattr\u001b[39;49m(ufunc, method)(\n\u001b[1;32m    <a href='file:///~/.conda/envs/matrices/lib/python3.9/site-packages/awkward/_connect/_numpy.py?line=209'>210</a>\u001b[0m         \u001b[39m*\u001b[39;49m[nplike\u001b[39m.\u001b[39;49masarray(x) \u001b[39mfor\u001b[39;49;00m x \u001b[39min\u001b[39;49;00m inputs], \u001b[39m*\u001b[39;49m\u001b[39m*\u001b[39;49mkwargs\n\u001b[1;32m    <a href='file:///~/.conda/envs/matrices/lib/python3.9/site-packages/awkward/_connect/_numpy.py?line=210'>211</a>\u001b[0m     )\n\u001b[1;32m    <a href='file:///~/.conda/envs/matrices/lib/python3.9/site-packages/awkward/_connect/_numpy.py?line=211'>212</a>\u001b[0m     \u001b[39mreturn\u001b[39;00m \u001b[39mlambda\u001b[39;00m: (ak\u001b[39m.\u001b[39moperations\u001b[39m.\u001b[39mconvert\u001b[39m.\u001b[39mfrom_numpy(result, highlevel\u001b[39m=\u001b[39m\u001b[39mFalse\u001b[39;00m),)\n\u001b[1;32m    <a href='file:///~/.conda/envs/matrices/lib/python3.9/site-packages/awkward/_connect/_numpy.py?line=212'>213</a>\u001b[0m \u001b[39melif\u001b[39;00m \u001b[39mall\u001b[39m(\n\u001b[1;32m    <a href='file:///~/.conda/envs/matrices/lib/python3.9/site-packages/awkward/_connect/_numpy.py?line=213'>214</a>\u001b[0m     \u001b[39misinstance\u001b[39m(x, ak\u001b[39m.\u001b[39mlayout\u001b[39m.\u001b[39mNumpyArray) \u001b[39mand\u001b[39;00m (x\u001b[39m.\u001b[39mformat\u001b[39m.\u001b[39mupper()\u001b[39m.\u001b[39mstartswith(\u001b[39m\"\u001b[39m\u001b[39mM\u001b[39m\u001b[39m\"\u001b[39m))\n\u001b[1;32m    <a href='file:///~/.conda/envs/matrices/lib/python3.9/site-packages/awkward/_connect/_numpy.py?line=214'>215</a>\u001b[0m     \u001b[39mfor\u001b[39;00m x \u001b[39min\u001b[39;00m inputs\n\u001b[1;32m    <a href='file:///~/.conda/envs/matrices/lib/python3.9/site-packages/awkward/_connect/_numpy.py?line=215'>216</a>\u001b[0m ):\n",
      "\u001b[0;31mKeyboardInterrupt\u001b[0m: "
     ]
    }
   ],
   "source": [
    "clusters[\"pz\"] = clusters[\"pt\"]*np.sinh(clusters[\"eta\"])\n",
    "clusters[\"px\"] = clusters[\"pt\"]*np.cos(clusters[\"phi\"])\n",
    "clusters[\"py\"] = clusters[\"pt\"]*np.sin(clusters[\"phi\"])"
   ]
  },
  {
   "cell_type": "code",
   "execution_count": null,
   "id": "218d92a1",
   "metadata": {},
   "outputs": [],
   "source": [
    "clusters[\"n_jets\"] = ak.num(events[\"TruthJets_R10\"])"
   ]
  },
  {
   "cell_type": "code",
   "execution_count": null,
   "id": "c3b4aec0",
   "metadata": {},
   "outputs": [],
   "source": [
    "df = ak.to_pandas(clusters)"
   ]
  },
  {
   "cell_type": "code",
   "execution_count": null,
   "id": "71480a30",
   "metadata": {},
   "outputs": [
    {
     "data": {
      "text/html": [
       "<div>\n",
       "<style scoped>\n",
       "    .dataframe tbody tr th:only-of-type {\n",
       "        vertical-align: middle;\n",
       "    }\n",
       "\n",
       "    .dataframe tbody tr th {\n",
       "        vertical-align: top;\n",
       "    }\n",
       "\n",
       "    .dataframe thead th {\n",
       "        text-align: right;\n",
       "    }\n",
       "</style>\n",
       "<table border=\"1\" class=\"dataframe\">\n",
       "  <thead>\n",
       "    <tr style=\"text-align: right;\">\n",
       "      <th></th>\n",
       "      <th></th>\n",
       "      <th>pt</th>\n",
       "      <th>eta</th>\n",
       "      <th>phi</th>\n",
       "      <th>m</th>\n",
       "      <th>pz</th>\n",
       "      <th>px</th>\n",
       "      <th>py</th>\n",
       "      <th>n_jets</th>\n",
       "    </tr>\n",
       "    <tr>\n",
       "      <th>entry</th>\n",
       "      <th>subentry</th>\n",
       "      <th></th>\n",
       "      <th></th>\n",
       "      <th></th>\n",
       "      <th></th>\n",
       "      <th></th>\n",
       "      <th></th>\n",
       "      <th></th>\n",
       "      <th></th>\n",
       "    </tr>\n",
       "  </thead>\n",
       "  <tbody>\n",
       "    <tr>\n",
       "      <th rowspan=\"5\" valign=\"top\">0</th>\n",
       "      <th>0</th>\n",
       "      <td>1.421528e+06</td>\n",
       "      <td>0.714265</td>\n",
       "      <td>1.333796</td>\n",
       "      <td>0.0</td>\n",
       "      <td>1.103911e+06</td>\n",
       "      <td>333757.406250</td>\n",
       "      <td>1.381791e+06</td>\n",
       "      <td>3</td>\n",
       "    </tr>\n",
       "    <tr>\n",
       "      <th>1</th>\n",
       "      <td>6.517377e+05</td>\n",
       "      <td>0.568533</td>\n",
       "      <td>-1.618835</td>\n",
       "      <td>0.0</td>\n",
       "      <td>3.908210e+05</td>\n",
       "      <td>-31296.867188</td>\n",
       "      <td>-6.509858e+05</td>\n",
       "      <td>3</td>\n",
       "    </tr>\n",
       "    <tr>\n",
       "      <th>2</th>\n",
       "      <td>2.241711e+05</td>\n",
       "      <td>0.576099</td>\n",
       "      <td>-1.610709</td>\n",
       "      <td>0.0</td>\n",
       "      <td>1.364079e+05</td>\n",
       "      <td>-8944.910156</td>\n",
       "      <td>-2.239926e+05</td>\n",
       "      <td>3</td>\n",
       "    </tr>\n",
       "    <tr>\n",
       "      <th>3</th>\n",
       "      <td>1.830920e+05</td>\n",
       "      <td>0.603998</td>\n",
       "      <td>-1.703963</td>\n",
       "      <td>0.0</td>\n",
       "      <td>1.174349e+05</td>\n",
       "      <td>-24309.705078</td>\n",
       "      <td>-1.814710e+05</td>\n",
       "      <td>3</td>\n",
       "    </tr>\n",
       "    <tr>\n",
       "      <th>4</th>\n",
       "      <td>1.031376e+05</td>\n",
       "      <td>1.668080</td>\n",
       "      <td>-2.416825</td>\n",
       "      <td>0.0</td>\n",
       "      <td>2.636903e+05</td>\n",
       "      <td>-77214.320312</td>\n",
       "      <td>-6.837632e+04</td>\n",
       "      <td>3</td>\n",
       "    </tr>\n",
       "    <tr>\n",
       "      <th>...</th>\n",
       "      <th>...</th>\n",
       "      <td>...</td>\n",
       "      <td>...</td>\n",
       "      <td>...</td>\n",
       "      <td>...</td>\n",
       "      <td>...</td>\n",
       "      <td>...</td>\n",
       "      <td>...</td>\n",
       "      <td>...</td>\n",
       "    </tr>\n",
       "    <tr>\n",
       "      <th rowspan=\"5\" valign=\"top\">102899</th>\n",
       "      <th>1095</th>\n",
       "      <td>6.955143e+00</td>\n",
       "      <td>1.647566</td>\n",
       "      <td>0.922712</td>\n",
       "      <td>0.0</td>\n",
       "      <td>1.739414e+01</td>\n",
       "      <td>4.198543</td>\n",
       "      <td>5.544931e+00</td>\n",
       "      <td>0</td>\n",
       "    </tr>\n",
       "    <tr>\n",
       "      <th>1096</th>\n",
       "      <td>6.081739e+00</td>\n",
       "      <td>1.360646</td>\n",
       "      <td>2.106574</td>\n",
       "      <td>0.0</td>\n",
       "      <td>1.107550e+01</td>\n",
       "      <td>-3.104789</td>\n",
       "      <td>5.229516e+00</td>\n",
       "      <td>0</td>\n",
       "    </tr>\n",
       "    <tr>\n",
       "      <th>1097</th>\n",
       "      <td>2.412975e+00</td>\n",
       "      <td>2.249187</td>\n",
       "      <td>-1.116033</td>\n",
       "      <td>0.0</td>\n",
       "      <td>1.131026e+01</td>\n",
       "      <td>1.059899</td>\n",
       "      <td>-2.167732e+00</td>\n",
       "      <td>0</td>\n",
       "    </tr>\n",
       "    <tr>\n",
       "      <th>1098</th>\n",
       "      <td>1.917974e+00</td>\n",
       "      <td>0.477284</td>\n",
       "      <td>2.463612</td>\n",
       "      <td>0.0</td>\n",
       "      <td>9.505724e-01</td>\n",
       "      <td>-1.493796</td>\n",
       "      <td>1.202995e+00</td>\n",
       "      <td>0</td>\n",
       "    </tr>\n",
       "    <tr>\n",
       "      <th>1099</th>\n",
       "      <td>1.669672e+00</td>\n",
       "      <td>-0.444126</td>\n",
       "      <td>0.846903</td>\n",
       "      <td>0.0</td>\n",
       "      <td>-7.661647e-01</td>\n",
       "      <td>1.105835</td>\n",
       "      <td>1.250973e+00</td>\n",
       "      <td>0</td>\n",
       "    </tr>\n",
       "  </tbody>\n",
       "</table>\n",
       "<p>60730939 rows × 8 columns</p>\n",
       "</div>"
      ],
      "text/plain": [
       "                           pt       eta       phi    m            pz  \\\n",
       "entry  subentry                                                        \n",
       "0      0         1.421528e+06  0.714265  1.333796  0.0  1.103911e+06   \n",
       "       1         6.517377e+05  0.568533 -1.618835  0.0  3.908210e+05   \n",
       "       2         2.241711e+05  0.576099 -1.610709  0.0  1.364079e+05   \n",
       "       3         1.830920e+05  0.603998 -1.703963  0.0  1.174349e+05   \n",
       "       4         1.031376e+05  1.668080 -2.416825  0.0  2.636903e+05   \n",
       "...                       ...       ...       ...  ...           ...   \n",
       "102899 1095      6.955143e+00  1.647566  0.922712  0.0  1.739414e+01   \n",
       "       1096      6.081739e+00  1.360646  2.106574  0.0  1.107550e+01   \n",
       "       1097      2.412975e+00  2.249187 -1.116033  0.0  1.131026e+01   \n",
       "       1098      1.917974e+00  0.477284  2.463612  0.0  9.505724e-01   \n",
       "       1099      1.669672e+00 -0.444126  0.846903  0.0 -7.661647e-01   \n",
       "\n",
       "                            px            py  n_jets  \n",
       "entry  subentry                                       \n",
       "0      0         333757.406250  1.381791e+06       3  \n",
       "       1         -31296.867188 -6.509858e+05       3  \n",
       "       2          -8944.910156 -2.239926e+05       3  \n",
       "       3         -24309.705078 -1.814710e+05       3  \n",
       "       4         -77214.320312 -6.837632e+04       3  \n",
       "...                        ...           ...     ...  \n",
       "102899 1095           4.198543  5.544931e+00       0  \n",
       "       1096          -3.104789  5.229516e+00       0  \n",
       "       1097           1.059899 -2.167732e+00       0  \n",
       "       1098          -1.493796  1.202995e+00       0  \n",
       "       1099           1.105835  1.250973e+00       0  \n",
       "\n",
       "[60730939 rows x 8 columns]"
      ]
     },
     "execution_count": 9,
     "metadata": {},
     "output_type": "execute_result"
    }
   ],
   "source": [
    "df"
   ]
  },
  {
   "cell_type": "code",
   "execution_count": null,
   "id": "e62ac36a",
   "metadata": {},
   "outputs": [
    {
     "name": "stdout",
     "output_type": "stream",
     "text": [
      "[18154  3300 53127 22309  5166   763    81] [0. 1. 2. 3. 4. 5. 6. 7.]\n"
     ]
    },
    {
     "data": {
      "text/plain": [
       "Text(0.5, 1.0, 'Jet multiplicity')"
      ]
     },
     "execution_count": 10,
     "metadata": {},
     "output_type": "execute_result"
    },
    {
     "data": {
      "image/png": "[encoded data removed]",
      "text/plain": [
       "<Figure size 432x288 with 1 Axes>"
      ]
     },
     "metadata": {
      "needs_background": "light"
     },
     "output_type": "display_data"
    }
   ],
   "source": [
    "n_jets = ak.num(events[\"TruthJets_R10\"])\n",
    "counts, bins = np.histogram(n_jets, bins=7)\n",
    "print(counts, bins)\n",
    "plt.hist(bins[:-1], bins, weights=counts, align=\"left\")\n",
    "plt.title(\"Jet multiplicity\")"
   ]
  },
  {
   "cell_type": "code",
   "execution_count": null,
   "id": "862a76d3",
   "metadata": {},
   "outputs": [
    {
     "name": "stdout",
     "output_type": "stream",
     "text": [
      "[498, 670, 621, 446, 310, 523, 517, 537, ... 580, 477, 494, 401, 472, 270, 459, 631]\n",
      "[321, 211, -211, -321, 211, 211, -211, -211, ... 22, 211, -211, -211, 211, 22, 22]\n",
      "[23, 13, 14, 21, 12, 12, 16, 17, 27, 25, ... 19, 29, 26, 25, 21, 26, 18, 24, 23, 28]\n",
      "[3, 3, 2, 0, 3, 3, 2, 2, 3, 2, 2, 2, 2, 2, ... 2, 2, 3, 2, 3, 2, 2, 2, 2, 2, 0, 2, 0]\n"
     ]
    }
   ],
   "source": [
    "ids = ak.num(events.Particles.pdgID)\n",
    "jet_const = ak.num(events.Clusters.pt)\n",
    "print(ids)\n",
    "print(events.Particles.pdgID[1])\n",
    "print(events.NPV)\n",
    "print(n_jets)"
   ]
  }
 ],
 "metadata": {
  "kernelspec": {
   "display_name": "Python 3",
   "language": "python",
   "name": "python3"
  },
  "language_info": {
   "codemirror_mode": {
    "name": "ipython",
    "version": 3
   },
   "file_extension": ".py",
   "mimetype": "text/x-python",
   "name": "python",
   "nbconvert_exporter": "python",
   "pygments_lexer": "ipython3",
   "version": "3.9.7"
  }
 },
 "nbformat": 4,
 "nbformat_minor": 5
}

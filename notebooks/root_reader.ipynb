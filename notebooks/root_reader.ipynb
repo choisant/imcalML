{
 "cells": [
  {
   "cell_type": "code",
   "execution_count": 4,
   "id": "6422a9ac",
   "metadata": {},
   "outputs": [],
   "source": [
    "import numpy as np\n",
    "import matplotlib.pyplot as plt\n",
    "import pandas as pd\n",
    "import uproot\n",
    "import os\n",
    "import awkward as ak"
   ]
  },
  {
   "cell_type": "code",
   "execution_count": 11,
   "id": "29a730df",
   "metadata": {},
   "outputs": [],
   "source": [
    "data_path = \"/disk/atlas3/data_MC/ATLASOpen/jets/part1.root\" "
   ]
  },
  {
   "cell_type": "markdown",
   "id": "9aa1309f",
   "metadata": {},
   "source": [
    "These are some examples of how to look at root files using uproot and awkward arrays. More info in this tutorial:\n",
    "https://hub.gke2.mybinder.org/user/jpivarski-2020--ep2020-tutorial-7h7oraqf/lab/tree/tutorial.ipynb\n"
   ]
  },
  {
   "cell_type": "code",
   "execution_count": 10,
   "id": "d0e08570",
   "metadata": {},
   "outputs": [
    {
     "name": "stdout",
     "output_type": "stream",
     "text": [
      "['JetRecoTree;64', 'JetRecoTree;63']\n",
      "name                 | typename                 | interpretation                \n",
      "---------------------+--------------------------+-------------------------------\n",
      "EventNumber          | uint64_t                 | AsDtype('>u8')\n",
      "RunNumber            | uint64_t                 | AsDtype('>u8')\n",
      "EventWeight          | float                    | AsDtype('>f4')\n",
      "mu_average           | float                    | AsDtype('>f4')\n",
      "mu_actual            | float                    | AsDtype('>f4')\n",
      "NPV                  | uint32_t                 | AsDtype('>u4')\n",
      "Tracks_pt            | std::vector<float>       | AsJagged(AsDtype('>f4'), he...\n",
      "Tracks_eta           | std::vector<float>       | AsJagged(AsDtype('>f4'), he...\n",
      "Tracks_phi           | std::vector<float>       | AsJagged(AsDtype('>f4'), he...\n",
      "Tracks_m             | std::vector<float>       | AsJagged(AsDtype('>f4'), he...\n",
      "Tracks_vtx           | std::vector<int32_t>     | AsJagged(AsDtype('>i4'), he...\n",
      "Clusters_pt          | std::vector<float>       | AsJagged(AsDtype('>f4'), he...\n",
      "Clusters_eta         | std::vector<float>       | AsJagged(AsDtype('>f4'), he...\n",
      "Clusters_phi         | std::vector<float>       | AsJagged(AsDtype('>f4'), he...\n",
      "Clusters_m           | std::vector<float>       | AsJagged(AsDtype('>f4'), he...\n",
      "Particles_pt         | std::vector<float>       | AsJagged(AsDtype('>f4'), he...\n",
      "Particles_eta        | std::vector<float>       | AsJagged(AsDtype('>f4'), he...\n",
      "Particles_phi        | std::vector<float>       | AsJagged(AsDtype('>f4'), he...\n",
      "Particles_m          | std::vector<float>       | AsJagged(AsDtype('>f4'), he...\n",
      "Particles_pdgID      | std::vector<int32_t>     | AsJagged(AsDtype('>i4'), he...\n",
      "RecoJets_R4_pt       | std::vector<float>       | AsJagged(AsDtype('>f4'), he...\n",
      "RecoJets_R4_eta      | std::vector<float>       | AsJagged(AsDtype('>f4'), he...\n",
      "RecoJets_R4_phi      | std::vector<float>       | AsJagged(AsDtype('>f4'), he...\n",
      "RecoJets_R4_m        | std::vector<float>       | AsJagged(AsDtype('>f4'), he...\n",
      "RecoJets_R4_jvf      | std::vector<float>       | AsJagged(AsDtype('>f4'), he...\n",
      "TrackJets_R4_pt      | std::vector<float>       | AsJagged(AsDtype('>f4'), he...\n",
      "TrackJets_R4_eta     | std::vector<float>       | AsJagged(AsDtype('>f4'), he...\n",
      "TrackJets_R4_phi     | std::vector<float>       | AsJagged(AsDtype('>f4'), he...\n",
      "TrackJets_R4_m       | std::vector<float>       | AsJagged(AsDtype('>f4'), he...\n",
      "RecoJets_R10_pt      | std::vector<float>       | AsJagged(AsDtype('>f4'), he...\n",
      "RecoJets_R10_eta     | std::vector<float>       | AsJagged(AsDtype('>f4'), he...\n",
      "RecoJets_R10_phi     | std::vector<float>       | AsJagged(AsDtype('>f4'), he...\n",
      "RecoJets_R10_m       | std::vector<float>       | AsJagged(AsDtype('>f4'), he...\n",
      "RecoJets_R10_D2beta1 | std::vector<float>       | AsJagged(AsDtype('>f4'), he...\n",
      "RecoJets_R10_tau3... | std::vector<float>       | AsJagged(AsDtype('>f4'), he...\n",
      "RecoJets_R10_Trim... | std::vector<float>       | AsJagged(AsDtype('>f4'), he...\n",
      "RecoJets_R10_Trim... | std::vector<float>       | AsJagged(AsDtype('>f4'), he...\n",
      "RecoJets_R10_Trim... | std::vector<float>       | AsJagged(AsDtype('>f4'), he...\n",
      "RecoJets_R10_Trim... | std::vector<float>       | AsJagged(AsDtype('>f4'), he...\n",
      "RecoJets_R10_Trim... | std::vector<float>       | AsJagged(AsDtype('>f4'), he...\n",
      "RecoJets_R10_Trim... | std::vector<float>       | AsJagged(AsDtype('>f4'), he...\n",
      "TruthJets_R4_pt      | std::vector<float>       | AsJagged(AsDtype('>f4'), he...\n",
      "TruthJets_R4_eta     | std::vector<float>       | AsJagged(AsDtype('>f4'), he...\n",
      "TruthJets_R4_phi     | std::vector<float>       | AsJagged(AsDtype('>f4'), he...\n",
      "TruthJets_R4_m       | std::vector<float>       | AsJagged(AsDtype('>f4'), he...\n",
      "TruthJets_R10_pt     | std::vector<float>       | AsJagged(AsDtype('>f4'), he...\n",
      "TruthJets_R10_eta    | std::vector<float>       | AsJagged(AsDtype('>f4'), he...\n",
      "TruthJets_R10_phi    | std::vector<float>       | AsJagged(AsDtype('>f4'), he...\n",
      "TruthJets_R10_m      | std::vector<float>       | AsJagged(AsDtype('>f4'), he...\n",
      "TruthJets_R10_D2b... | std::vector<float>       | AsJagged(AsDtype('>f4'), he...\n",
      "TruthJets_R10_tau... | std::vector<float>       | AsJagged(AsDtype('>f4'), he...\n",
      "TruthJets_R10_Tri... | std::vector<float>       | AsJagged(AsDtype('>f4'), he...\n",
      "TruthJets_R10_Tri... | std::vector<float>       | AsJagged(AsDtype('>f4'), he...\n",
      "TruthJets_R10_Tri... | std::vector<float>       | AsJagged(AsDtype('>f4'), he...\n",
      "TruthJets_R10_Tri... | std::vector<float>       | AsJagged(AsDtype('>f4'), he...\n",
      "TruthJets_R10_Tri... | std::vector<float>       | AsJagged(AsDtype('>f4'), he...\n",
      "TruthJets_R10_Tri... | std::vector<float>       | AsJagged(AsDtype('>f4'), he...\n",
      "None\n"
     ]
    }
   ],
   "source": [
    "#Open file in with-function will close it when you exit\n",
    "def look(rootfile:str):\n",
    "    with uproot.open(rootfile) as file:\n",
    "        keys = file.keys()\n",
    "        print(keys)\n",
    "        print(file[keys[0]].show())\n",
    "\n",
    "look(data_path)"
   ]
  },
  {
   "cell_type": "code",
   "execution_count": 18,
   "id": "d23a1f83",
   "metadata": {},
   "outputs": [],
   "source": [
    "tree = uproot.open(data_path+\":JetRecoTree\")\n",
    "events = tree.arrays(library=\"ak\", how=\"zip\")"
   ]
  },
  {
   "cell_type": "code",
   "execution_count": 19,
   "id": "61a9dd5c",
   "metadata": {},
   "outputs": [],
   "source": [
    "clusters = events[\"Clusters\", [\"pt\", \"eta\", \"phi\", \"m\"]]"
   ]
  },
  {
   "cell_type": "code",
   "execution_count": 25,
   "id": "6eab1c87",
   "metadata": {},
   "outputs": [],
   "source": [
    "clusters[\"pz\"] = clusters[\"pt\"]*np.sinh(clusters[\"eta\"])\n",
    "clusters[\"px\"] = clusters[\"pt\"]*np.cos(clusters[\"phi\"])\n",
    "clusters[\"py\"] = clusters[\"pt\"]*np.sin(clusters[\"phi\"])"
   ]
  },
  {
   "cell_type": "code",
   "execution_count": 49,
   "id": "218d92a1",
   "metadata": {},
   "outputs": [],
   "source": [
    "clusters[\"n_jets\"] = ak.num(events[\"TruthJets_R10\"])"
   ]
  },
  {
   "cell_type": "code",
   "execution_count": 51,
   "id": "c3b4aec0",
   "metadata": {},
   "outputs": [],
   "source": [
    "df = ak.to_pandas(clusters)"
   ]
  },
  {
   "cell_type": "code",
   "execution_count": 52,
   "id": "71480a30",
   "metadata": {},
   "outputs": [
    {
     "data": {
      "text/html": [
       "<div>\n",
       "<style scoped>\n",
       "    .dataframe tbody tr th:only-of-type {\n",
       "        vertical-align: middle;\n",
       "    }\n",
       "\n",
       "    .dataframe tbody tr th {\n",
       "        vertical-align: top;\n",
       "    }\n",
       "\n",
       "    .dataframe thead th {\n",
       "        text-align: right;\n",
       "    }\n",
       "</style>\n",
       "<table border=\"1\" class=\"dataframe\">\n",
       "  <thead>\n",
       "    <tr style=\"text-align: right;\">\n",
       "      <th></th>\n",
       "      <th></th>\n",
       "      <th>pt</th>\n",
       "      <th>eta</th>\n",
       "      <th>phi</th>\n",
       "      <th>m</th>\n",
       "      <th>pz</th>\n",
       "      <th>px</th>\n",
       "      <th>py</th>\n",
       "      <th>n_jets</th>\n",
       "    </tr>\n",
       "    <tr>\n",
       "      <th>entry</th>\n",
       "      <th>subentry</th>\n",
       "      <th></th>\n",
       "      <th></th>\n",
       "      <th></th>\n",
       "      <th></th>\n",
       "      <th></th>\n",
       "      <th></th>\n",
       "      <th></th>\n",
       "      <th></th>\n",
       "    </tr>\n",
       "  </thead>\n",
       "  <tbody>\n",
       "    <tr>\n",
       "      <th rowspan=\"5\" valign=\"top\">0</th>\n",
       "      <th>0</th>\n",
       "      <td>1.421528e+06</td>\n",
       "      <td>0.714265</td>\n",
       "      <td>1.333796</td>\n",
       "      <td>0.0</td>\n",
       "      <td>1.103911e+06</td>\n",
       "      <td>333757.406250</td>\n",
       "      <td>1.381791e+06</td>\n",
       "      <td>3</td>\n",
       "    </tr>\n",
       "    <tr>\n",
       "      <th>1</th>\n",
       "      <td>6.517377e+05</td>\n",
       "      <td>0.568533</td>\n",
       "      <td>-1.618835</td>\n",
       "      <td>0.0</td>\n",
       "      <td>3.908210e+05</td>\n",
       "      <td>-31296.865234</td>\n",
       "      <td>-6.509858e+05</td>\n",
       "      <td>3</td>\n",
       "    </tr>\n",
       "    <tr>\n",
       "      <th>2</th>\n",
       "      <td>2.241711e+05</td>\n",
       "      <td>0.576099</td>\n",
       "      <td>-1.610709</td>\n",
       "      <td>0.0</td>\n",
       "      <td>1.364079e+05</td>\n",
       "      <td>-8944.909180</td>\n",
       "      <td>-2.239926e+05</td>\n",
       "      <td>3</td>\n",
       "    </tr>\n",
       "    <tr>\n",
       "      <th>3</th>\n",
       "      <td>1.830920e+05</td>\n",
       "      <td>0.603998</td>\n",
       "      <td>-1.703963</td>\n",
       "      <td>0.0</td>\n",
       "      <td>1.174349e+05</td>\n",
       "      <td>-24309.705078</td>\n",
       "      <td>-1.814710e+05</td>\n",
       "      <td>3</td>\n",
       "    </tr>\n",
       "    <tr>\n",
       "      <th>4</th>\n",
       "      <td>1.031376e+05</td>\n",
       "      <td>1.668080</td>\n",
       "      <td>-2.416825</td>\n",
       "      <td>0.0</td>\n",
       "      <td>2.636903e+05</td>\n",
       "      <td>-77214.320312</td>\n",
       "      <td>-6.837632e+04</td>\n",
       "      <td>3</td>\n",
       "    </tr>\n",
       "    <tr>\n",
       "      <th>...</th>\n",
       "      <th>...</th>\n",
       "      <td>...</td>\n",
       "      <td>...</td>\n",
       "      <td>...</td>\n",
       "      <td>...</td>\n",
       "      <td>...</td>\n",
       "      <td>...</td>\n",
       "      <td>...</td>\n",
       "      <td>...</td>\n",
       "    </tr>\n",
       "    <tr>\n",
       "      <th rowspan=\"5\" valign=\"top\">102899</th>\n",
       "      <th>1095</th>\n",
       "      <td>6.955143e+00</td>\n",
       "      <td>1.647566</td>\n",
       "      <td>0.922712</td>\n",
       "      <td>0.0</td>\n",
       "      <td>1.739414e+01</td>\n",
       "      <td>4.198543</td>\n",
       "      <td>5.544931e+00</td>\n",
       "      <td>0</td>\n",
       "    </tr>\n",
       "    <tr>\n",
       "      <th>1096</th>\n",
       "      <td>6.081739e+00</td>\n",
       "      <td>1.360646</td>\n",
       "      <td>2.106574</td>\n",
       "      <td>0.0</td>\n",
       "      <td>1.107550e+01</td>\n",
       "      <td>-3.104789</td>\n",
       "      <td>5.229516e+00</td>\n",
       "      <td>0</td>\n",
       "    </tr>\n",
       "    <tr>\n",
       "      <th>1097</th>\n",
       "      <td>2.412975e+00</td>\n",
       "      <td>2.249187</td>\n",
       "      <td>-1.116033</td>\n",
       "      <td>0.0</td>\n",
       "      <td>1.131026e+01</td>\n",
       "      <td>1.059899</td>\n",
       "      <td>-2.167732e+00</td>\n",
       "      <td>0</td>\n",
       "    </tr>\n",
       "    <tr>\n",
       "      <th>1098</th>\n",
       "      <td>1.917974e+00</td>\n",
       "      <td>0.477284</td>\n",
       "      <td>2.463612</td>\n",
       "      <td>0.0</td>\n",
       "      <td>9.505724e-01</td>\n",
       "      <td>-1.493796</td>\n",
       "      <td>1.202995e+00</td>\n",
       "      <td>0</td>\n",
       "    </tr>\n",
       "    <tr>\n",
       "      <th>1099</th>\n",
       "      <td>1.669672e+00</td>\n",
       "      <td>-0.444126</td>\n",
       "      <td>0.846903</td>\n",
       "      <td>0.0</td>\n",
       "      <td>-7.661647e-01</td>\n",
       "      <td>1.105835</td>\n",
       "      <td>1.250973e+00</td>\n",
       "      <td>0</td>\n",
       "    </tr>\n",
       "  </tbody>\n",
       "</table>\n",
       "<p>60730939 rows × 8 columns</p>\n",
       "</div>"
      ],
      "text/plain": [
       "                           pt       eta       phi    m            pz  \\\n",
       "entry  subentry                                                        \n",
       "0      0         1.421528e+06  0.714265  1.333796  0.0  1.103911e+06   \n",
       "       1         6.517377e+05  0.568533 -1.618835  0.0  3.908210e+05   \n",
       "       2         2.241711e+05  0.576099 -1.610709  0.0  1.364079e+05   \n",
       "       3         1.830920e+05  0.603998 -1.703963  0.0  1.174349e+05   \n",
       "       4         1.031376e+05  1.668080 -2.416825  0.0  2.636903e+05   \n",
       "...                       ...       ...       ...  ...           ...   \n",
       "102899 1095      6.955143e+00  1.647566  0.922712  0.0  1.739414e+01   \n",
       "       1096      6.081739e+00  1.360646  2.106574  0.0  1.107550e+01   \n",
       "       1097      2.412975e+00  2.249187 -1.116033  0.0  1.131026e+01   \n",
       "       1098      1.917974e+00  0.477284  2.463612  0.0  9.505724e-01   \n",
       "       1099      1.669672e+00 -0.444126  0.846903  0.0 -7.661647e-01   \n",
       "\n",
       "                            px            py  n_jets  \n",
       "entry  subentry                                       \n",
       "0      0         333757.406250  1.381791e+06       3  \n",
       "       1         -31296.865234 -6.509858e+05       3  \n",
       "       2          -8944.909180 -2.239926e+05       3  \n",
       "       3         -24309.705078 -1.814710e+05       3  \n",
       "       4         -77214.320312 -6.837632e+04       3  \n",
       "...                        ...           ...     ...  \n",
       "102899 1095           4.198543  5.544931e+00       0  \n",
       "       1096          -3.104789  5.229516e+00       0  \n",
       "       1097           1.059899 -2.167732e+00       0  \n",
       "       1098          -1.493796  1.202995e+00       0  \n",
       "       1099           1.105835  1.250973e+00       0  \n",
       "\n",
       "[60730939 rows x 8 columns]"
      ]
     },
     "execution_count": 52,
     "metadata": {},
     "output_type": "execute_result"
    }
   ],
   "source": [
    "df"
   ]
  },
  {
   "cell_type": "code",
   "execution_count": 83,
   "id": "e62ac36a",
   "metadata": {},
   "outputs": [
    {
     "name": "stdout",
     "output_type": "stream",
     "text": [
      "[18154  3300 53127 22309  5166   763    81] [0. 1. 2. 3. 4. 5. 6. 7.]\n"
     ]
    },
    {
     "data": {
      "text/plain": [
       "Text(0.5, 1.0, 'Jet multiplicity')"
      ]
     },
     "execution_count": 83,
     "metadata": {},
     "output_type": "execute_result"
    },
    {
     "data": {
      "image/png": "[encoded data removed]",
      "text/plain": [
       "<Figure size 432x288 with 1 Axes>"
      ]
     },
     "metadata": {
      "needs_background": "light"
     },
     "output_type": "display_data"
    }
   ],
   "source": [
    "n_jets = ak.num(events[\"TruthJets_R10\"])\n",
    "counts, bins = np.histogram(n_jets, bins=7)\n",
    "print(counts, bins)\n",
    "plt.hist(bins[:-1], bins, weights=counts, align=\"left\")\n",
    "plt.title(\"Jet multiplicity\")"
   ]
  }
 ],
 "metadata": {
  "kernelspec": {
   "display_name": "Python 3",
   "language": "python",
   "name": "python3"
  },
  "language_info": {
   "codemirror_mode": {
    "name": "ipython",
    "version": 3
   },
   "file_extension": ".py",
   "mimetype": "text/x-python",
   "name": "python",
   "nbconvert_exporter": "python",
   "pygments_lexer": "ipython3",
   "version": "3.6.13"
  }
 },
 "nbformat": 4,
 "nbformat_minor": 5
}

{
 "cells": [
  {
   "cell_type": "code",
   "execution_count": 48,
   "metadata": {},
   "outputs": [],
   "source": [
    "import numpy as np\n",
    "import sys\n",
    "from pathlib import Path\n",
    "import matplotlib.pyplot as plt\n",
    "import pandas as pd\n",
    "import awkward as ak\n",
    "import seaborn as sn\n",
    "import atlas_mpl_style as ampl\n",
    "ampl.use_atlas_style()  \n",
    "import torch\n",
    "import sys\n",
    "import numpy\n",
    "numpy.set_printoptions(threshold=sys.maxsize)"
   ]
  },
  {
   "cell_type": "code",
   "execution_count": 49,
   "metadata": {},
   "outputs": [],
   "source": [
    "# import custom functions from src folder\n",
    "module_path = str(Path.cwd().parents[0] / \"src\")\n",
    "\n",
    "if module_path not in sys.path:\n",
    "    sys.path.append(module_path)\n",
    "\n",
    "from imcal import *"
   ]
  },
  {
   "cell_type": "code",
   "execution_count": 50,
   "metadata": {},
   "outputs": [],
   "source": [
    "\n",
    "#These are variables to change\n",
    "CUT = True\n",
    "LABELS = [\"BH_n4_M10\"]\n",
    "PLOT_LABELS = [\"BH_n4_M10\"]\n",
    "FOLDERS = [\"BH\"]\n",
    "\n",
    "if CUT:\n",
    "    VAL_N_EVENTS = [15000]\n",
    "    N_MIN = 5\n",
    "    ST_MIN = 7 #TeV\n",
    "    ETA_MAX = 2.4\n",
    "    PT_MIN = 70 #GeV\n",
    "\n",
    "    VAL_CUT_DATAPATHS = [f\"/disk/atlas3/data_MC/2dhistograms/{folder}/50/{label}_test_res50_STmin7_Nmin5_3000_events.h5\" for label, folder in zip(LABELS, FOLDERS)]\n",
    "        \n",
    "else:\n",
    "    VAL_N_EVENTS = [3000]*len(LABELS)\n",
    "\n",
    "DATA_PATH = \"/disk/atlas3/data_MC/delphes/\"\n",
    "\n",
    "#Set data paths\n",
    "\n",
    "\n",
    "VAL_FILENAMES = [f\"{label}_{n}events.root\" for label, n in zip(LABELS, VAL_N_EVENTS)]\n",
    "\n",
    "VAL_DATAPATHS = [f\"{DATA_PATH}/{VAL_FILENAME}\" for VAL_FILENAME in VAL_FILENAMES]\n",
    "\n",
    "DEVICE = torch.device(\"cpu\")"
   ]
  },
  {
   "cell_type": "code",
   "execution_count": 51,
   "metadata": {},
   "outputs": [],
   "source": [
    "def load_cut_event_numbers(hdf5file):\n",
    "    with h5py.File(hdf5file, 'r') as f:\n",
    "        keys = list(f.keys())\n",
    "        data = [f[key][\"event_id\"] for key in keys]\n",
    "        #create array\n",
    "        ids = np.array(data).flatten()\n",
    "        ids = ids.tolist()\n",
    "        ids = [int(item[0]) for item in ids]\n",
    "    return ids"
   ]
  },
  {
   "cell_type": "code",
   "execution_count": 52,
   "metadata": {},
   "outputs": [
    {
     "name": "stdout",
     "output_type": "stream",
     "text": [
      "Events before cut: [15000]\n",
      "Events after cut: [3000]\n"
     ]
    }
   ],
   "source": [
    "#Open file in with-function will close it when you exit\n",
    "\n",
    "def get_arrays(data_paths, n_events, id_paths=None):\n",
    "    clusters = [load_data(f\"{path}:Delphes\", \"Tower\", \n",
    "                            [\"Tower.ET\", \"Tower.Eta\", \"Tower.Phi\", \"Tower.Eem\", \"Tower.Ehad\", \"Tower.E\"], n) for n, path in zip(n_events, data_paths)]\n",
    "    \n",
    "    tracks = [load_data(f\"{path}:Delphes\", \"Track\", \n",
    "                        [\"Track.PT\", \"Track.Eta\", \"Track.Phi\"], n) for n, path in zip(n_events, data_paths)]\n",
    "    \n",
    "    jets = [load_data(f\"{path}:Delphes\", \"Jet\", \n",
    "                            [\"Jet.PT\", \"Jet.Eta\", \"Jet.Phi\"], n) for n, path in zip(n_events, data_paths)]\n",
    "    \n",
    "    event_numbers = [load_data(f\"{path}:Delphes\", \"Event\", \n",
    "                            [\"Event.Number\"], n) for n, path in zip(n_events, data_paths)]\n",
    "    if CUT:\n",
    "        cut_event_ids = [load_cut_event_numbers(id_path) for id_path in id_paths]    \n",
    "        print(f\"Events before cut: {[len(item) for item in clusters]}\")\n",
    "        event_ids = [ak.to_numpy(ar[\"Number\"]).flatten() for ar in event_numbers]\n",
    "        matching_ids = [np.argwhere(np.isin(ids, cut_ids)).ravel() for ids, cut_ids in zip(event_ids, cut_event_ids)]\n",
    "        clusters = [item[ids] for item, ids in zip(clusters, matching_ids)]\n",
    "        tracks = [item[ids] for item, ids in zip(tracks, matching_ids)]\n",
    "        print(f\"Events after cut: {[len(item) for item in clusters]}\")\n",
    "\n",
    "    return matching_ids, jets, clusters, tracks\n",
    "\n",
    "if CUT:\n",
    "    event_ids, jets, clusters, tracks = get_arrays(VAL_DATAPATHS, VAL_N_EVENTS, VAL_CUT_DATAPATHS)\n",
    "\n",
    "else:\n",
    "    event_ids, jets, clusters, tracks = get_arrays(VAL_DATAPATHS)"
   ]
  },
  {
   "cell_type": "code",
   "execution_count": 53,
   "metadata": {},
   "outputs": [
    {
     "name": "stdout",
     "output_type": "stream",
     "text": [
      "Opening file /disk/atlas3/data_MC/2dhistograms/BH/50/BH_n4_M10_test_res50_STmin7_Nmin5_3000_events.h5.\n",
      "Selecting 1000 events out of 3000.\n"
     ]
    }
   ],
   "source": [
    "#Print some of the images\n",
    "valpaths = [Path(path) for path in VAL_CUT_DATAPATHS]\n",
    "inspect_data = Hdf5Dataset(valpaths, LABELS, DEVICE, max_value=5000, \n",
    "                        shuffle=False, filters=[None], transform=None, event_limit=1000)\n",
    "#view_data(inspect_data, 3, len(valpaths), PLOT_LABELS, 50, VAL_N_EVENTS)"
   ]
  },
  {
   "cell_type": "code",
   "execution_count": 54,
   "metadata": {},
   "outputs": [
    {
     "name": "stdout",
     "output_type": "stream",
     "text": [
      "1000\n"
     ]
    }
   ],
   "source": [
    "print(len(inspect_data))"
   ]
  },
  {
   "cell_type": "code",
   "execution_count": 55,
   "metadata": {},
   "outputs": [
    {
     "name": "stderr",
     "output_type": "stream",
     "text": [
      "Clipping input data to the valid range for imshow with RGB data ([0..1] for floats or [0..255] for integers).\n"
     ]
    },
    {
     "name": "stdout",
     "output_type": "stream",
     "text": [
      "BH_n4_M10_test, not in ['BH_n4_M10']\n",
      "Look at the highest histogram values values for a random image\n",
      "[355.07455 356.44507 398.52005 420.0461  573.8182  624.4294  761.2194\n",
      " 857.27405 876.9752 ]\n",
      "Looking at event 2\n"
     ]
    },
    {
     "data": {
      "image/png": "[encoded data removed]",
      "text/plain": [
       "<Figure size 720x720 with 1 Axes>"
      ]
     },
     "metadata": {},
     "output_type": "display_data"
    }
   ],
   "source": [
    "k = 0\n",
    "id = event_ids[0][k]\n",
    "image = inspect_data[k][0].cpu()\n",
    "print(\"Look at the highest histogram values values for a random image\")\n",
    "print(np.sort(image.flatten())[-10:-1])\n",
    "print(\"Looking at event\", id)\n",
    "\n",
    "fig, ax = plt.subplots(ncols=1, figsize=(10, 10))\n",
    "ax.imshow(image, extent=[-5, 5, -np.pi, np.pi], aspect='auto')\n",
    "cal_image_plot_paper(ax)\n",
    "ax.tick_params(which=\"both\", direction=\"out\", bottom=True, left=True, labelsize=20, pad=15, length=6, width=3)"
   ]
  },
  {
   "cell_type": "code",
   "execution_count": 56,
   "metadata": {},
   "outputs": [
    {
     "name": "stdout",
     "output_type": "stream",
     "text": [
      "tensor([1000., 1000., 1000.])\n"
     ]
    }
   ],
   "source": [
    "max_hits = torch.Tensor([torch.max(image[:,:,i]) for i in range(0,3)])\n",
    "norm_image = (image/max_hits)*1000\n",
    "max_hits_norm = torch.Tensor([torch.max(norm_image[:,:,i]) for i in range(0,3)])\n",
    "new_image = torch.arctan(torch.log(norm_image/10)/torch.pi) + 0.5"
   ]
  },
  {
   "cell_type": "code",
   "execution_count": 57,
   "metadata": {},
   "outputs": [
    {
     "name": "stderr",
     "output_type": "stream",
     "text": [
      "Clipping input data to the valid range for imshow with RGB data ([0..1] for floats or [0..255] for integers).\n"
     ]
    },
    {
     "data": {
      "image/png": "[encoded data removed]",
      "text/plain": [
       "<Figure size 720x720 with 1 Axes>"
      ]
     },
     "metadata": {},
     "output_type": "display_data"
    }
   ],
   "source": [
    "fig, ax = plt.subplots(ncols=1, figsize=(10, 10))\n",
    "ax.imshow(new_image, extent=[-5, 5, -np.pi, np.pi], aspect='auto')\n",
    "cal_image_plot_paper(ax)\n",
    "ax.tick_params(which=\"both\", direction=\"out\", bottom=True, left=True, labelsize=20, pad=15, length=6, width=3)"
   ]
  },
  {
   "cell_type": "code",
   "execution_count": 58,
   "metadata": {},
   "outputs": [
    {
     "name": "stdout",
     "output_type": "stream",
     "text": [
      "246 246 246 246\n"
     ]
    }
   ],
   "source": [
    "\n",
    "print(len(clusters[0]['Ehad'][id]), len(clusters[0]['Eem'][id]), len(clusters[0]['Phi'][id]), len(clusters[0]['Eta'][id]))"
   ]
  },
  {
   "cell_type": "code",
   "execution_count": 59,
   "metadata": {},
   "outputs": [
    {
     "data": {
      "text/plain": [
       "[<matplotlib.lines.Line2D at 0x7f1230222400>]"
      ]
     },
     "execution_count": 59,
     "metadata": {},
     "output_type": "execute_result"
    },
    {
     "data": {
      "image/png": "[encoded data removed]",
      "text/plain": [
       "<Figure size 799.992x599.976 with 1 Axes>"
      ]
     },
     "metadata": {},
     "output_type": "display_data"
    }
   ],
   "source": [
    "plt.plot(clusters[0]['Eta'][id])"
   ]
  },
  {
   "cell_type": "code",
   "execution_count": 60,
   "metadata": {},
   "outputs": [
    {
     "name": "stdout",
     "output_type": "stream",
     "text": [
      "Ehad energy: \n",
      "\n",
      "[   0.         0.         0.         0.         0.         0.\n",
      "    0.         0.         0.         0.         0.         0.\n",
      "    0.         0.         0.         0.         0.         0.\n",
      "    0.         0.         0.         0.         0.         0.\n",
      "    0.         0.         0.         0.         0.         0.\n",
      "    0.         0.         0.         0.         0.         0.\n",
      "    0.         0.         0.         0.         0.         0.\n",
      "    0.         0.         0.         0.         0.         0.\n",
      "    0.         0.         0.         0.         0.         0.\n",
      "    0.         0.         0.         0.         0.         0.\n",
      "    0.         0.         0.         0.         0.         0.\n",
      "    0.         0.         0.         0.         0.         0.\n",
      "    0.         0.         0.         0.         0.         0.\n",
      "    0.         0.         0.         0.         0.         0.\n",
      "    0.         0.         0.         0.         0.         0.\n",
      "    0.         0.         0.         0.         0.         0.\n",
      "    0.         0.         0.         0.         0.         0.\n",
      "    0.         0.         0.         0.         0.         0.\n",
      "    0.         0.         0.         0.         0.         0.\n",
      "    0.         0.         0.         0.         0.         0.\n",
      "    0.         0.         0.         0.         0.         0.\n",
      "    0.         0.         0.         0.         0.         0.\n",
      "    0.         0.         0.         0.         0.         0.\n",
      "    0.         0.         0.         0.         0.         0.\n",
      "    0.         0.         0.        33.86142   24.28767   43.77781\n",
      "   47.1329    24.89232   15.13784   10.4457    12.34749    2.54694\n",
      "    4.27074    2.2425    16.9844     5.13485    2.2019     8.00661\n",
      "    8.48984   10.39415    2.26785    8.30138    7.52251    2.49351\n",
      "    2.14243    7.48357    2.41175    9.10351    8.67296   27.49492\n",
      "   13.07777   11.96309    5.00833    5.75942  112.17794   75.90882\n",
      "   38.50222  114.81238    5.85277    4.15623    5.39363    6.94052\n",
      "    9.28255   22.50035  887.5176    69.28223   18.32423    4.28111\n",
      "    6.87762   10.25039  167.97188    9.06409   41.40993   25.57979\n",
      "    8.37902   26.38026 1934.3333   265.00214  453.96408    4.6092\n",
      "    4.40823    4.66657  108.61349   13.9936     8.32793    5.70508\n",
      "   26.088      8.83798    2.06416    2.15929    5.93286    5.3582\n",
      "    9.00495    7.25187   11.22636    3.68148    3.21832    3.93883\n",
      "    2.37896    3.64644    9.79578    4.04374   20.84754   11.8132\n",
      "    6.8558     3.14798    8.44404   31.74716    9.30814   17.61135\n",
      "   32.21167    9.72599   14.18948   15.67061   20.0903     9.73492\n",
      "    8.12808    8.29206    8.98448   21.27401   26.25263   80.562  ]\n",
      "\n",
      " Eem energy: \n",
      "\n",
      "[  1.09443   7.71749   1.51807   7.48435   3.10771  10.07395  20.12687\n",
      "  10.30831 182.68896   1.07652   2.19773   2.70847   0.80586   5.3226\n",
      "  15.94019   0.838     0.89628   3.12574   1.2832    0.69601   2.89972\n",
      "   0.68776   1.05001   2.135     1.06387   0.78972   1.82924  26.06398\n",
      "  18.71156  10.68186   0.55877  29.31647 146.18048  27.44285  15.79989\n",
      "   3.06098   0.51589   5.61174   1.76841   3.4481    1.59844   6.16934\n",
      "   4.13846   0.84077  22.06653   2.24867  28.48636  26.48743   1.4472\n",
      "   0.62604   0.92853   0.68661   7.84537 419.45071  19.60276   1.13717\n",
      "   1.8861    1.20571   1.05242   5.18525   2.32162   4.99056  39.46972\n",
      "   4.87642   5.21289   1.20587   3.18485   0.88594  24.14338  12.17329\n",
      " 257.11707   0.52746   8.36084   0.90965   3.2277    2.48363   3.87621\n",
      "  15.9481    1.00497   2.31155  36.83095   0.76086   7.10772  11.29438\n",
      "  14.56721  41.4208   38.83658   2.57391  24.30755  64.73656   1.37512\n",
      "   0.55364   1.34783   1.80774   2.54254  18.33201   0.51515  11.26577\n",
      "   6.22648   0.72488   0.68255   4.61105   9.53154   2.99074   1.21261\n",
      "   1.76577   0.95453   0.70676   1.06196   2.48481   3.02913   0.79621\n",
      "   1.86926   0.74177   0.8426    0.95347   1.00805   3.25171   1.25992\n",
      "   0.71632   1.22625   1.24954   0.69079   4.4354    4.96039   2.33836\n",
      "   1.19023   2.55294   0.9664    1.55765   1.71882   2.50672   1.73244\n",
      "   0.76879   2.96918   3.3692    4.57458   7.56851   1.4257    2.59528\n",
      "   2.4402    7.77645  12.28637   5.04877   6.65333  33.86887   3.33319\n",
      "   0.        0.        0.        0.        0.        0.        0.\n",
      "   0.        0.        0.        0.        0.        0.        0.\n",
      "   0.        0.        0.        0.        0.        0.        0.\n",
      "   0.        0.        0.        0.        0.        0.        0.\n",
      "   0.        0.        0.        0.        0.        0.        0.\n",
      "   0.        0.        0.        0.        0.        0.        0.\n",
      "   0.        0.        0.        0.        0.        0.        0.\n",
      "   0.        0.        0.        0.        0.        0.        0.\n",
      "   0.        0.        0.        0.        0.        0.        0.\n",
      "   0.        0.        0.        0.        0.        0.        0.\n",
      "   0.        0.        0.        0.        0.        0.        0.\n",
      "   0.        0.        0.        0.        0.        0.        0.\n",
      "   0.        0.        0.        0.        0.        0.        0.\n",
      "   0.        0.        0.        0.        0.        0.        0.\n",
      "   0.     ]\n",
      "\n",
      " Eta: \n",
      "\n",
      "[-4.3532  -4.39003 -4.47284 -4.21451 -3.99384 -3.87223 -3.78283 -3.80549\n",
      " -3.56358 -3.34112 -3.41467 -3.44042 -3.24438 -2.93474 -2.83923 -2.78043\n",
      " -2.68029 -2.49908 -2.38928 -2.38378 -2.29159 -2.24874 -2.1452  -2.12986\n",
      " -1.88939 -1.84445 -1.42678 -1.36254 -1.34874 -1.33136 -1.32856 -1.31484\n",
      " -1.31704 -1.30804 -1.29415 -1.28904 -1.29075 -1.28006 -1.27788 -1.25722\n",
      " -1.26504 -1.24824 -1.24125 -1.24667 -1.22637 -1.23458 -1.17981 -1.15661\n",
      " -1.14935 -1.14069 -1.09568 -1.04987 -1.03944 -0.99519 -1.00249 -0.99923\n",
      " -0.97489 -0.97394 -0.96609 -0.94529 -0.94427 -0.92524 -0.92855 -0.9302\n",
      " -0.90862 -0.90606 -0.87137 -0.77513 -0.70764 -0.7065  -0.70781 -0.66815\n",
      " -0.62605 -0.60254 -0.44855 -0.41638  0.03278  0.08915  0.11681  0.11503\n",
      "  0.11033  0.11853  0.13061  0.12602  0.15005  0.14708  0.15784  0.16015\n",
      "  0.15979  0.15929  0.15667  0.18972  0.18814  0.18306  0.17502  0.17491\n",
      "  0.486    0.49415  0.50877  0.53255  0.53269  0.5459   0.56772  0.60849\n",
      "  0.70273  0.83197  1.06525  1.24775  1.30405  1.5148   1.51956  1.61367\n",
      "  1.63523  1.65587  1.69546  1.8433   1.85702  2.02858  2.12213  2.13597\n",
      "  2.14703  2.34715  2.33176  2.49169  2.54775  2.6116   2.68526  2.75852\n",
      "  2.82661  2.8366   2.94249  3.12372  3.27801  3.23259  3.22817  3.29954\n",
      "  3.14633  3.41478  3.58763  3.69746  3.78105  3.69096  4.14786  4.10298\n",
      "  4.18404  4.19257  4.40464 -4.70341 -4.58076 -4.26703 -4.02139 -3.96151\n",
      " -4.08307 -3.55976 -3.0564  -3.09883 -3.01499 -2.74281 -2.5645  -2.54078\n",
      " -2.3437  -2.25774 -2.23533 -2.19083 -2.1014  -2.19463 -1.93408 -1.94415\n",
      " -1.99552 -1.88258 -1.86358 -1.67593 -1.66337 -1.52783 -1.52031 -1.43024\n",
      " -1.45944 -1.4564  -1.37161 -1.39152 -1.25523 -1.26206 -1.27379 -1.22004\n",
      " -1.1513  -1.0838  -1.01712 -1.09243 -0.97774 -0.96277 -0.92465 -0.92074\n",
      " -0.88749 -0.85762 -0.75993 -0.71741 -0.67184 -0.60359 -0.54448  0.01991\n",
      "  0.00835  0.19398  0.13524  0.2679   0.3151   0.53144  0.58864  0.58973\n",
      "  1.05647  1.10998  1.37388  1.97833  1.96951  2.25644  2.31713  2.38601\n",
      "  2.30717  2.30849  2.47036  2.40009  2.40737  2.52687  2.54818  2.77898\n",
      "  2.79542  2.78775  2.74635  2.98501  3.17069  3.14673  3.22784  3.36386\n",
      "  3.30316  3.76324  3.84269  3.98584  4.226    4.21234  4.12322  4.2528\n",
      "  4.15818  4.33215  4.44509  4.4217   4.4175   4.6534 ]\n",
      "\n",
      " Phi: \n",
      "\n",
      "[-3.10191  0.68872  2.25226  0.85985  2.8001   3.13722 -0.25494  2.94886\n",
      "  1.28831 -2.25218 -2.00734  2.83813 -2.56154  3.10213  1.06202  1.36322\n",
      "  0.70858 -1.59203  1.53294  0.85017 -1.73637 -0.1553  -1.2666  -2.74237\n",
      " -2.37796  0.85518 -2.86498 -2.78284 -2.81976 -2.82019 -1.99111 -2.80631\n",
      " -2.78515 -2.76785 -2.7769  -2.74839 -2.38305 -2.81316 -2.73926 -2.8935\n",
      " -2.81773 -2.82253 -2.76554  1.72664 -2.77835 -2.70099 -2.76996 -2.76206\n",
      "  1.75313 -2.33132 -3.111   -0.31124 -0.27762 -0.50513 -0.46158 -0.42428\n",
      " -0.28463 -2.48624 -1.53169 -0.36897 -0.34368 -0.39313 -0.34954 -0.33529\n",
      " -0.35875  3.11605 -0.34504 -2.83228 -2.87501 -2.84451 -2.82368  0.13469\n",
      " -2.80117 -2.87552 -2.62171 -2.65801 -1.98744 -1.99089 -2.10817 -2.04116\n",
      " -2.00355 -1.88192 -2.01205 -2.00212 -2.02198 -2.00206 -2.01068 -1.93328\n",
      " -1.91432 -1.89682 -1.84881 -2.06965 -2.01361 -1.93185 -1.90251 -1.86252\n",
      " -1.92628 -2.02161 -2.03743 -2.01968 -1.96291 -1.98007 -1.98984 -1.9163\n",
      " -0.36437 -0.37789  3.02684 -3.04521  2.79097 -2.64285 -2.51502 -2.83153\n",
      " -2.26496  1.29889  1.78381  0.2771   2.60491  2.81149 -2.08891 -2.86554\n",
      " -2.08993  1.65635  2.81409  1.34577 -2.05749  0.02387 -1.28333  1.9559\n",
      " -2.31736  2.65232  2.13319 -0.47105 -3.03686 -1.64289  0.68126  1.04955\n",
      "  2.88386  2.19665 -0.43447 -1.30776 -1.00783  1.20189 -0.95728 -0.64625\n",
      " -2.50829 -0.24891  2.83947 -1.65554  0.31284  1.8531   0.89199  1.36131\n",
      "  1.93151  2.15813 -2.59233  0.76801  2.70731  1.26287 -1.90578 -1.27011\n",
      "  2.21357 -1.98968 -1.61313 -2.24135 -2.09283  3.04791 -1.86472  1.87274\n",
      "  2.79109 -2.63793  2.44539 -2.95784  1.90824 -2.84715 -2.78669 -2.89587\n",
      " -2.77556 -2.36559 -2.91313 -2.73289 -2.86298 -2.69504 -1.93869 -1.10068\n",
      "  1.87753 -2.44516 -0.53666 -0.50905 -0.5155  -0.2703  -0.15106  1.46245\n",
      " -0.34453 -0.08365 -2.90158 -2.13255 -2.83791 -2.6308  -2.79983 -1.98572\n",
      " -0.40333 -1.9997  -1.91272 -1.95416  3.02091 -2.21794 -2.02691 -1.90736\n",
      " -1.60386  2.88367 -3.10297  0.32683  0.7984  -0.56493 -1.80101 -0.56569\n",
      "  0.63406  2.21789 -1.79128 -1.67237  2.44546  1.97648  2.68446 -2.27416\n",
      " -0.58175  0.99578  2.69214  2.5427   0.57792  3.07157 -0.34362 -0.22839\n",
      "  1.93037 -0.99771 -0.68357 -0.92954 -1.97596 -1.18155 -0.24411  1.01881\n",
      "  2.31293 -1.60036 -0.76636 -0.56451  0.70675 -2.47064]\n",
      "\n",
      " -------------- \n",
      "-------------- \n",
      "\n",
      "\n",
      " Track energy: \n",
      "\n",
      "[  5.6021    1.66016   0.47036  44.62811   2.31656  13.06502  16.50532\n",
      "  11.26621   4.43178   1.0976    9.09909  53.91233   4.07552   0.99881\n",
      "   0.34241   4.69341   1.29921   1.51558   4.53567   0.19694   0.69202\n",
      "   1.51073   3.09931  10.73827  96.49694  19.82226   2.5939   10.60905\n",
      "   1.28842   0.21191   0.64563  33.46601   0.86497   1.2743    3.28355\n",
      "   2.1067    1.72407  50.5003    0.39995   0.96538   0.74779   2.9366\n",
      "   0.76412   0.28558   2.32203   1.62332   0.62714   8.49286  22.18291\n",
      "  10.28772   1.10438   0.62041   6.85332   0.75534   1.83618   1.22538\n",
      "   1.75074   0.37357   7.68701   0.9642   50.2949    1.32661   1.72845\n",
      "   1.97934   1.07795   1.26617   2.30301   0.91284   0.38862   3.20666\n",
      "   0.33535   1.01397   1.17051   0.97068   0.44657   1.00711   0.25908\n",
      "   0.71296   7.21373   5.54504 280.98068  91.30517  19.43954  16.3791\n",
      "   1.99702   1.3293    1.6071    3.39901  25.83426  20.1576   19.10089\n",
      "   0.34912  33.29053  14.15633   6.54973   1.0344   42.61252   2.02943\n",
      "   1.45936  50.51196   1.63874   0.34719   4.52713   0.53726   2.11474\n",
      "  53.38337  11.59833   9.36704   7.49651   1.85479   7.14827  17.93844\n",
      "  15.35871   0.51199   3.76879   0.35069   0.98384   4.0693    2.1379\n",
      "   6.58467   8.86877  19.20546   3.86587  13.47264   0.81033   0.34322\n",
      "   0.47123   0.50867   3.00618   5.90512   6.54675   1.56879   0.3601\n",
      "   0.77437   1.78147   0.38445   0.5938    2.8241    4.26966   2.38107\n",
      "   2.03998   0.2759    6.00814  13.14688  53.25865  10.52366   5.02316\n",
      "  12.24587   2.05114   6.72979  23.5477    0.42128   0.96739]\n",
      "\n",
      " Track Eta: \n",
      "\n",
      "[ 1.31352 -0.73419 -0.75406 -0.98676 -1.0792  -0.96841 -1.26791 -1.22089\n",
      "  0.22645 -1.1629   0.57913 -0.9862   1.14006  0.73844 -2.07274 -1.65566\n",
      " -1.15482  0.16518  0.74919  1.43195 -1.31397 -1.05257 -0.97854 -0.94777\n",
      "  0.15145  0.16995 -1.41528  0.13714  0.0601  -0.88705  1.03325 -1.32221\n",
      " -1.27193 -1.3358  -0.66206  0.27075  0.15488  0.16587 -1.02562  0.30299\n",
      " -1.37138 -2.22797  1.93289  2.13901 -1.41972 -1.44074  0.80317 -0.6917\n",
      "  0.16152  0.11338  2.30786  2.42164  0.15936  1.04748  0.54073  0.48429\n",
      " -0.71767 -2.05932 -0.92076  1.53839  0.1684  -1.88233 -1.85831 -1.01312\n",
      " -0.56031 -1.0613  -1.00181 -1.30449 -2.44945 -0.73444  2.16892 -1.4649\n",
      "  1.34952 -0.85189  2.18145 -0.78756 -0.14642  1.87777 -0.94023 -0.88871\n",
      "  0.14566  0.13959 -0.98828 -0.97499 -1.29601 -1.38324 -1.36484 -1.3751\n",
      "  0.10071  0.08371  0.10976 -0.51581 -1.29521 -1.27887 -1.33619 -0.72589\n",
      " -0.71209  2.44246  0.63655 -0.99215  2.32156  2.14482 -1.36836 -1.29544\n",
      " -1.90828  0.15931  0.18002 -1.54863 -1.50697  0.80055 -0.73117 -0.70149\n",
      "  0.14526  1.28433 -0.89471 -1.24672  2.29406  0.51755  0.52648  0.59004\n",
      "  0.54098  0.54651  0.56093  0.53778 -1.94721  1.53188 -2.10625 -1.94079\n",
      " -1.60043 -0.59695 -0.6518  -0.91017 -0.4686  -1.38305 -1.48987 -1.22975\n",
      "  0.39665 -0.96942 -1.17467 -1.04179 -0.90725 -2.10327 -1.04478 -1.00278\n",
      " -0.98911 -0.98318  0.10507  0.1305   0.1004  -0.68451 -0.70552  0.50832\n",
      "  0.34524]\n",
      "\n",
      " Track Phi: \n",
      "\n",
      "[-2.91791 -2.40368 -2.61033 -0.50085 -0.25705 -0.17664 -2.80848 -2.80049\n",
      " -1.95221  1.27793 -1.95724 -0.50058  2.75581 -1.85397  1.59685 -2.80255\n",
      " -2.73533 -2.17004  0.95193 -0.19885 -1.18233  1.30095 -0.28419 -0.29654\n",
      " -1.84263 -1.88224 -2.92415 -1.99204 -2.16934 -0.94139 -1.42047 -2.79403\n",
      " -2.39957 -2.69001 -2.80492 -2.10628 -1.94948 -1.99448 -1.87713 -2.7925\n",
      " -2.84967 -1.69264  1.13197 -2.02028 -2.96995 -2.75798 -0.66031 -2.79345\n",
      " -1.87987 -1.83193  2.02245 -1.28684 -2.02677  2.43962  2.11111  2.17403\n",
      "  0.31079 -2.6968  -0.34662  0.25838 -2.00599  2.82559 -2.96491 -0.1609\n",
      " -2.99369 -2.75569 -2.45161 -2.27936 -1.55534 -2.8884  -1.3686  -2.63345\n",
      "  2.81495 -0.87245  1.6373  -0.10857 -1.17676 -3.07592 -0.23321 -0.37471\n",
      " -1.84792 -1.84427 -0.44218 -0.49085 -2.76355 -2.89405 -2.88356 -2.80035\n",
      " -1.99768 -1.98871 -1.98262  2.16795 -2.74559 -2.78569 -2.76695 -2.69455\n",
      " -2.80991 -1.91567  1.98154 -0.49184 -1.7181  -1.49214 -2.80328  2.83092\n",
      " -1.93396 -1.88328 -1.88025 -2.91435 -2.80544 -0.54167 -2.87727 -2.85789\n",
      " -2.0277   2.11044 -0.403   -2.9344  -0.30717 -2.09909 -1.96731 -1.99418\n",
      " -2.00168 -2.01086 -2.00124 -1.97106  2.30901 -2.45284 -1.35802  0.54781\n",
      "  1.67296 -2.85824 -2.82249 -0.32139  1.02781 -1.02621 -2.54672 -2.82865\n",
      " -2.66506  1.59246  1.73192  1.83873  1.56451  2.19403 -0.48126 -0.5187\n",
      " -0.48206 -0.54264 -1.97606 -2.00251 -2.04506 -2.81436 -2.80427 -2.39385\n",
      " -1.88533]\n"
     ]
    }
   ],
   "source": [
    "\n",
    "np.set_printoptions(precision=5, suppress=True)\n",
    "print(\"Ehad energy: \\n\")\n",
    "print(f\"{np.array(clusters[0]['Ehad'][id])}\")\n",
    "print(\"\\n Eem energy: \\n\")\n",
    "print(f\"{np.array(clusters[0]['Eem'][id], dtype='float')}\")\n",
    "print(\"\\n Eta: \\n\")\n",
    "print(f\"{np.array(clusters[0]['Eta'][id])}\")\n",
    "print(\"\\n Phi: \\n\")\n",
    "print(f\"{np.array(clusters[0]['Phi'][id])}\")\n",
    "print(\"\\n -------------- \")\n",
    "print(\"-------------- \\n\")\n",
    "print(\"\\n Track energy: \\n\")\n",
    "print(f\"{np.array(tracks[0]['PT'][id])}\")\n",
    "print(\"\\n Track Eta: \\n\")\n",
    "print(f\"{np.array(tracks[0]['Eta'][id])}\")\n",
    "print(\"\\n Track Phi: \\n\")\n",
    "print(f\"{np.array(tracks[0]['Phi'][id])}\")\n",
    " "
   ]
  },
  {
   "cell_type": "code",
   "execution_count": 61,
   "metadata": {},
   "outputs": [],
   "source": [
    "\n",
    "\n",
    "filename = f\"{LABELS[0]}_eventid_{id}_cluster_values\"\n",
    "file = open(f\"../results/{filename}.txt\", \"w\")\n",
    "file.write(\"Ehad energy: \\n\")\n",
    "file.write(f\"{np.array(clusters[0]['Ehad'][id])}\")\n",
    "file.write(\"\\n Eem energy: \\n\")\n",
    "file.write(f\"{np.array(clusters[0]['Eem'][id], dtype='float')}\")\n",
    "file.write(\"\\n Eta: \\n\")\n",
    "file.write(f\"{np.array(clusters[0]['Eta'][id])}\")\n",
    "file.write(\"\\n Phi: \\n\")\n",
    "file.write(f\"{np.array(clusters[0]['Phi'][id])}\")\n",
    "file.write(\"\\n -------------- \")\n",
    "file.write(\"-------------- \\n\")\n",
    "file.write(\"\\n Track energy: \\n\")\n",
    "file.write(f\"{np.array(tracks[0]['PT'][id])}\")\n",
    "file.write(\"\\n Track Eta: \\n\")\n",
    "file.write(f\"{np.array(tracks[0]['Eta'][id])}\")\n",
    "file.write(\"\\n Track Phi: \\n\")\n",
    "file.write(f\"{np.array(tracks[0]['Phi'][id])}\")\n",
    "\n",
    "file.close()\n",
    "\n",
    "    "
   ]
  }
 ],
 "metadata": {
  "kernelspec": {
   "display_name": "matrices",
   "language": "python",
   "name": "python3"
  },
  "language_info": {
   "codemirror_mode": {
    "name": "ipython",
    "version": 3
   },
   "file_extension": ".py",
   "mimetype": "text/x-python",
   "name": "python",
   "nbconvert_exporter": "python",
   "pygments_lexer": "ipython3",
   "version": "3.9.7"
  }
 },
 "nbformat": 4,
 "nbformat_minor": 2
}

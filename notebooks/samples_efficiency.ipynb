{
 "cells": [
  {
   "cell_type": "code",
   "execution_count": 1,
   "id": "6422a9ac",
   "metadata": {},
   "outputs": [],
   "source": [
    "import numpy as np\n",
    "import matplotlib.pyplot as plt\n",
    "import pandas as pd\n",
    "import sys\n",
    "import uproot\n",
    "from pathlib import Path\n",
    "import awkward as ak\n",
    "import seaborn as sn\n",
    "import atlas_mpl_style as ampl\n",
    "ampl.use_atlas_style()  "
   ]
  },
  {
   "cell_type": "code",
   "execution_count": 2,
   "id": "79f06ffb",
   "metadata": {},
   "outputs": [],
   "source": [
    "# import custom functions from src folder\n",
    "module_path = str(Path.cwd().parents[0] / \"src\")\n",
    "\n",
    "if module_path not in sys.path:\n",
    "    sys.path.append(module_path)\n",
    "\n",
    "from imcal import *"
   ]
  },
  {
   "cell_type": "markdown",
   "id": "1ed9e8fa",
   "metadata": {},
   "source": [
    "# Efficiency of cuts\n",
    "\n",
    "This notebook investigates the impact of cuts on the data to know how many events should be simulated to have a set number of events after cuts."
   ]
  },
  {
   "cell_type": "code",
   "execution_count": 3,
   "id": "05d953ba",
   "metadata": {},
   "outputs": [
    {
     "name": "stdout",
     "output_type": "stream",
     "text": [
      "['BH_n2_M10', 'BH_n4_M10', 'BH_n6_M10', 'SPH_9TeV']\n"
     ]
    }
   ],
   "source": [
    "N_DIMS = [2, 4, 6]\n",
    "M_MIN = [10]\n",
    "\n",
    "BH_labels = [\"\"]*(len(N_DIMS)*len(M_MIN))\n",
    "i = 0\n",
    "for n in N_DIMS:\n",
    "    for M in M_MIN:\n",
    "        BH_labels[i] = f\"BH_n{n}_M{M}\"\n",
    "        i=i+1\n",
    "BH_data_paths = [f\"/disk/atlas3/data_MC/delphes/{label}_10000events.root:Delphes\" for label in BH_labels]\n",
    "\n",
    "sph_data_paths = [\"/disk/atlas3/data_MC/delphes/PP13-Sphaleron-THR9-FRZ15-NB0-NSUBPALL_10000events.root:Delphes\"]\n",
    "sph_labels = [\"SPH_9TeV\"]\n",
    "\n",
    "##Defines the number of high pT objects, used to perform cut\n",
    "min_pt = 70\n",
    "max_eta = 2.4 \n",
    "ST_min = 7\n",
    "N_min = 5\n",
    "\n",
    "n_BH_labels = len(BH_data_paths)\n",
    "n_sph_labels = len(sph_data_paths)\n",
    "\n",
    "N_EVENTS = 15000\n",
    "\n",
    "labels = BH_labels + sph_labels\n",
    "print(labels)"
   ]
  },
  {
   "cell_type": "code",
   "execution_count": 4,
   "id": "d0e08570",
   "metadata": {},
   "outputs": [
    {
     "name": "stdout",
     "output_type": "stream",
     "text": [
      "Sample: /disk/atlas3/data_MC/delphes/BH_n2_M10_10000events.root:Delphes\n",
      "Number of events loaded: 10000\n",
      "Applying ST min cut: 7 and N min cut: 5\n",
      "Number of events after cut: 5525\n",
      "Sample: /disk/atlas3/data_MC/delphes/BH_n4_M10_10000events.root:Delphes\n",
      "Number of events loaded: 12000\n",
      "Applying ST min cut: 7 and N min cut: 5\n",
      "Number of events after cut: 5855\n",
      "Sample: /disk/atlas3/data_MC/delphes/BH_n6_M10_10000events.root:Delphes\n",
      "Number of events loaded: 10000\n",
      "Applying ST min cut: 7 and N min cut: 5\n",
      "Number of events after cut: 4275\n",
      "Sample: /disk/atlas3/data_MC/delphes/PP13-Sphaleron-THR9-FRZ15-NB0-NSUBPALL_10000events.root:Delphes\n",
      "Number of events loaded: 10000\n",
      "Applying ST min cut: 7 and N min cut: 5\n",
      "Number of events after cut: 1817\n"
     ]
    }
   ],
   "source": [
    "#Open file in with-function will close it when you exit\n",
    "\n",
    "def get_arrays(data_paths):\n",
    "    \n",
    "    ST_list = [0]*len(data_paths)\n",
    "    N_list = [0]*len(data_paths)\n",
    "        #Load data\n",
    "    for i, data_path in enumerate(data_paths):\n",
    "        clusters = load_data(data_path, \"Tower\", \n",
    "                            [\"Tower.ET\", \"Tower.Eta\", \"Tower.Phi\", \"Tower.Eem\", \"Tower.Ehad\"], N_EVENTS)\n",
    "\n",
    "        jets = load_data(data_path, \"Jet\", \n",
    "                                    [\"Jet.PT\", \"Jet.Eta\"], N_EVENTS)\n",
    "                        \n",
    "        met = load_data(data_path, \"MissingET\", \n",
    "                                [\"MissingET.MET\", \"MissingET.Eta\"], N_EVENTS)\n",
    "\n",
    "        electrons = load_data(data_path, \"Electron\", \n",
    "                                [\"Electron.PT\", \"Electron.Eta\"], N_EVENTS)\n",
    "\n",
    "        muons = load_data(data_path, \"Muon\", \n",
    "                                [\"Muon.PT\", \"Muon.Eta\"], N_EVENTS)\n",
    "\n",
    "        photons = load_data(data_path, \"Photon\", \n",
    "                                [\"Photon.PT\", \"Photon.Eta\"], N_EVENTS)\n",
    "\n",
    "        print(f\"Sample: {data_path}\")\n",
    "        print(f\"Number of events loaded: {len(clusters)}\")\n",
    "\n",
    "        #Calculate N and ST\n",
    "        jets, n_jets = cut_pt_eta(jets, min_pt, max_eta)\n",
    "        electrons, n_electrons = cut_pt_eta(electrons, min_pt, max_eta)\n",
    "        muons, n_muons = cut_pt_eta(muons, min_pt, max_eta)\n",
    "        photons, n_photons = cut_pt_eta(photons, min_pt, max_eta)\n",
    "        met = cut_pt_eta_met(met, min_pt, max_eta)\n",
    "\n",
    "        ST = calculate_ST(jets, muons, electrons, photons, met)\n",
    "        N = np.array(n_jets) + np.array(n_electrons) + np.array(n_muons) + np.array(n_photons)\n",
    "        ST_list[i] = ST\n",
    "        N_list[i] = N\n",
    "\n",
    "        ST_idx = np.nonzero(ST >= ST_min)\n",
    "        N_idx = np.nonzero(N >= N_min)\n",
    "        cut_idx = np.intersect1d(ST_idx, N_idx)\n",
    "\n",
    "        #Apply cut\n",
    "        print(f\"Applying ST min cut: {ST_min} and N min cut: {N_min}\")\n",
    "        clusters = clusters[cut_idx]\n",
    "        CUT_EVENTS = len(clusters)\n",
    "        print(f\"Number of events after cut: {CUT_EVENTS}\") \n",
    "    \n",
    "    return ST_list, N_list\n",
    "\n",
    "BH_ST, BH_N = get_arrays(BH_data_paths)\n",
    "sph_ST, sph_N = get_arrays(sph_data_paths)\n"
   ]
  },
  {
   "cell_type": "code",
   "execution_count": 5,
   "id": "311b7a2a",
   "metadata": {},
   "outputs": [],
   "source": [
    "#Dictionary \n",
    "df_dict = {}\n",
    "for i, label in enumerate(BH_labels):\n",
    "    df_dict[label] = pd.DataFrame({\"N\":BH_N[i], \"ST\":BH_ST[i]})\n",
    "\n",
    "for i, label in enumerate(sph_labels):\n",
    "    df_dict[label] = pd.DataFrame({\"N\":sph_N[i], \"ST\":sph_ST[i]})\n"
   ]
  },
  {
   "cell_type": "code",
   "execution_count": 6,
   "id": "6ac77884",
   "metadata": {},
   "outputs": [
    {
     "name": "stdout",
     "output_type": "stream",
     "text": [
      "Efficiency for N >= 5 and ST >= 7:\n",
      "BH_n2_M10: 10000, 5525\n",
      "BH_n2_M10: 0.55\n",
      "BH_n4_M10: 12000, 5855\n",
      "BH_n4_M10: 0.49\n",
      "BH_n6_M10: 10000, 4275\n",
      "BH_n6_M10: 0.43\n",
      "SPH_9TeV: 10000, 1817\n",
      "SPH_9TeV: 0.18\n"
     ]
    }
   ],
   "source": [
    "def efficiency(dictionary, N_cut, ST_cut, labels, file):\n",
    "    print(f\"Efficiency for N >= {N_cut} and ST >= {ST_cut}:\")\n",
    "    file.write(f\"Efficiency for N >= {N_cut} and ST >= {ST_cut}:\\n\")\n",
    "    for label in labels:\n",
    "        df = dictionary[label]\n",
    "        N_before = len(df)\n",
    "        df = df[df[\"N\"] >= N_cut]\n",
    "        df = df[df[\"ST\"] >= ST_cut] \n",
    "        N_after = len(df)\n",
    "        print(f\"{label}: {N_before}, {N_after}\")\n",
    "        print(f\"{label}: {np.round(N_after/N_before, 2)}\")\n",
    "        file.write(f\"{label}: {np.round(N_after/N_before, 2)}\\n\")\n",
    "\n",
    "N_cuts = [5]\n",
    "ST_cuts = [7]\n",
    "\n",
    "file = open(\"../results/Efficiencies_paper.txt\", \"w\")\n",
    "\n",
    "for N_cut in N_cuts:\n",
    "    for ST_cut in ST_cuts:\n",
    "        efficiency(df_dict, N_cut, ST_cut, labels, file)\n",
    "file.close()"
   ]
  }
 ],
 "metadata": {
  "kernelspec": {
   "display_name": "Python 3.9.7 ('matrices': conda)",
   "language": "python",
   "name": "python3"
  },
  "language_info": {
   "codemirror_mode": {
    "name": "ipython",
    "version": 3
   },
   "file_extension": ".py",
   "mimetype": "text/x-python",
   "name": "python",
   "nbconvert_exporter": "python",
   "pygments_lexer": "ipython3",
   "version": "3.9.7"
  },
  "vscode": {
   "interpreter": {
    "hash": "5b1332e5a07ce33895000dbe941ad9cee852d3baee8993fa123c6057492c40e7"
   }
  }
 },
 "nbformat": 4,
 "nbformat_minor": 5
}

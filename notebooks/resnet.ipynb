{
 "cells": [
  {
   "cell_type": "code",
   "execution_count": 1,
   "metadata": {},
   "outputs": [],
   "source": [
    "import torch\n",
    "import torchvision\n",
    "from torchvision import transforms, datasets\n",
    "import matplotlib.pyplot as plt\n",
    "import pickle\n",
    "from tqdm import tqdm\n",
    "import time\n",
    "import pandas as pd\n",
    "import torch.nn as nn\n",
    "import torch.nn.functional as F\n",
    "import torch.optim as optim\n",
    "from torch.utils.data import DataLoader\n",
    "from torch.utils.data import Dataset\n",
    "\n",
    "data_path = \"../data/histograms/\""
   ]
  },
  {
   "cell_type": "code",
   "execution_count": 2,
   "metadata": {},
   "outputs": [
    {
     "name": "stdout",
     "output_type": "stream",
     "text": [
      "jet_nr_resnet-1643806376\n"
     ]
    }
   ],
   "source": [
    "#variables\n",
    "VAL_PCT = 0.2\n",
    "N_EVENTS = 10000\n",
    "EPOCHS = 100\n",
    "CUDA = torch.device('cuda') \n",
    "MODEL_NAME = \"jet_nr_resnet-\" + str(int(time.time()))\n",
    "RESOLUTION = int(80)\n",
    "print(MODEL_NAME)"
   ]
  },
  {
   "cell_type": "code",
   "execution_count": 3,
   "metadata": {},
   "outputs": [],
   "source": [
    "def load_pickle_file(path, file_name):\n",
    "    return pickle.load(open(path + file_name, 'rb') )\n",
    "\n",
    "\n",
    "\n",
    "class CalorimeterDataset(Dataset):\n",
    "    def __init__(self, images, labels):\n",
    "            self.img_labels = labels\n",
    "            self.images = images\n",
    "            \n",
    "    def __len__(self):\n",
    "        return len(self.img_labels)\n",
    "    \n",
    "    def __getitem__(self, idx):\n",
    "        image = self.images[idx]\n",
    "        label = self.img_labels[idx]\n",
    "        return image, label\n",
    "\n",
    "def label_maker(labels, max_value):\n",
    "    label_lists = torch.zeros([len(labels), max_value + 1])\n",
    "    labels[labels > max_value] = max_value\n",
    "    for i in range (0, len(labels)):\n",
    "        label = labels[i]\n",
    "        label_lists[i, label] = 1 \n",
    "    return label_lists\n",
    "\n",
    "def normalize(AA, batchsize):\n",
    "    print(AA.size())\n",
    "    AA = AA.view(AA.size(0), -1)\n",
    "    AA -= AA.min(1, keepdim=True)[0]\n",
    "    AA /= AA.max(1, keepdim=True)[0]\n",
    "    AA = AA.view(batchsize, 80, 80, 1)\n",
    "    print(AA.size())\n",
    "    return AA\n",
    "\n",
    "def load_data(input_file, label_file):\n",
    "    val_size = int(N_EVENTS*VAL_PCT)\n",
    "    train_size = int(N_EVENTS*(1-VAL_PCT))\n",
    "    \n",
    "    Cal_train = torch.tensor(load_pickle_file(data_path, input_file)[:-val_size]).unsqueeze(3).float().cuda()\n",
    "    Cal_train = normalize(Cal_train, len(Cal_train))\n",
    "    labels_train = torch.tensor(load_pickle_file(data_path, label_file)[:-val_size]).cuda()\n",
    "    labels_train = label_maker(labels_train, 2)\n",
    "\n",
    "    Cal_test = torch.tensor(load_pickle_file(data_path, input_file)[-val_size:]).unsqueeze(3).float().cuda()\n",
    "    Cal_test = normalize(Cal_test, len(Cal_test))\n",
    "    labels_test = torch.tensor(load_pickle_file(data_path, label_file)[-val_size:]).cuda()\n",
    "    labels_test = label_maker(labels_test, 2)\n",
    "    \n",
    "    train_dataset = CalorimeterDataset(Cal_train, labels_train)\n",
    "    test_dataset = CalorimeterDataset(Cal_test, labels_test)\n",
    "    \n",
    "    return train_dataset, test_dataset\n",
    "\n",
    "\n",
    "class Block(nn.Module):\n",
    "    def __init__(self, num_layers, in_channels, out_channels, identity_downsample=None, stride=1):\n",
    "        assert num_layers in [18, 34, 50, 101, 152], \"should be a a valid architecture\"\n",
    "        super(Block, self).__init__()\n",
    "        self.num_layers = num_layers\n",
    "        if self.num_layers > 34:\n",
    "            self.expansion = 4\n",
    "        else:\n",
    "            self.expansion = 1\n",
    "        # ResNet50, 101, and 152 include additional layer of 1x1 kernels\n",
    "        self.conv1 = nn.Conv2d(in_channels, out_channels, kernel_size=1, stride=1, padding=0)\n",
    "        self.bn1 = nn.BatchNorm2d(out_channels)\n",
    "        if self.num_layers > 34:\n",
    "            self.conv2 = nn.Conv2d(out_channels, out_channels, kernel_size=3, stride=stride, padding=1)\n",
    "        else:\n",
    "            # for ResNet18 and 34, connect input directly to (3x3) kernel (skip first (1x1))\n",
    "            self.conv2 = nn.Conv2d(in_channels, out_channels, kernel_size=3, stride=stride, padding=1)\n",
    "        self.bn2 = nn.BatchNorm2d(out_channels)\n",
    "        self.conv3 = nn.Conv2d(out_channels, out_channels * self.expansion, kernel_size=1, stride=1, padding=0)\n",
    "        self.bn3 = nn.BatchNorm2d(out_channels * self.expansion)\n",
    "        self.relu = nn.ReLU()\n",
    "        self.identity_downsample = identity_downsample\n",
    "\n",
    "    def forward(self, x):\n",
    "        identity = x\n",
    "        if self.num_layers > 34:\n",
    "            x = self.conv1(x)\n",
    "            x = self.bn1(x)\n",
    "            x = self.relu(x)\n",
    "        x = self.conv2(x)\n",
    "        x = self.bn2(x)\n",
    "        x = self.relu(x)\n",
    "        x = self.conv3(x)\n",
    "        x = self.bn3(x)\n",
    "\n",
    "        if self.identity_downsample is not None:\n",
    "            identity = self.identity_downsample(identity)\n",
    "\n",
    "        x += identity\n",
    "        x = self.relu(x)\n",
    "        return x\n",
    "\n",
    "\n",
    "class ResNet(nn.Module):\n",
    "    def __init__(self, num_layers, block, image_channels, num_classes):\n",
    "        assert num_layers in [18, 34, 50, 101, 152], f'ResNet{num_layers}: Unknown architecture! Number of layers has ' \\\n",
    "                                                     f'to be 18, 34, 50, 101, or 152 '\n",
    "        super(ResNet, self).__init__()\n",
    "        if num_layers < 50:\n",
    "            self.expansion = 1\n",
    "        else:\n",
    "            self.expansion = 4\n",
    "        if num_layers == 18:\n",
    "            layers = [2, 2, 2, 2]\n",
    "        elif num_layers == 34 or num_layers == 50:\n",
    "            layers = [3, 4, 6, 3]\n",
    "        elif num_layers == 101:\n",
    "            layers = [3, 4, 23, 3]\n",
    "        else:\n",
    "            layers = [3, 8, 36, 3]\n",
    "        self.in_channels = 64\n",
    "        self.conv1 = nn.Conv2d(image_channels, 64, kernel_size=7, stride=2, padding=3)\n",
    "        self.bn1 = nn.BatchNorm2d(64)\n",
    "        self.relu = nn.ReLU()\n",
    "        self.maxpool = nn.MaxPool2d(kernel_size=3, stride=2, padding=1)\n",
    "\n",
    "        # ResNetLayers\n",
    "        self.layer1 = self.make_layers(num_layers, block, layers[0], intermediate_channels=64, stride=1)\n",
    "        self.layer2 = self.make_layers(num_layers, block, layers[1], intermediate_channels=128, stride=2)\n",
    "        self.layer3 = self.make_layers(num_layers, block, layers[2], intermediate_channels=256, stride=2)\n",
    "        self.layer4 = self.make_layers(num_layers, block, layers[3], intermediate_channels=512, stride=2)\n",
    "\n",
    "        self.avgpool = nn.AdaptiveAvgPool2d((1, 1))\n",
    "        self.fc = nn.Linear(512 * self.expansion, num_classes)\n",
    "\n",
    "    def forward(self, x):\n",
    "        x = self.conv1(x)\n",
    "        x = self.bn1(x)\n",
    "        x = self.relu(x)\n",
    "        x = self.maxpool(x)\n",
    "\n",
    "        x = self.layer1(x)\n",
    "        x = self.layer2(x)\n",
    "        x = self.layer3(x)\n",
    "        x = self.layer4(x)\n",
    "\n",
    "        x = self.avgpool(x)\n",
    "        x = x.reshape(x.shape[0], -1)\n",
    "        x = self.fc(x)\n",
    "        return x\n",
    "\n",
    "    def make_layers(self, num_layers, block, num_residual_blocks, intermediate_channels, stride):\n",
    "        layers = []\n",
    "\n",
    "        identity_downsample = nn.Sequential(nn.Conv2d(self.in_channels, intermediate_channels*self.expansion, kernel_size=1, stride=stride),\n",
    "                                            nn.BatchNorm2d(intermediate_channels*self.expansion))\n",
    "        layers.append(block(num_layers, self.in_channels, intermediate_channels, identity_downsample, stride))\n",
    "        self.in_channels = intermediate_channels * self.expansion # 256\n",
    "        for i in range(num_residual_blocks - 1):\n",
    "            layers.append(block(num_layers, self.in_channels, intermediate_channels)) # 256 -> 64, 64*4 (256) again\n",
    "        return nn.Sequential(*layers)\n",
    "\n",
    "\n",
    "def ResNet18(img_channels=3, num_classes=1000):\n",
    "    return ResNet(18, Block, img_channels, num_classes)\n",
    "\n",
    "\n",
    "def ResNet34(img_channels=3, num_classes=1000):\n",
    "    return ResNet(34, Block, img_channels, num_classes)\n",
    "\n",
    "\n",
    "def ResNet50(img_channels=3, num_classes=1000):\n",
    "    return ResNet(50, Block, img_channels, num_classes)\n",
    "\n",
    "\n",
    "def ResNet101(img_channels=3, num_classes=1000):\n",
    "    return ResNet(101, Block, img_channels, num_classes)\n",
    "\n",
    "\n",
    "def ResNet152(img_channels=3, num_classes=1000):\n",
    "    return ResNet(152, Block, img_channels, num_classes)\n",
    "\n",
    "\n",
    "def fwd_pass(net, X, y, train=False):\n",
    "    if train:\n",
    "        net.zero_grad()\n",
    "    outputs = net(X.view(-1, 1, 80, 80).cuda())\n",
    "    matches = [torch.argmax(i) == torch.argmax(j) for i, j in zip(outputs, y)]\n",
    "    acc = matches.count(True)/len(matches)\n",
    "    loss = F.cross_entropy(outputs, y.cuda()) # loss_function(outputs, y)\n",
    "    \n",
    "    if train:\n",
    "        loss.backward()\n",
    "        optimizer.step()\n",
    "    return acc, loss\n",
    "\n",
    "def test(net, data, size = 32):\n",
    "    dataset = DataLoader(data, size, shuffle=True) #shuffle data and choose batch size\n",
    "    X, y = next(iter(dataset)) #get a random batch\n",
    "    val_acc, val_loss = fwd_pass(net, X, y)\n",
    "    return val_acc, val_loss\n",
    "    \n",
    "def predict(net, data):\n",
    "    dataset = DataLoader(data, 1, shuffle=True) #shuffle data and choose batch size\n",
    "    prediction = torch.zeros(len(dataset))\n",
    "    truth = torch.zeros(len(dataset))\n",
    "    i = 0\n",
    "    for data in tqdm(dataset):\n",
    "        X, y = data\n",
    "        output = net(X.view(-1, 1, 80, 80).cuda())\n",
    "        prediction[i] = torch.argmax(output)\n",
    "        truth[i] = torch.argmax(y)\n",
    "        i = i +1\n",
    "    return truth, prediction\n",
    "        \n",
    "\n",
    "def train(net, traindata, testdata, size, epochs):\n",
    "    dataset = DataLoader(traindata, size, shuffle=True)\n",
    "    df_labels = [\"Loss\", \"Accuracy\", \"Validation loss\", \"Validation accuracy\", \"Epoch\", \"Iteration\"]\n",
    "    df_data = [[0], [0], [0], [0], [0], [0]]\n",
    "    df = pd.DataFrame(dict(zip(df_labels, df_data)))\n",
    "    i = 0\n",
    "    for epoch in tqdm(range(epochs)):\n",
    "        for data in dataset:\n",
    "            i = i+1\n",
    "            X, y = data\n",
    "            acc, loss = fwd_pass(net, X, y, train=True)\n",
    "            if i % 10 == 0:\n",
    "                val_acc, val_loss = test(net, testdata, size=size)\n",
    "                df_data = [float(loss), acc, float(val_loss), val_acc, epoch, i]\n",
    "                #print(df_labels, df_data)\n",
    "                new_df = pd.DataFrame(dict(zip(df_labels, df_data)), index=[0])\n",
    "                df = pd.concat([df, new_df], ignore_index=True)\n",
    "    return df"
   ]
  },
  {
   "cell_type": "code",
   "execution_count": 4,
   "metadata": {},
   "outputs": [
    {
     "name": "stderr",
     "output_type": "stream",
     "text": [
      "/tmp/ipykernel_37665/1947042941.py:40: UserWarning: Creating a tensor from a list of numpy.ndarrays is extremely slow. Please consider converting the list to a single numpy.ndarray with numpy.array() before converting to a tensor. (Triggered internally at  ../torch/csrc/utils/tensor_new.cpp:201.)\n",
      "  Cal_train = torch.tensor(load_pickle_file(data_path, input_file)[:-val_size]).unsqueeze(3).float().cuda()\n"
     ]
    },
    {
     "name": "stdout",
     "output_type": "stream",
     "text": [
      "torch.Size([8000, 80, 80, 1])\n",
      "torch.Size([8000, 80, 80, 1])\n",
      "torch.Size([2000, 80, 80, 1])\n",
      "torch.Size([2000, 80, 80, 1])\n"
     ]
    }
   ],
   "source": [
    "#load data\n",
    "traindata, testdata = load_data('jets_part1_10000events_80x80_min1jet.pkl', 'jets_part1_10000events_80x80_min1jet_labels_njets.pkl')"
   ]
  },
  {
   "cell_type": "code",
   "execution_count": 15,
   "metadata": {},
   "outputs": [
    {
     "ename": "IndexError",
     "evalue": "index 8044 is out of bounds for dimension 0 with size 8000",
     "output_type": "error",
     "traceback": [
      "\u001b[0;31m---------------------------------------------------------------------------\u001b[0m",
      "\u001b[0;31mIndexError\u001b[0m                                Traceback (most recent call last)",
      "Input \u001b[0;32mIn [15]\u001b[0m, in \u001b[0;36m<module>\u001b[0;34m\u001b[0m\n\u001b[1;32m      3\u001b[0m k \u001b[38;5;241m=\u001b[39m [\u001b[38;5;241m1\u001b[39m\u001b[38;5;241m+\u001b[39mx, \u001b[38;5;241m100\u001b[39m\u001b[38;5;241m+\u001b[39mx, \u001b[38;5;241m1000\u001b[39m\u001b[38;5;241m+\u001b[39mx, \u001b[38;5;241m8001\u001b[39m\u001b[38;5;241m+\u001b[39mx, \u001b[38;5;241m8100\u001b[39m\u001b[38;5;241m+\u001b[39mx, \u001b[38;5;241m9000\u001b[39m\u001b[38;5;241m+\u001b[39mx]\n\u001b[1;32m      4\u001b[0m n_jets \u001b[38;5;241m=\u001b[39m [\u001b[38;5;241m0\u001b[39m,\u001b[38;5;241m0\u001b[39m,\u001b[38;5;241m0\u001b[39m,\u001b[38;5;241m2\u001b[39m,\u001b[38;5;241m2\u001b[39m,\u001b[38;5;241m2\u001b[39m]\n\u001b[0;32m----> 5\u001b[0m images \u001b[38;5;241m=\u001b[39m [traindata\u001b[38;5;241m.\u001b[39mimages[item]\u001b[38;5;241m.\u001b[39mcpu() \u001b[38;5;28;01mfor\u001b[39;00m item \u001b[38;5;129;01min\u001b[39;00m k]\n\u001b[1;32m      6\u001b[0m labels \u001b[38;5;241m=\u001b[39m [traindata\u001b[38;5;241m.\u001b[39mimg_labels[item]\u001b[38;5;241m.\u001b[39mcpu() \u001b[38;5;28;01mfor\u001b[39;00m item \u001b[38;5;129;01min\u001b[39;00m k]\n\u001b[1;32m      9\u001b[0m \u001b[38;5;28;01mdef\u001b[39;00m \u001b[38;5;21mcal_image_plot\u001b[39m(ax, n_jets):\n",
      "Input \u001b[0;32mIn [15]\u001b[0m, in \u001b[0;36m<listcomp>\u001b[0;34m(.0)\u001b[0m\n\u001b[1;32m      3\u001b[0m k \u001b[38;5;241m=\u001b[39m [\u001b[38;5;241m1\u001b[39m\u001b[38;5;241m+\u001b[39mx, \u001b[38;5;241m100\u001b[39m\u001b[38;5;241m+\u001b[39mx, \u001b[38;5;241m1000\u001b[39m\u001b[38;5;241m+\u001b[39mx, \u001b[38;5;241m8001\u001b[39m\u001b[38;5;241m+\u001b[39mx, \u001b[38;5;241m8100\u001b[39m\u001b[38;5;241m+\u001b[39mx, \u001b[38;5;241m9000\u001b[39m\u001b[38;5;241m+\u001b[39mx]\n\u001b[1;32m      4\u001b[0m n_jets \u001b[38;5;241m=\u001b[39m [\u001b[38;5;241m0\u001b[39m,\u001b[38;5;241m0\u001b[39m,\u001b[38;5;241m0\u001b[39m,\u001b[38;5;241m2\u001b[39m,\u001b[38;5;241m2\u001b[39m,\u001b[38;5;241m2\u001b[39m]\n\u001b[0;32m----> 5\u001b[0m images \u001b[38;5;241m=\u001b[39m [\u001b[43mtraindata\u001b[49m\u001b[38;5;241;43m.\u001b[39;49m\u001b[43mimages\u001b[49m\u001b[43m[\u001b[49m\u001b[43mitem\u001b[49m\u001b[43m]\u001b[49m\u001b[38;5;241m.\u001b[39mcpu() \u001b[38;5;28;01mfor\u001b[39;00m item \u001b[38;5;129;01min\u001b[39;00m k]\n\u001b[1;32m      6\u001b[0m labels \u001b[38;5;241m=\u001b[39m [traindata\u001b[38;5;241m.\u001b[39mimg_labels[item]\u001b[38;5;241m.\u001b[39mcpu() \u001b[38;5;28;01mfor\u001b[39;00m item \u001b[38;5;129;01min\u001b[39;00m k]\n\u001b[1;32m      9\u001b[0m \u001b[38;5;28;01mdef\u001b[39;00m \u001b[38;5;21mcal_image_plot\u001b[39m(ax, n_jets):\n",
      "\u001b[0;31mIndexError\u001b[0m: index 8044 is out of bounds for dimension 0 with size 8000"
     ]
    }
   ],
   "source": [
    "import numpy as np\n",
    "x = np.random.randint(1, high = 100)\n",
    "k = [1+x, 100+x, 1000+x, 8001+x, 8100+x, 9000+x]\n",
    "n_jets = [0,0,0,2,2,2]\n",
    "images = [traindata.images[item].cpu() for item in k]\n",
    "labels = [traindata.img_labels[item].cpu() for item in k]\n",
    "\n",
    "\n",
    "def cal_image_plot(ax, n_jets):\n",
    "    ax.set_ylabel(r\"$\\phi$ [radians]]\", fontsize=16)\n",
    "    ax.set_xlabel(r\"$\\eta$\", fontsize=16)\n",
    "    ax.set_title(str(n_jets), fontsize=20, color=\"black\")\n",
    "    ax.tick_params(which=\"both\", direction=\"inout\", top=True, right=True, labelsize=14, pad=15, length=4, width=2)\n",
    "    ax.tick_params(which=\"major\", length=8)\n",
    "    ax.tick_params(which=\"major\", length=6)\n",
    "    ax.minorticks_on()\n",
    "\n",
    "fig, axs = plt.subplots(nrows = 1, ncols = 6, figsize = (24,4))\n",
    "for i in range (len(k)):\n",
    "    cal_image_plot(axs[i], n_jets[i])\n",
    "    axs[i].imshow(images[i], extent=[-2.5, 2.5, -np.pi, np.pi], aspect='auto')"
   ]
  },
  {
   "cell_type": "code",
   "execution_count": 5,
   "metadata": {},
   "outputs": [
    {
     "name": "stdout",
     "output_type": "stream",
     "text": [
      "tensor([0., 0., 1.])\n"
     ]
    },
    {
     "data": {
      "text/plain": [
       "<matplotlib.image.AxesImage at 0x7fc7a910a640>"
      ]
     },
     "execution_count": 5,
     "metadata": {},
     "output_type": "execute_result"
    },
    {
     "data": {
      "image/png": "[encoded data removed]",
      "text/plain": [
       "<Figure size 432x288 with 1 Axes>"
      ]
     },
     "metadata": {
      "needs_background": "light"
     },
     "output_type": "display_data"
    }
   ],
   "source": [
    "test_image, test_label = traindata[0]\n",
    "print(test_label)\n",
    "test_image = test_image.cpu()\n",
    "plt.imshow(test_image)"
   ]
  },
  {
   "cell_type": "code",
   "execution_count": 6,
   "metadata": {},
   "outputs": [
    {
     "name": "stdout",
     "output_type": "stream",
     "text": [
      "torch.Size([1, 5])\n",
      "tensor([[-0.2461, -0.2188,  0.1731,  0.5450, -0.8747]],\n",
      "       grad_fn=<AddmmBackward0>)\n",
      "Prediction:  tensor(3)\n"
     ]
    }
   ],
   "source": [
    "def tester():\n",
    "    RESOLUTION = 256\n",
    "    net = ResNet18(img_channels=1, num_classes=5)\n",
    "    #net.to(device = CUDA)\n",
    "    #y = net(torch.randn(4, 1, 80, 80))\n",
    "    y = net(test_image.view(-1, 1, 80, 80))\n",
    "    truth = test_label\n",
    "    matches = [torch.argmax(i) == torch.argmax(j) for i, j in zip(y, truth)]\n",
    "    pred = torch.argmax(y)\n",
    "    print(y.size())\n",
    "    print(y)\n",
    "    print(\"Prediction: \", pred)\n",
    "\n",
    "tester()"
   ]
  },
  {
   "cell_type": "code",
   "execution_count": 7,
   "metadata": {},
   "outputs": [],
   "source": [
    "#create NN\n",
    "net = ResNet18(img_channels=1, num_classes=3)\n",
    "net.to(device = CUDA)\n",
    "optimizer = optim.Adam(net.parameters(), lr=0.001)\n",
    "loss_function = nn.MSELoss()"
   ]
  },
  {
   "cell_type": "code",
   "execution_count": 8,
   "metadata": {},
   "outputs": [
    {
     "name": "stderr",
     "output_type": "stream",
     "text": [
      "100%|██████████| 100/100 [03:46<00:00,  2.27s/it]\n"
     ]
    }
   ],
   "source": [
    "training_results = train(net, traindata, testdata, 100, 100)"
   ]
  },
  {
   "cell_type": "code",
   "execution_count": 9,
   "metadata": {},
   "outputs": [
    {
     "name": "stderr",
     "output_type": "stream",
     "text": [
      "100%|██████████| 2000/2000 [00:09<00:00, 216.24it/s]\n"
     ]
    }
   ],
   "source": [
    "truth, preds = predict(net, testdata)"
   ]
  },
  {
   "cell_type": "code",
   "execution_count": 10,
   "metadata": {},
   "outputs": [
    {
     "name": "stdout",
     "output_type": "stream",
     "text": [
      "tensor([2., 2., 2., 2., 2., 2., 2., 2., 2., 2., 2., 2., 2., 2., 2., 2., 2., 2.,\n",
      "        2., 2., 2., 2., 2., 2., 2., 2., 2., 2., 2., 2., 2., 2., 2., 2., 2., 2.,\n",
      "        2., 2., 2., 2., 2., 2., 2., 2., 2., 2., 2., 2., 2., 2.])\n",
      "tensor([2., 2., 2., 2., 2., 2., 2., 2., 2., 2., 2., 2., 2., 2., 1., 2., 2., 0.,\n",
      "        2., 2., 0., 2., 2., 2., 2., 2., 2., 2., 2., 2., 2., 0., 0., 2., 2., 2.,\n",
      "        2., 2., 0., 2., 0., 2., 2., 2., 2., 2., 0., 2., 2., 2.])\n"
     ]
    }
   ],
   "source": [
    "print(preds[:50])\n",
    "print(truth[:50])"
   ]
  },
  {
   "cell_type": "code",
   "execution_count": 11,
   "metadata": {},
   "outputs": [
    {
     "data": {
      "image/png": "[encoded data removed]",
      "text/plain": [
       "<Figure size 432x288 with 2 Axes>"
      ]
     },
     "metadata": {
      "needs_background": "light"
     },
     "output_type": "display_data"
    }
   ],
   "source": [
    "from sklearn.metrics import confusion_matrix\n",
    "import seaborn as sn\n",
    "\n",
    "#Generate the confusion matrix\n",
    "cf_matrix = confusion_matrix(truth, preds)\n",
    "ax = sn.heatmap(cf_matrix, annot=True, cmap='Blues')\n",
    "\n",
    "ax.set_title('Seaborn Confusion Matrix with labels\\n\\n');\n",
    "ax.set_xlabel('\\nPredicted Values')\n",
    "ax.set_ylabel('Actual Values ');\n",
    "\n",
    "## Ticket labels - List must be in alphabetical order\n",
    "ax.xaxis.set_ticklabels(['0','1', '2'])\n",
    "ax.yaxis.set_ticklabels(['0','1', '2'])\n",
    "\n",
    "## Display the visualization of the Confusion Matrix.\n",
    "plt.show()"
   ]
  },
  {
   "cell_type": "code",
   "execution_count": 12,
   "metadata": {},
   "outputs": [
    {
     "data": {
      "text/plain": [
       "<AxesSubplot:xlabel='Iteration'>"
      ]
     },
     "execution_count": 12,
     "metadata": {},
     "output_type": "execute_result"
    },
    {
     "data": {
      "image/png": "[encoded data removed]",
      "text/plain": [
       "<Figure size 432x288 with 1 Axes>"
      ]
     },
     "metadata": {
      "needs_background": "light"
     },
     "output_type": "display_data"
    }
   ],
   "source": [
    "training_results.plot(\"Iteration\", [\"Accuracy\", \"Validation accuracy\"])"
   ]
  },
  {
   "cell_type": "code",
   "execution_count": 13,
   "metadata": {},
   "outputs": [
    {
     "data": {
      "text/plain": [
       "<AxesSubplot:xlabel='Iteration'>"
      ]
     },
     "execution_count": 13,
     "metadata": {},
     "output_type": "execute_result"
    },
    {
     "data": {
      "image/png": "[encoded data removed]",
      "text/plain": [
       "<Figure size 432x288 with 1 Axes>"
      ]
     },
     "metadata": {
      "needs_background": "light"
     },
     "output_type": "display_data"
    }
   ],
   "source": [
    "training_results.plot(\"Iteration\", [\"Loss\", \"Validation loss\"])"
   ]
  },
  {
   "cell_type": "code",
   "execution_count": 14,
   "metadata": {},
   "outputs": [
    {
     "data": {
      "text/html": [
       "<div>\n",
       "<style scoped>\n",
       "    .dataframe tbody tr th:only-of-type {\n",
       "        vertical-align: middle;\n",
       "    }\n",
       "\n",
       "    .dataframe tbody tr th {\n",
       "        vertical-align: top;\n",
       "    }\n",
       "\n",
       "    .dataframe thead th {\n",
       "        text-align: right;\n",
       "    }\n",
       "</style>\n",
       "<table border=\"1\" class=\"dataframe\">\n",
       "  <thead>\n",
       "    <tr style=\"text-align: right;\">\n",
       "      <th></th>\n",
       "      <th>Loss</th>\n",
       "      <th>Accuracy</th>\n",
       "      <th>Validation loss</th>\n",
       "      <th>Validation accuracy</th>\n",
       "      <th>Epoch</th>\n",
       "      <th>Iteration</th>\n",
       "    </tr>\n",
       "  </thead>\n",
       "  <tbody>\n",
       "    <tr>\n",
       "      <th>0</th>\n",
       "      <td>0.000000e+00</td>\n",
       "      <td>0.00</td>\n",
       "      <td>0.000000</td>\n",
       "      <td>0.00</td>\n",
       "      <td>0</td>\n",
       "      <td>0</td>\n",
       "    </tr>\n",
       "    <tr>\n",
       "      <th>1</th>\n",
       "      <td>2.179687e-01</td>\n",
       "      <td>0.95</td>\n",
       "      <td>0.189174</td>\n",
       "      <td>0.92</td>\n",
       "      <td>0</td>\n",
       "      <td>10</td>\n",
       "    </tr>\n",
       "    <tr>\n",
       "      <th>2</th>\n",
       "      <td>2.322035e-01</td>\n",
       "      <td>0.90</td>\n",
       "      <td>0.220509</td>\n",
       "      <td>0.94</td>\n",
       "      <td>0</td>\n",
       "      <td>20</td>\n",
       "    </tr>\n",
       "    <tr>\n",
       "      <th>3</th>\n",
       "      <td>1.659935e-01</td>\n",
       "      <td>0.94</td>\n",
       "      <td>0.310513</td>\n",
       "      <td>0.88</td>\n",
       "      <td>0</td>\n",
       "      <td>30</td>\n",
       "    </tr>\n",
       "    <tr>\n",
       "      <th>4</th>\n",
       "      <td>2.175272e-01</td>\n",
       "      <td>0.92</td>\n",
       "      <td>0.263945</td>\n",
       "      <td>0.93</td>\n",
       "      <td>0</td>\n",
       "      <td>40</td>\n",
       "    </tr>\n",
       "    <tr>\n",
       "      <th>...</th>\n",
       "      <td>...</td>\n",
       "      <td>...</td>\n",
       "      <td>...</td>\n",
       "      <td>...</td>\n",
       "      <td>...</td>\n",
       "      <td>...</td>\n",
       "    </tr>\n",
       "    <tr>\n",
       "      <th>796</th>\n",
       "      <td>1.403070e-06</td>\n",
       "      <td>1.00</td>\n",
       "      <td>0.538696</td>\n",
       "      <td>0.96</td>\n",
       "      <td>99</td>\n",
       "      <td>7960</td>\n",
       "    </tr>\n",
       "    <tr>\n",
       "      <th>797</th>\n",
       "      <td>1.418535e-06</td>\n",
       "      <td>1.00</td>\n",
       "      <td>0.838108</td>\n",
       "      <td>0.95</td>\n",
       "      <td>99</td>\n",
       "      <td>7970</td>\n",
       "    </tr>\n",
       "    <tr>\n",
       "      <th>798</th>\n",
       "      <td>6.855547e-06</td>\n",
       "      <td>1.00</td>\n",
       "      <td>0.587836</td>\n",
       "      <td>0.95</td>\n",
       "      <td>99</td>\n",
       "      <td>7980</td>\n",
       "    </tr>\n",
       "    <tr>\n",
       "      <th>799</th>\n",
       "      <td>7.271681e-07</td>\n",
       "      <td>1.00</td>\n",
       "      <td>0.408320</td>\n",
       "      <td>0.94</td>\n",
       "      <td>99</td>\n",
       "      <td>7990</td>\n",
       "    </tr>\n",
       "    <tr>\n",
       "      <th>800</th>\n",
       "      <td>2.234637e-05</td>\n",
       "      <td>1.00</td>\n",
       "      <td>0.313497</td>\n",
       "      <td>0.96</td>\n",
       "      <td>99</td>\n",
       "      <td>8000</td>\n",
       "    </tr>\n",
       "  </tbody>\n",
       "</table>\n",
       "<p>801 rows × 6 columns</p>\n",
       "</div>"
      ],
      "text/plain": [
       "             Loss  Accuracy  Validation loss  Validation accuracy  Epoch  \\\n",
       "0    0.000000e+00      0.00         0.000000                 0.00      0   \n",
       "1    2.179687e-01      0.95         0.189174                 0.92      0   \n",
       "2    2.322035e-01      0.90         0.220509                 0.94      0   \n",
       "3    1.659935e-01      0.94         0.310513                 0.88      0   \n",
       "4    2.175272e-01      0.92         0.263945                 0.93      0   \n",
       "..            ...       ...              ...                  ...    ...   \n",
       "796  1.403070e-06      1.00         0.538696                 0.96     99   \n",
       "797  1.418535e-06      1.00         0.838108                 0.95     99   \n",
       "798  6.855547e-06      1.00         0.587836                 0.95     99   \n",
       "799  7.271681e-07      1.00         0.408320                 0.94     99   \n",
       "800  2.234637e-05      1.00         0.313497                 0.96     99   \n",
       "\n",
       "     Iteration  \n",
       "0            0  \n",
       "1           10  \n",
       "2           20  \n",
       "3           30  \n",
       "4           40  \n",
       "..         ...  \n",
       "796       7960  \n",
       "797       7970  \n",
       "798       7980  \n",
       "799       7990  \n",
       "800       8000  \n",
       "\n",
       "[801 rows x 6 columns]"
      ]
     },
     "execution_count": 14,
     "metadata": {},
     "output_type": "execute_result"
    }
   ],
   "source": [
    "training_results"
   ]
  }
 ],
 "metadata": {
  "interpreter": {
   "hash": "5b1332e5a07ce33895000dbe941ad9cee852d3baee8993fa123c6057492c40e7"
  },
  "kernelspec": {
   "display_name": "Python 3.9.7 64-bit ('matrices': conda)",
   "language": "python",
   "name": "python3"
  },
  "language_info": {
   "codemirror_mode": {
    "name": "ipython",
    "version": 3
   },
   "file_extension": ".py",
   "mimetype": "text/x-python",
   "name": "python",
   "nbconvert_exporter": "python",
   "pygments_lexer": "ipython3",
   "version": "3.9.7"
  },
  "orig_nbformat": 4
 },
 "nbformat": 4,
 "nbformat_minor": 2
}

{
 "cells": [
  {
   "cell_type": "code",
   "execution_count": 1,
   "metadata": {},
   "outputs": [],
   "source": [
    "#scientific libraries and plotting\n",
    "import numpy as np\n",
    "import matplotlib.pyplot as plt\n",
    "import pandas as pd\n",
    "\n",
    "#other libraries\n",
    "from tqdm import tqdm\n",
    "import time\n",
    "import random\n",
    "import os\n",
    "import sys\n",
    "from pathlib import Path\n",
    "import h5py\n",
    "\n",
    "#torch specific\n",
    "import torch\n",
    "import torchvision as torchv\n",
    "import torch.nn as nn\n",
    "import torch.nn.functional as F\n",
    "import torch.optim as optim\n",
    "from torch.utils.data import DataLoader\n",
    "from torch.utils.data import Dataset\n",
    "from torch import Tensor\n",
    "from torch.utils import data\n",
    "\n",
    "#Using newest versions of all libraries"
   ]
  },
  {
   "cell_type": "code",
   "execution_count": 2,
   "metadata": {},
   "outputs": [],
   "source": [
    "# import custom functions from src folder\n",
    "module_path = str(Path.cwd().parents[0] / \"src\")\n",
    "\n",
    "if module_path not in sys.path:\n",
    "    sys.path.append(module_path)\n",
    "\n",
    "from machine_learning import *\n",
    "from resnet import *\n",
    "from imcal import *\n",
    "from imcal import CalorimeterDataset\n",
    "from imcal import HDF5LazyDataset\n",
    "from imcal import RandomRoll"
   ]
  },
  {
   "cell_type": "code",
   "execution_count": 9,
   "metadata": {},
   "outputs": [
    {
     "name": "stdout",
     "output_type": "stream",
     "text": [
      "resnet_1668075473\n",
      "Running on the GPU\n"
     ]
    }
   ],
   "source": [
    "#variables controlled by the user. Change these to fit your specific needs.\n",
    "TRAIN_N_EVENTS = 10 #Number of events to process for each class. If higher than the available number of events an exception will be raised.\n",
    "TEST_N_EVENTS = 10 #Number of events to process for each class. If higher than the available number of events an exception will be raised.\n",
    "RES = 100 #resolution\n",
    "\n",
    "#Data specification\n",
    "LABELS = [\"BH_n5_M8TeV\", \"SPH_9\"]\n",
    "TRAIN_FILENAMES = [f\"BH_n5_M8_res{RES}_10000_events.h5\", f\"PP13-Sphaleron-THR9-FRZ15-NB0-NSUBPALL_res{RES}_10000_events.h5\"]\n",
    "TEST_FILENAMES = [f\"BH_n5_M8_res{RES}_3000_events.h5\", f\"PP13-Sphaleron-THR9-FRZ15-NB0-NSUBPALL_res{RES}_3000_events.h5\"]\n",
    "CLASSES = len(LABELS) #The number of output nodes in the net, equal to the number of classes\n",
    "TRAIN_DATAPATH = Path(f\"/disk/atlas3/data_MC/2dhistograms/sph_BH/training/{RES}/\") #The path to the folder containing the training histogram files\n",
    "TEST_DATAPATH = Path(f\"/disk/atlas3/data_MC/2dhistograms/sph_BH/testing/{RES}/\") #The path to the folder containing the testing histogram files\n",
    "\n",
    "MODEL_NAME = f'resnet_{str(int(time.time()))}' #A unique name for the model\n",
    "print(MODEL_NAME)\n",
    "\n",
    "if torch.cuda.is_available():\n",
    "    device = torch.device(\"cuda\")\n",
    "    torch.cuda.empty_cache()\n",
    "    print(\"Running on the GPU\")\n",
    "else:\n",
    "    device = torch.device(\"cpu\")\n",
    "    print(\"Running on the CPU\")\n",
    "\n",
    "#Data processing\n",
    "#filters=[\"saturate\"]\n",
    "filters=None\n",
    "transforms = torch.nn.Sequential(\n",
    "        #torchv.transforms.RandomVerticalFlip(),\n",
    "        #torchv.transforms.RandomHorizontalFlip(),\n",
    "        RandomRoll(1)\n",
    "    )\n",
    "transforms=None"
   ]
  },
  {
   "cell_type": "code",
   "execution_count": 4,
   "metadata": {},
   "outputs": [],
   "source": [
    "\n",
    "def load_datasets(input_files:list, device, n_events:int, filters=None, transforms=None):\n",
    "    \"\"\" \n",
    "    Dataset must be in hdf5 format:\n",
    "    Event1 /group\n",
    "        Data /dataset\n",
    "        Label  /dataset #not used for now\n",
    "    Event2 /group\n",
    "        Data  /dataset\n",
    "        Label  /dataset\n",
    "    \"\"\"\n",
    "    def load_hd5_histogram(path:Path, n_events:int, filters):\n",
    "        with h5py.File(path, 'r') as f:\n",
    "            keys = list(f.keys())\n",
    "            keys = keys[0:n_events]\n",
    "            data = [f[key][\"data\"] for key in keys]\n",
    "            #create array\n",
    "            arr = np.array(data)\n",
    "            print(f\"Loaded data with {len(arr)} entries of shape {np.shape(arr)}\")\n",
    "            print(f\"Check max value: {np.max(arr)}\")\n",
    "            #Filters (normalise etc)\n",
    "            arr = apply_filters(filters, arr, maxvalue=2000)\n",
    "            return Tensor(arr)\n",
    "\n",
    "    def label_maker(n_classes:int, n_events:int):\n",
    "        #Creates labels for the classes. The first class gets value [1, 0, .., 0], the next [0, 1, ..., 0] etc\n",
    "        a = torch.zeros(n_events*n_classes, n_classes, dtype=torch.int)\n",
    "        for i in range(n_classes):\n",
    "            for j in range(n_events):\n",
    "                a[n_events*i + j][i] = 1\n",
    "        return a\n",
    "    print(f\"Loads data with transforms {transforms} and filters {filters}\")\n",
    "    #Loads the data files\n",
    "    data = [load_hd5_histogram(file, n_events, filters) for file in input_files]\n",
    "    Cal = torch.cat([item[0:n_events] for item in data]).float().to(device)\n",
    "    labels = label_maker(len(data), n_events).float().to(device)\n",
    "    \n",
    "    #Check everything is ok\n",
    "    print(f\"Data has shape {Cal[0].shape}\")\n",
    "    print(f\"There are {len(data)} classes.\")\n",
    "\n",
    "    dataset = CalorimeterDataset(Cal, labels, transform=transforms)\n",
    "    \n",
    "    return dataset"
   ]
  },
  {
   "cell_type": "code",
   "execution_count": 25,
   "metadata": {},
   "outputs": [],
   "source": [
    "class HDF5LazyDataset(data.Dataset):\n",
    "    #https://towardsdatascience.com/hdf5-datasets-for-pytorch-631ff1d750f5\n",
    "    \"\"\"Represents an abstract HDF5 dataset.\n",
    "    \n",
    "    Input params:\n",
    "        file_path: Path to the folder containing the dataset (one or multiple HDF5 files).\n",
    "        recursive: If True, searches for h5 files in subdirectories.\n",
    "        load_data: If True, loads all the data immediately into RAM. Use this if\n",
    "            the dataset is fits into memory. Otherwise, leave this at false and \n",
    "            the data will load lazily.\n",
    "        data_cache_size: Number of HDF5 files that can be cached in the cache (default=3).\n",
    "        transform: PyTorch transform to apply to every data instance (default=None).\n",
    "    \"\"\"\n",
    "    def __init__(self, file_path, labels, device, recursive, load_data, data_cache_size=3, \n",
    "                filters=None, transform=None):\n",
    "        super().__init__()\n",
    "        self.data_info = []\n",
    "        self.data_cache = {}\n",
    "        self.data_cache_size = data_cache_size\n",
    "        self.transform = transform\n",
    "        self.labels = labels\n",
    "        self.device = device\n",
    "        self.filters = filters\n",
    "\n",
    "        # Search for all h5 files\n",
    "        p = Path(file_path)\n",
    "        assert(p.is_dir())\n",
    "        if recursive:\n",
    "            files = sorted(p.glob('**/*.h5'))\n",
    "        else:\n",
    "            files = sorted(p.glob('*.h5'))\n",
    "        if len(files) < 1:\n",
    "            raise RuntimeError('No hdf5 datasets found')\n",
    "\n",
    "        for h5dataset_fp in files:\n",
    "            self._add_data_infos(str(h5dataset_fp.resolve()), load_data)\n",
    "            \n",
    "    def __getitem__(self, index):\n",
    "        # get data\n",
    "        print(self.get_data(\"data\", index))\n",
    "        x = torch.from_numpy(self.get_data(\"data\", index))\n",
    "        if self.filters != None:\n",
    "            x = self.apply_filters(self.filters, x)\n",
    "        if self.transform:\n",
    "            x = self.transform(x)\n",
    "        # get label\n",
    "        value = self.get_data(\"label\", index)\n",
    "        value = value.decode()\n",
    "        y = self.label_maker(value, self.labels)\n",
    "        y = torch.from_numpy(y)\n",
    "        return (x.to(self.device), y.to(self.device))\n",
    "\n",
    "    def __len__(self):\n",
    "        return len(self.get_data_infos('data'))\n",
    "\n",
    "    def _add_data_infos(self, file_path, load_data):\n",
    "        with h5py.File(file_path) as h5_file:\n",
    "            # Walk through all groups, extracting datasets\n",
    "            for gname, group in h5_file.items():\n",
    "                for dname, ds in group.items():\n",
    "                    # if data is not loaded its cache index is -1\n",
    "                    idx = -1\n",
    "                    if load_data:\n",
    "                        # add data to the data cache\n",
    "                        idx = self._add_to_cache(ds[()], file_path)\n",
    "                    \n",
    "                    # type is derived from the name of the dataset; we expect the dataset\n",
    "                    # name to have a name such as 'data' or 'label' to identify its type\n",
    "                    # we also store the shape of the data in case we need it\n",
    "                    self.data_info.append({'file_path': file_path, 'type': dname, 'shape': np.shape(ds[()]), 'cache_idx': idx})\n",
    "\n",
    "    def _load_data(self, file_path, index):\n",
    "        \"\"\"Load data to the cache given the file\n",
    "        path and update the cache index in the\n",
    "        data_info structure.\n",
    "        \"\"\"\n",
    "        with h5py.File(file_path) as h5_file:\n",
    "            gname = f\"group_{index}\"\n",
    "            print(gname)\n",
    "            for dname, ds in h5_file[gname].items():\n",
    "                print(dname)\n",
    "                # the cache index\n",
    "                idx = self._add_to_cache(ds[()], file_path)\n",
    "\n",
    "                # find the beginning index of the hdf5 file we are looking for\n",
    "                file_idx = next(i for i,v in enumerate(self.data_info) if v['file_path'] == file_path)\n",
    "\n",
    "                # the data info should have the same index since we loaded it in the same way\n",
    "                self.data_info[file_idx + idx]['cache_idx'] = idx\n",
    "            \"\"\"for gname, group in h5_file.items():\n",
    "                for dname, ds in group.items():\n",
    "                    # add data to the data cache and retrieve\n",
    "                    # the cache index\n",
    "                    idx = self._add_to_cache(ds[()], file_path)\n",
    "\n",
    "                    # find the beginning index of the hdf5 file we are looking for\n",
    "                    file_idx = next(i for i,v in enumerate(self.data_info) if v['file_path'] == file_path)\n",
    "\n",
    "                    # the data info should have the same index since we loaded it in the same way\n",
    "                    self.data_info[file_idx + idx]['cache_idx'] = idx\"\"\"\n",
    "\n",
    "        # remove an element from data cache if size was exceeded\n",
    "        if len(self.data_cache) > self.data_cache_size:\n",
    "            # remove one item from the cache at random\n",
    "            removal_keys = list(self.data_cache)\n",
    "            removal_keys.remove(file_path)\n",
    "            self.data_cache.pop(removal_keys[0])\n",
    "            # remove invalid cache_idx\n",
    "            self.data_info = [{'file_path': di['file_path'], 'type': di['type'], 'shape': di['shape'], 'cache_idx': -1} if di['file_path'] == removal_keys[0] else di for di in self.data_info]\n",
    "\n",
    "    def _add_to_cache(self, data, file_path):\n",
    "        \"\"\"Adds data to the cache and returns its index. There is one cache\n",
    "        list for every file_path, containing all datasets in that file.\n",
    "        \"\"\"\n",
    "        if file_path not in self.data_cache:\n",
    "            self.data_cache[file_path] = [data]\n",
    "        else:\n",
    "            self.data_cache[file_path].append(data)\n",
    "        return len(self.data_cache[file_path]) - 1\n",
    "\n",
    "    def get_data_infos(self, type):\n",
    "        \"\"\"Get data infos belonging to a certain type of data.\n",
    "        \"\"\"\n",
    "        data_info_type = [di for di in self.data_info if di['type'] == type]\n",
    "        return data_info_type\n",
    "\n",
    "    def get_data(self, type, i):\n",
    "        \"\"\"Call this function anytime you want to access a chunk of data from the\n",
    "            dataset. This will make sure that the data is loaded in case it is\n",
    "            not part of the data cache.\n",
    "        \"\"\"\n",
    "        fp = self.get_data_infos(type)[i]['file_path']\n",
    "        if fp not in self.data_cache:\n",
    "            self._load_data(fp, i)\n",
    "        \n",
    "        # get new cache_idx assigned by _load_data_info\n",
    "        cache_idx = self.get_data_infos(type)[i]['cache_idx']\n",
    "        return self.data_cache[fp][cache_idx]\n",
    "        \n",
    "    def label_maker(self, value, labels):\n",
    "    #Creates labels for the classes. The first class gets value [1, 0, .., 0], the next [0, 1, ..., 0] etc\n",
    "        for i, label in enumerate(labels):\n",
    "            if value==label:\n",
    "                idx = i\n",
    "        vector = np.zeros(len(labels))\n",
    "        vector[idx] = 1\n",
    "        return vector\n",
    "\n",
    "    def apply_filters(self, key_list, image, maxvalue=2000):\n",
    "        if key_list!=None:\n",
    "            for key in key_list:\n",
    "                \n",
    "                if key==\"saturate\":\n",
    "                    image[image>maxvalue] = maxvalue\n",
    "                \n",
    "                #normalisation should probably always be last applied filter\n",
    "                elif key==\"normalise\":\n",
    "                    image = (image/maxvalue)\n",
    "                \n",
    "                else:\n",
    "                    print(f\"Cannot find {key} filter.\")\n",
    "\n",
    "        return image\n"
   ]
  },
  {
   "cell_type": "code",
   "execution_count": 26,
   "metadata": {},
   "outputs": [],
   "source": [
    "#load data in memory\n",
    "\n",
    "\"\"\"\n",
    "trainpaths = [Path(TRAIN_DATAPATH/file) for file in TRAIN_FILENAMES]\n",
    "testpaths = [Path(TEST_DATAPATH/file) for file in TEST_FILENAMES]\n",
    "train_data = load_datasets(trainpaths, device, TRAIN_N_EVENTS, filters, transforms)\n",
    "test_data = load_datasets(testpaths, device, TEST_N_EVENTS, filters, transforms)\"\"\"\n",
    "\n",
    "#load data lazily to not run out of memory, no method to load only part of the data yet\n",
    "\n",
    "train_data = HDF5LazyDataset(TEST_DATAPATH, LABELS, device=device, recursive=False, load_data=False, filters=filters, transform=transforms)\n",
    "#test_data = HDF5LazyDataset(TEST_DATAPATH, LABELS, device=device, recursive=False, load_data=False, filters=filters)\n",
    "\n",
    "\n",
    "#print(torch.cuda.memory_summary(device=None, abbreviated=False))"
   ]
  },
  {
   "cell_type": "code",
   "execution_count": null,
   "metadata": {},
   "outputs": [],
   "source": []
  },
  {
   "cell_type": "code",
   "execution_count": 27,
   "metadata": {},
   "outputs": [
    {
     "name": "stdout",
     "output_type": "stream",
     "text": [
      "[['BH_n5_M8TeV', 'BH_n5_M8TeV', 'BH_n5_M8TeV', 'BH_n5_M8TeV'], ['SPH_9', 'SPH_9', 'SPH_9', 'SPH_9']]\n",
      "[[0, 0, 0, 0], [1, 1, 1, 1]]\n",
      "[[67, 50, 31, 93], [33, 40, 17, 49]]\n",
      "group_67\n",
      "data\n",
      "label\n",
      "b'BH_n5_M8'\n"
     ]
    },
    {
     "ename": "TypeError",
     "evalue": "expected np.ndarray (got bytes)",
     "output_type": "error",
     "traceback": [
      "\u001b[0;31m---------------------------------------------------------------------------\u001b[0m",
      "\u001b[0;31mTypeError\u001b[0m                                 Traceback (most recent call last)",
      "\u001b[1;32m/home/agrefsru/imcalML/notebooks/resnet.ipynb Cell 8\u001b[0m in \u001b[0;36m<module>\u001b[0;34m\u001b[0m\n\u001b[1;32m     <a href='vscode-notebook-cell://ssh-remote%2Batlas3.ift.uib.no/home/agrefsru/imcalML/notebooks/resnet.ipynb#W5sdnNjb2RlLXJlbW90ZQ%3D%3D?line=32'>33</a>\u001b[0m             matrix_image_plot(axs[i][j], \u001b[39mstr\u001b[39m(labels[i][j]))\n\u001b[1;32m     <a href='vscode-notebook-cell://ssh-remote%2Batlas3.ift.uib.no/home/agrefsru/imcalML/notebooks/resnet.ipynb#W5sdnNjb2RlLXJlbW90ZQ%3D%3D?line=33'>34</a>\u001b[0m             axs[i][j]\u001b[39m.\u001b[39mimshow(images[i][j], extent\u001b[39m=\u001b[39m[\u001b[39m-\u001b[39m\u001b[39m5\u001b[39m, \u001b[39m5\u001b[39m, \u001b[39m-\u001b[39mnp\u001b[39m.\u001b[39mpi, np\u001b[39m.\u001b[39mpi], aspect\u001b[39m=\u001b[39m\u001b[39m'\u001b[39m\u001b[39mauto\u001b[39m\u001b[39m'\u001b[39m)\n\u001b[0;32m---> <a href='vscode-notebook-cell://ssh-remote%2Batlas3.ift.uib.no/home/agrefsru/imcalML/notebooks/resnet.ipynb#W5sdnNjb2RlLXJlbW90ZQ%3D%3D?line=37'>38</a>\u001b[0m view_data(train_data, \u001b[39m4\u001b[39;49m, CLASSES, LABELS, RES, TRAIN_N_EVENTS)\n",
      "\u001b[1;32m/home/agrefsru/imcalML/notebooks/resnet.ipynb Cell 8\u001b[0m in \u001b[0;36mview_data\u001b[0;34m(data, cols, num_classes, labels, res, spread)\u001b[0m\n\u001b[1;32m     <a href='vscode-notebook-cell://ssh-remote%2Batlas3.ift.uib.no/home/agrefsru/imcalML/notebooks/resnet.ipynb#W5sdnNjb2RlLXJlbW90ZQ%3D%3D?line=21'>22</a>\u001b[0m \u001b[39mfor\u001b[39;00m i, row \u001b[39min\u001b[39;00m \u001b[39menumerate\u001b[39m(k):\n\u001b[1;32m     <a href='vscode-notebook-cell://ssh-remote%2Batlas3.ift.uib.no/home/agrefsru/imcalML/notebooks/resnet.ipynb#W5sdnNjb2RlLXJlbW90ZQ%3D%3D?line=22'>23</a>\u001b[0m     \u001b[39mfor\u001b[39;00m j, item \u001b[39min\u001b[39;00m \u001b[39menumerate\u001b[39m(row):\n\u001b[0;32m---> <a href='vscode-notebook-cell://ssh-remote%2Batlas3.ift.uib.no/home/agrefsru/imcalML/notebooks/resnet.ipynb#W5sdnNjb2RlLXJlbW90ZQ%3D%3D?line=23'>24</a>\u001b[0m         images[i][j] \u001b[39m=\u001b[39m data[item][\u001b[39m0\u001b[39m]\u001b[39m.\u001b[39mcpu()\n\u001b[1;32m     <a href='vscode-notebook-cell://ssh-remote%2Batlas3.ift.uib.no/home/agrefsru/imcalML/notebooks/resnet.ipynb#W5sdnNjb2RlLXJlbW90ZQ%3D%3D?line=24'>25</a>\u001b[0m \u001b[39m#images = [data[item][0].cpu() for item in k]\u001b[39;00m\n\u001b[1;32m     <a href='vscode-notebook-cell://ssh-remote%2Batlas3.ift.uib.no/home/agrefsru/imcalML/notebooks/resnet.ipynb#W5sdnNjb2RlLXJlbW90ZQ%3D%3D?line=25'>26</a>\u001b[0m \u001b[39mprint\u001b[39m(\u001b[39m\"\u001b[39m\u001b[39mImage shape: \u001b[39m\u001b[39m\"\u001b[39m, images[\u001b[39m0\u001b[39m][\u001b[39m0\u001b[39m]\u001b[39m.\u001b[39mshape)\n",
      "\u001b[1;32m/home/agrefsru/imcalML/notebooks/resnet.ipynb Cell 8\u001b[0m in \u001b[0;36mHDF5LazyDataset.__getitem__\u001b[0;34m(self, index)\u001b[0m\n\u001b[1;32m     <a href='vscode-notebook-cell://ssh-remote%2Batlas3.ift.uib.no/home/agrefsru/imcalML/notebooks/resnet.ipynb#W5sdnNjb2RlLXJlbW90ZQ%3D%3D?line=37'>38</a>\u001b[0m \u001b[39mdef\u001b[39;00m \u001b[39m__getitem__\u001b[39m(\u001b[39mself\u001b[39m, index):\n\u001b[1;32m     <a href='vscode-notebook-cell://ssh-remote%2Batlas3.ift.uib.no/home/agrefsru/imcalML/notebooks/resnet.ipynb#W5sdnNjb2RlLXJlbW90ZQ%3D%3D?line=38'>39</a>\u001b[0m     \u001b[39m# get data\u001b[39;00m\n\u001b[1;32m     <a href='vscode-notebook-cell://ssh-remote%2Batlas3.ift.uib.no/home/agrefsru/imcalML/notebooks/resnet.ipynb#W5sdnNjb2RlLXJlbW90ZQ%3D%3D?line=39'>40</a>\u001b[0m     \u001b[39mprint\u001b[39m(\u001b[39mself\u001b[39m\u001b[39m.\u001b[39mget_data(\u001b[39m\"\u001b[39m\u001b[39mdata\u001b[39m\u001b[39m\"\u001b[39m, index))\n\u001b[0;32m---> <a href='vscode-notebook-cell://ssh-remote%2Batlas3.ift.uib.no/home/agrefsru/imcalML/notebooks/resnet.ipynb#W5sdnNjb2RlLXJlbW90ZQ%3D%3D?line=40'>41</a>\u001b[0m     x \u001b[39m=\u001b[39m torch\u001b[39m.\u001b[39;49mfrom_numpy(\u001b[39mself\u001b[39;49m\u001b[39m.\u001b[39;49mget_data(\u001b[39m\"\u001b[39;49m\u001b[39mdata\u001b[39;49m\u001b[39m\"\u001b[39;49m, index))\n\u001b[1;32m     <a href='vscode-notebook-cell://ssh-remote%2Batlas3.ift.uib.no/home/agrefsru/imcalML/notebooks/resnet.ipynb#W5sdnNjb2RlLXJlbW90ZQ%3D%3D?line=41'>42</a>\u001b[0m     \u001b[39mif\u001b[39;00m \u001b[39mself\u001b[39m\u001b[39m.\u001b[39mfilters \u001b[39m!=\u001b[39m \u001b[39mNone\u001b[39;00m:\n\u001b[1;32m     <a href='vscode-notebook-cell://ssh-remote%2Batlas3.ift.uib.no/home/agrefsru/imcalML/notebooks/resnet.ipynb#W5sdnNjb2RlLXJlbW90ZQ%3D%3D?line=42'>43</a>\u001b[0m         x \u001b[39m=\u001b[39m \u001b[39mself\u001b[39m\u001b[39m.\u001b[39mapply_filters(\u001b[39mself\u001b[39m\u001b[39m.\u001b[39mfilters, x)\n",
      "\u001b[0;31mTypeError\u001b[0m: expected np.ndarray (got bytes)"
     ]
    }
   ],
   "source": [
    "def view_data(data, cols, num_classes:int, labels, res,spread):\n",
    "    \n",
    "    def matrix_image_plot(ax, label):\n",
    "        ax.set_ylabel(r\"$\\phi$ [radians]]\", fontsize=12)\n",
    "        ax.set_xlabel(r\"$\\eta$\", fontsize=12)\n",
    "        ax.set_title(label, fontsize=14,weight=\"bold\")\n",
    "        ax.tick_params(which=\"both\", direction=\"inout\", top=True, right=True, labelsize=12, pad=5, length=4, width=2)\n",
    "        ax.tick_params(which=\"major\", length=8)\n",
    "        ax.tick_params(which=\"minor\", length=6)\n",
    "        ax.minorticks_on()\n",
    "    images = np.zeros((num_classes, cols, res, res, 3))\n",
    "    labels = [[labels[i]]*cols for i in range(num_classes)]\n",
    "    print(labels)\n",
    "    k = [[i]*cols for i in range(num_classes)]\n",
    "    print(k)\n",
    "    for i in range(len(k)):\n",
    "        row = k[i]\n",
    "        row = [item*(spread) for item in row]\n",
    "        row = [int(item + np.random.randint(1, high = 100)) for item in row]\n",
    "        k[i] = row\n",
    "    print(k)\n",
    "    for i, row in enumerate(k):\n",
    "        for j, item in enumerate(row):\n",
    "            images[i][j] = data[item][0].cpu()\n",
    "    #images = [data[item][0].cpu() for item in k]\n",
    "    print(\"Image shape: \", images[0][0].shape)\n",
    "    #labels = [data[item][1].cpu() for item in k]\n",
    "    #labels = [label.tolist() for label in labels]\n",
    "\n",
    "    fig, axs = plt.subplots(nrows = num_classes, ncols = cols, figsize = (cols*6, num_classes*6))\n",
    "    for i in range (len(k)):\n",
    "        for j in range(cols):\n",
    "            matrix_image_plot(axs[i][j], str(labels[i][j]))\n",
    "            axs[i][j].imshow(images[i][j], extent=[-5, 5, -np.pi, np.pi], aspect='auto')\n",
    "\n",
    "\n",
    "\n",
    "view_data(train_data, 4, CLASSES, LABELS, RES, TRAIN_N_EVENTS)"
   ]
  },
  {
   "cell_type": "code",
   "execution_count": 110,
   "metadata": {},
   "outputs": [
    {
     "name": "stderr",
     "output_type": "stream",
     "text": [
      "Clipping input data to the valid range for imshow with RGB data ([0..1] for floats or [0..255] for integers).\n"
     ]
    },
    {
     "name": "stdout",
     "output_type": "stream",
     "text": [
      "Look at the highest histogram values values for a random image\n",
      "[253.94014 316.8167  370.9988  379.87402 383.0651  392.3637  405.26953\n",
      " 526.089   631.75226]\n",
      "Looking at image 1790\n"
     ]
    },
    {
     "data": {
      "text/plain": [
       "<matplotlib.image.AxesImage at 0x7f1d8fff1790>"
      ]
     },
     "execution_count": 110,
     "metadata": {},
     "output_type": "execute_result"
    },
    {
     "data": {
      "image/png": "[encoded data removed]",
      "text/plain": [
       "<Figure size 432x288 with 1 Axes>"
      ]
     },
     "metadata": {
      "needs_background": "light"
     },
     "output_type": "display_data"
    }
   ],
   "source": [
    "k = np.random.randint(0, len(train_data))\n",
    "image = train_data[k][0].cpu()\n",
    "print(\"Look at the highest histogram values values for a random image\")\n",
    "print(np.sort(image.flatten())[-10:-1])\n",
    "print(\"Looking at image\", k)\n",
    "\n",
    "plt.imshow(image)"
   ]
  },
  {
   "cell_type": "code",
   "execution_count": 78,
   "metadata": {},
   "outputs": [
    {
     "name": "stderr",
     "output_type": "stream",
     "text": [
      "Clipping input data to the valid range for imshow with RGB data ([0..1] for floats or [0..255] for integers).\n"
     ]
    },
    {
     "data": {
      "image/png": "[encoded data removed]",
      "text/plain": [
       "<Figure size 432x288 with 1 Axes>"
      ]
     },
     "metadata": {
      "needs_background": "light"
     },
     "output_type": "display_data"
    }
   ],
   "source": [
    "#Check augmentation\n",
    "transforms = torch.nn.Sequential(\n",
    "        #torchv.transforms.RandomVerticalFlip(),\n",
    "        #torchv.transforms.RandomHorizontalFlip(),\n",
    "        RandomRoll(1),\n",
    "        RandomRoll(0)\n",
    ")\n",
    "if transforms!=None:\n",
    "    rolled_image = transforms(image)\n",
    "    plt.imshow(rolled_image)"
   ]
  },
  {
   "cell_type": "markdown",
   "metadata": {},
   "source": [
    "### Create net and train"
   ]
  },
  {
   "cell_type": "code",
   "execution_count": 79,
   "metadata": {},
   "outputs": [
    {
     "name": "stdout",
     "output_type": "stream",
     "text": [
      "torch.Size([1, 3, 100, 100])\n",
      "tensor([[0.1086, 0.0009]], device='cuda:0', grad_fn=<AddmmBackward0>)\n"
     ]
    }
   ],
   "source": [
    "#create NN and test that nothing major is wrong.\n",
    "from resnet import ResNet18\n",
    "resnet = ResNet18(img_channels=3, num_classes=CLASSES)\n",
    "resnet.to(device = device)\n",
    "\n",
    "#testimage, testlabel = traindata.images[0], traindata.img_labels[0]\n",
    "testimage, testlabel = train_data[0][0], train_data[0][1]\n",
    "print(testimage.view(-1, 3, RES, RES).shape)\n",
    "print(resnet(testimage.view(-1, 3, RES, RES).to(device)))"
   ]
  },
  {
   "cell_type": "code",
   "execution_count": 80,
   "metadata": {},
   "outputs": [
    {
     "name": "stderr",
     "output_type": "stream",
     "text": [
      "100%|██████████| 10/10 [00:10<00:00,  1.05s/it]\n"
     ]
    }
   ],
   "source": [
    "optimizer = optim.Adam(resnet.parameters(), lr=0.001)\n",
    "training_results = train(resnet, train_data, test_data, 2**7, 10, RES, device, optimizer)"
   ]
  },
  {
   "cell_type": "code",
   "execution_count": 81,
   "metadata": {},
   "outputs": [
    {
     "name": "stdout",
     "output_type": "stream",
     "text": [
      "torch.Size([1, 3, 100, 100])\n",
      "tensor([[ 1.8801, -1.1731]], device='cuda:0', grad_fn=<AddmmBackward0>)\n"
     ]
    }
   ],
   "source": [
    "print(testimage.view(-1, 3, RES, RES).shape)\n",
    "print(resnet(testimage.view(-1, 3, RES, RES).to(device)))"
   ]
  },
  {
   "cell_type": "code",
   "execution_count": 95,
   "metadata": {},
   "outputs": [
    {
     "data": {
      "text/plain": [
       "<AxesSubplot:xlabel='Iteration'>"
      ]
     },
     "execution_count": 95,
     "metadata": {},
     "output_type": "execute_result"
    },
    {
     "data": {
      "image/png": "[encoded data removed]",
      "text/plain": [
       "<Figure size 864x360 with 2 Axes>"
      ]
     },
     "metadata": {
      "needs_background": "light"
     },
     "output_type": "display_data"
    }
   ],
   "source": [
    "fig, axs = plt.subplots(nrows = 1, ncols = 2, figsize = (12, 5))\n",
    "training_results.plot(\"Iteration\", [\"Accuracy\", \"Validation accuracy\"], ax=axs[0], \n",
    "                    title=\"Mean validation accuracy: \" + str(round(training_results[\"Validation accuracy\"].mean(), 2)))\n",
    "training_results.plot(\"Iteration\", [\"Loss\", \"Validation loss\"], ax=axs[1])\n",
    "#axs[0].set_ylim(0.6, 1)"
   ]
  },
  {
   "cell_type": "code",
   "execution_count": 90,
   "metadata": {},
   "outputs": [
    {
     "name": "stderr",
     "output_type": "stream",
     "text": [
      "100%|██████████| 60/60 [00:00<00:00, 73.22it/s]\n"
     ]
    }
   ],
   "source": [
    "from sklearn.metrics import accuracy_score\n",
    "truth, preds = predict(resnet, test_data, 100, RES, device)\n",
    "confusion = pd.DataFrame(dict(zip([\"Truth\", \"Predictions\"], [truth, preds])))\n",
    "accuracy = accuracy_score(truth, preds, normalize=True)"
   ]
  },
  {
   "cell_type": "code",
   "execution_count": 91,
   "metadata": {},
   "outputs": [
    {
     "data": {
      "image/png": "[encoded data removed]",
      "text/plain": [
       "<Figure size 576x576 with 1 Axes>"
      ]
     },
     "metadata": {
      "needs_background": "light"
     },
     "output_type": "display_data"
    }
   ],
   "source": [
    "from sklearn.metrics import confusion_matrix\n",
    "import seaborn as sn\n",
    "\n",
    "fig, ax = plt.subplots(figsize = (8, 8))\n",
    "\n",
    "#Generate the confusion matrix\n",
    "cf_matrix = confusion_matrix(confusion[\"Truth\"], confusion[\"Predictions\"], normalize=\"true\")\n",
    "cf_matrix = np.round(cf_matrix, 3)\n",
    "ax = sn.heatmap(cf_matrix, annot=True, cbar=False, cmap='rocket', fmt='g',annot_kws={\"size\": 24})\n",
    "\n",
    "#ax.set_title('Confusion matrix\\n\\n', size=24)\n",
    "ax.set_xlabel('\\nPredicted Values', size=24)\n",
    "ax.set_ylabel('Actual Values ', size=24)\n",
    "\n",
    "## Ticket labels - List must be in alphabetical order\n",
    "ax.xaxis.set_ticklabels(LABELS, size=20)\n",
    "ax.yaxis.set_ticklabels(LABELS, size=20)\n",
    "ax.set_title(f\"Accuracy: {round(accuracy, 2)*100}%\", size=26, pad=20)\n",
    "\n",
    "## Display the visualization of the Confusion Matrix.\n",
    "plt.show()"
   ]
  },
  {
   "cell_type": "code",
   "execution_count": 98,
   "metadata": {},
   "outputs": [
    {
     "name": "stdout",
     "output_type": "stream",
     "text": [
      "Loads data with transforms Sequential(\n",
      "  (0): RandomRoll()\n",
      "  (1): RandomRoll()\n",
      ") and filters None\n",
      "Loaded data with 3000 entries of shape (3000, 100, 100, 3)\n",
      "Check max value: 17778.150390625\n",
      "Loaded data with 3000 entries of shape (3000, 100, 100, 3)\n",
      "Check max value: 12218.7998046875\n",
      "Data has shape torch.Size([100, 100, 3])\n",
      "There are 2 classes.\n",
      "Iteration 0\n"
     ]
    },
    {
     "name": "stderr",
     "output_type": "stream",
     "text": [
      "100%|██████████| 10/10 [00:31<00:00,  3.15s/it]\n",
      "100%|██████████| 60/60 [00:00<00:00, 75.63it/s]\n"
     ]
    },
    {
     "name": "stdout",
     "output_type": "stream",
     "text": [
      "Iteration 1\n"
     ]
    },
    {
     "name": "stderr",
     "output_type": "stream",
     "text": [
      "100%|██████████| 10/10 [00:31<00:00,  3.20s/it]\n",
      "100%|██████████| 60/60 [00:00<00:00, 75.37it/s]\n"
     ]
    },
    {
     "name": "stdout",
     "output_type": "stream",
     "text": [
      "Iteration 2\n"
     ]
    },
    {
     "name": "stderr",
     "output_type": "stream",
     "text": [
      "100%|██████████| 10/10 [00:31<00:00,  3.17s/it]\n",
      "100%|██████████| 60/60 [00:00<00:00, 76.03it/s]\n"
     ]
    },
    {
     "name": "stdout",
     "output_type": "stream",
     "text": [
      "Iteration 3\n"
     ]
    },
    {
     "name": "stderr",
     "output_type": "stream",
     "text": [
      "100%|██████████| 10/10 [00:31<00:00,  3.18s/it]\n",
      "100%|██████████| 60/60 [00:00<00:00, 75.51it/s]\n"
     ]
    },
    {
     "name": "stdout",
     "output_type": "stream",
     "text": [
      "Iteration 4\n"
     ]
    },
    {
     "name": "stderr",
     "output_type": "stream",
     "text": [
      "100%|██████████| 10/10 [00:31<00:00,  3.17s/it]\n",
      "100%|██████████| 60/60 [00:00<00:00, 75.60it/s]\n"
     ]
    }
   ],
   "source": [
    "#Run n experiments to find statistics on accuracy\n",
    "from resnet import ResNet18\n",
    "\n",
    "transforms = torch.nn.Sequential(\n",
    "        #torchv.transforms.RandomVerticalFlip(),\n",
    "        #torchv.transforms.RandomHorizontalFlip(),\n",
    "        RandomRoll(1),\n",
    "        RandomRoll(0)\n",
    ")\n",
    "\n",
    "def experiment(n, n_train, epochs, lr, transforms, filters):\n",
    "    scores = np.zeros(n)\n",
    "    train_data = load_datasets(trainpaths, device, n_train, filters, transforms)\n",
    "    for i in range(n):\n",
    "        print(f\"Iteration {i}\")\n",
    "        resnet = ResNet18(img_channels=3, num_classes=CLASSES)\n",
    "        resnet.to(device = device)\n",
    "        optimizer = optim.Adam(resnet.parameters(), lr=lr)\n",
    "        training_results = train(resnet, train_data, test_data, 2**7, epochs, RES, device, optimizer)\n",
    "        truth, preds = predict(resnet, test_data, 100, RES, device)\n",
    "        accuracy = accuracy_score(truth, preds, normalize=True)\n",
    "        scores[i]= accuracy\n",
    "    return scores, resnet\n",
    "\n",
    "results, lastnet = experiment(5, 3000, 10, 0.001, transforms, None)"
   ]
  },
  {
   "cell_type": "code",
   "execution_count": 94,
   "metadata": {},
   "outputs": [
    {
     "name": "stdout",
     "output_type": "stream",
     "text": [
      "[0.78483333 0.78616667 0.75066667 0.77116667 0.77316667]\n",
      "0.7732\n",
      "0.01276992995717326\n"
     ]
    }
   ],
   "source": [
    "#no aug\n",
    "print(results)\n",
    "print(results.mean())\n",
    "print(results.std())"
   ]
  },
  {
   "cell_type": "code",
   "execution_count": 97,
   "metadata": {},
   "outputs": [
    {
     "name": "stdout",
     "output_type": "stream",
     "text": [
      "[0.814      0.814      0.81483333 0.79516667 0.78333333]\n",
      "0.8042666666666667\n",
      "0.012822982838984394\n"
     ]
    }
   ],
   "source": [
    "#eta roll\n",
    "print(results)\n",
    "print(results.mean())\n",
    "print(results.std())"
   ]
  },
  {
   "cell_type": "code",
   "execution_count": 100,
   "metadata": {},
   "outputs": [
    {
     "name": "stdout",
     "output_type": "stream",
     "text": [
      "[0.8155     0.80116667 0.80916667 0.78216667 0.7915    ]\n",
      "0.7999\n",
      "0.011965505978993677\n"
     ]
    }
   ],
   "source": [
    "#eta roll\n",
    "print(results)\n",
    "print(results.mean())\n",
    "print(results.std())"
   ]
  }
 ],
 "metadata": {
  "interpreter": {
   "hash": "5b1332e5a07ce33895000dbe941ad9cee852d3baee8993fa123c6057492c40e7"
  },
  "kernelspec": {
   "display_name": "Python 3.9.7 64-bit ('matrices': conda)",
   "language": "python",
   "name": "python3"
  },
  "language_info": {
   "codemirror_mode": {
    "name": "ipython",
    "version": 3
   },
   "file_extension": ".py",
   "mimetype": "text/x-python",
   "name": "python",
   "nbconvert_exporter": "python",
   "pygments_lexer": "ipython3",
   "version": "3.9.7"
  },
  "orig_nbformat": 4
 },
 "nbformat": 4,
 "nbformat_minor": 2
}

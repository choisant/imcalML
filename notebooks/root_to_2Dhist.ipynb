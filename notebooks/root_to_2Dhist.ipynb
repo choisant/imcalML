{
 "cells": [
  {
   "cell_type": "code",
   "execution_count": 87,
   "id": "1dcd1449",
   "metadata": {},
   "outputs": [],
   "source": [
    "import numpy as np\n",
    "import matplotlib.pyplot as plt\n",
    "import pandas as pd\n",
    "import uproot\n",
    "import os\n",
    "import awkward as ak\n",
    "from fast_histogram import histogram1d, histogram2d\n",
    "import datetime\n",
    "import pickle"
   ]
  },
  {
   "cell_type": "markdown",
   "id": "f343e6a1",
   "metadata": {},
   "source": [
    "# Converting calorimeter input to 2D histogram images\n",
    "\n",
    "This script creates calorimeter images based on the calorimeter data from the ATLAS Open jet reconstruction data. "
   ]
  },
  {
   "cell_type": "code",
   "execution_count": 88,
   "id": "7e8c7412",
   "metadata": {},
   "outputs": [],
   "source": [
    "MIN_RES = 20\n",
    "\n",
    "rootfile = \"/disk/atlas3/data_MC/ATLASOpen/jets/part1.root\" \n",
    "RESOLUTION = 224#int(4*MIN_RES)\n",
    "MAX_EVENTS = 1000"
   ]
  },
  {
   "cell_type": "markdown",
   "id": "f006a14d",
   "metadata": {},
   "source": [
    "Using the with uproot loop, we can extract only the data we need and then close the original file. This will save us memory space."
   ]
  },
  {
   "cell_type": "code",
   "execution_count": 89,
   "id": "e0e65afb",
   "metadata": {},
   "outputs": [
    {
     "name": "stdout",
     "output_type": "stream",
     "text": [
      "Number of available events: 102900\n"
     ]
    }
   ],
   "source": [
    "#Load relevant data\n",
    "with uproot.open(rootfile +\":JetRecoTree\") as file:\n",
    "    events = file.arrays(library=\"ak\", how=\"zip\")\n",
    "    print(\"Number of available events:\", len(events))\n",
    "    clusters = events[\"Clusters\", [\"pt\", \"eta\", \"phi\", \"m\"]][:MAX_EVENTS]\n",
    "    n_jets = ak.num(events[\"TruthJets_R10\"])[:MAX_EVENTS]\n",
    "    #clusters = clusters[ak.any(clusters.n_jets > 0, axis=1)]"
   ]
  },
  {
   "cell_type": "markdown",
   "id": "0a00a12e",
   "metadata": {},
   "source": [
    "We create the histograms by using the [fast-histogram library](https://pypi.org/project/fast-histogram/), which is 20-25 x faster than numpy.histogram2d. It does not support advanced binning however, so we perform a simple binning equal to the desired resolution of the image. "
   ]
  },
  {
   "cell_type": "code",
   "execution_count": 90,
   "id": "afb5bf81",
   "metadata": {},
   "outputs": [
    {
     "name": "stdout",
     "output_type": "stream",
     "text": [
      "Total time spent creating histograms:  0.922076  seconds\n"
     ]
    }
   ],
   "source": [
    "#@nb.jit #could be optimized by using Numba, however 2d histogram is not straightforward to implement\n",
    "def create_histograms(array):\n",
    "    max_available_events = len(clusters)\n",
    "    if max_available_events < MAX_EVENTS:\n",
    "        max_events = max_available_events\n",
    "    else: max_events = MAX_EVENTS\n",
    "    first = datetime.datetime.now()\n",
    "    Cal = [histogram2d(event.phi, event.eta, range=[[-np.pi, np.pi], [-2.5, 2.5]], bins=RESOLUTION, weights=event.pt) for event in array]\n",
    "    second = datetime.datetime.now()\n",
    "    print(\"Total time spent creating histograms: \", (second - first).total_seconds(), \" seconds\")\n",
    "    return Cal\n",
    "    \n",
    "hists = create_histograms(clusters)"
   ]
  },
  {
   "cell_type": "markdown",
   "id": "4ca03ecc",
   "metadata": {},
   "source": [
    "Remember that python histograms produce images with input 2 (eta) on the x-axis and input 1 (phi) on the y-axis."
   ]
  },
  {
   "cell_type": "code",
   "execution_count": 91,
   "id": "1ec2289a",
   "metadata": {},
   "outputs": [
    {
     "data": {
      "text/plain": [
       "<matplotlib.image.AxesImage at 0x7fbc31da97c0>"
      ]
     },
     "execution_count": 91,
     "metadata": {},
     "output_type": "execute_result"
    },
    {
     "data": {
      "image/png": "[encoded data removed]",
      "text/plain": [
       "<Figure size 648x648 with 1 Axes>"
      ]
     },
     "metadata": {
      "needs_background": "light"
     },
     "output_type": "display_data"
    }
   ],
   "source": [
    "k = 49\n",
    "def cal_image_plot(ax, n_jets):\n",
    "    ax.set_ylabel(r\"$\\phi$ [radians]]\", fontsize=16)\n",
    "    ax.set_xlabel(r\"$\\eta$\", fontsize=16)\n",
    "    ax.set_title(\"Number of jets: \" + str(n_jets), fontsize=20, color=\"black\")\n",
    "    ax.tick_params(which=\"both\", direction=\"inout\", top=True, right=True, labelsize=14, pad=15, length=4, width=2)\n",
    "    ax.tick_params(which=\"major\", length=8)\n",
    "    ax.tick_params(which=\"major\", length=6)\n",
    "    ax.minorticks_on()\n",
    "\n",
    "fig, axs = plt.subplots(nrows = 1, ncols = 1, figsize = (9,9))\n",
    "cal_image_plot(axs, n_jets = n_jets[k])\n",
    "axs.imshow(hists[k], extent=[-2.5, 2.5, -np.pi, np.pi], aspect='auto')"
   ]
  },
  {
   "cell_type": "code",
   "execution_count": 92,
   "id": "ec3b097e",
   "metadata": {},
   "outputs": [],
   "source": [
    "#Save files as pickles\n",
    "file_name = \"jets_part1_\" + str(MAX_EVENTS) + \"events_\" + str(RESOLUTION) + \"x\" + str(RESOLUTION) +\"_min1jet\" + \".pkl\"\n",
    "pickle.dump(hists, open(\"../data/histograms/\" + file_name, 'wb'))\n",
    "file_name = \"jets_part1_\" + str(MAX_EVENTS) + \"events_\" + str(RESOLUTION) + \"x\" + str(RESOLUTION) +\"_min1jet_labels_njets\" + \".pkl\"\n",
    "pickle.dump(n_jets, open(\"../data/histograms/\" + file_name, 'wb'))"
   ]
  }
 ],
 "metadata": {
  "kernelspec": {
   "display_name": "Python 3",
   "language": "python",
   "name": "python3"
  },
  "language_info": {
   "codemirror_mode": {
    "name": "ipython",
    "version": 3
   },
   "file_extension": ".py",
   "mimetype": "text/x-python",
   "name": "python",
   "nbconvert_exporter": "python",
   "pygments_lexer": "ipython3",
   "version": "3.9.7"
  }
 },
 "nbformat": 4,
 "nbformat_minor": 5
}

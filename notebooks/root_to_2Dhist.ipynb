{
 "cells": [
  {
   "cell_type": "code",
   "execution_count": 1,
   "id": "1dcd1449",
   "metadata": {},
   "outputs": [],
   "source": [
    "import numpy as np\n",
    "import matplotlib.pyplot as plt\n",
    "import uproot\n",
    "import awkward as ak\n",
    "from fast_histogram import histogram2d\n",
    "import seaborn as sn\n",
    "import h5py"
   ]
  },
  {
   "cell_type": "markdown",
   "id": "f343e6a1",
   "metadata": {},
   "source": [
    "# Converting calorimeter input to 2D histogram images\n",
    "\n",
    "This script creates calorimeter images based on the calorimeter data from the ATLAS Open jet reconstruction data. "
   ]
  },
  {
   "cell_type": "code",
   "execution_count": 2,
   "id": "7e8c7412",
   "metadata": {},
   "outputs": [],
   "source": [
    "MIN_RES = 20\n",
    "\n",
    "#filename = \"ttbar_13TeV_taus_10000events\"\n",
    "#rootfile = \"/disk/atlas3/data_MC/delphes/ttbar_13TeV_taus_10000events.root:Delphes\" \n",
    "\n",
    "#filename = \"directW_13TeV_taus_10000events\"\n",
    "#filename = \"directW_13TeV_taus_100_40_1000events\"\n",
    "filename = \"ttbar_13TeV_taus_1000events\"\n",
    "#rootfile = \"/disk/atlas3/data_MC/delphes/directW_13TeV_taus_10000events.root:Delphes\" \n",
    "rootfile = \"/disk/atlas3/data_MC/delphes/ttbar_13TeV_taus_1000events.root:Delphes\"\n",
    "#rootfile = \"/disk/atlas3/data_MC/delphes/directW_13TeV_taus_100_40_1000events.root:Delphes\"\n",
    "savepath = \"/disk/atlas3/data_MC/delphes\"\n",
    "\n",
    "RESOLUTION = int(4*MIN_RES)\n",
    "MAX_EVENTS = 10000"
   ]
  },
  {
   "cell_type": "markdown",
   "id": "f006a14d",
   "metadata": {},
   "source": [
    "Using the with uproot loop, we can extract only the data we need and then close the original file. This will save us memory space."
   ]
  },
  {
   "cell_type": "code",
   "execution_count": 3,
   "id": "e0e65afb",
   "metadata": {},
   "outputs": [],
   "source": [
    "#Load relevant data\n",
    "def load_data(rootfile:str, branch:str, keys:list):\n",
    "    with uproot.open(rootfile) as file:\n",
    "        valid_list = [key in file.keys() for key in keys]\n",
    "        if valid_list:\n",
    "            arr = file[branch].arrays(keys, library=\"ak\", how=\"zip\")\n",
    "            return arr[branch]\n",
    "        else:\n",
    "            print(keys[not(valid_list)], \" not present in data.\")\n",
    "\n",
    "clusters = load_data(rootfile, \"Tower\", [\"Tower.ET\", \"Tower.Eta\", \"Tower.Phi\", \"Tower.Eem\", \"Tower.Ehad\"])"
   ]
  },
  {
   "cell_type": "markdown",
   "id": "0a00a12e",
   "metadata": {},
   "source": [
    "We create the histograms by using the [fast-histogram library](https://pypi.org/project/fast-histogram/), which is 20-25 x faster than numpy.histogram2d. It does not support advanced binning however, so we perform a simple binning equal to the desired resolution of the image. "
   ]
  },
  {
   "cell_type": "code",
   "execution_count": 4,
   "id": "afb5bf81",
   "metadata": {},
   "outputs": [],
   "source": [
    "#@nb.jit #could be optimized by using Numba, however 2d histogram is not straightforward to implement\n",
    "def create_histograms(x, y, z):\n",
    "    max_available_events = len(x)\n",
    "    if max_available_events < MAX_EVENTS:\n",
    "        max_events = max_available_events\n",
    "    else: max_events = MAX_EVENTS\n",
    "    \n",
    "    Cal = [histogram2d(x[i], y[i], \n",
    "            range=[[-np.pi, np.pi], [-5, 5]], bins=RESOLUTION, \n",
    "            weights=z[i]) \n",
    "            for i in range(0, max_events)]\n",
    "            \n",
    "    return Cal\n",
    "\n",
    "\n",
    "hists = create_histograms(clusters.Phi, clusters.Eta, clusters.ET)"
   ]
  },
  {
   "cell_type": "markdown",
   "id": "4ca03ecc",
   "metadata": {},
   "source": [
    "Remember that python histograms produce images with input 2 (eta) on the x-axis and input 1 (phi) on the y-axis."
   ]
  },
  {
   "cell_type": "code",
   "execution_count": 5,
   "id": "1ec2289a",
   "metadata": {},
   "outputs": [
    {
     "data": {
      "text/plain": [
       "[Text(0.5, 0, 'Tower transverse energy'),\n",
       " (0.0, 182.69784545898438),\n",
       " (0.0, 25.0)]"
      ]
     },
     "execution_count": 5,
     "metadata": {},
     "output_type": "execute_result"
    },
    {
     "data": {
      "image/png": "[encoded data removed]",
      "text/plain": [
       "<Figure size 1080x504 with 2 Axes>"
      ]
     },
     "metadata": {
      "needs_background": "light"
     },
     "output_type": "display_data"
    }
   ],
   "source": [
    "k = np.random.randint(0, high=len(hists)) #a random image\n",
    "ET = ak.to_list(clusters.ET[k])\n",
    "def cal_image_plot(ax):\n",
    "    ax.set_ylabel(r\"$\\phi$ [radians]]\", fontsize=16)\n",
    "    ax.set_xlabel(r\"$\\eta$\", fontsize=16)\n",
    "    ax.set_title(\"Calorimeter output\", fontsize=20, color=\"black\")\n",
    "    ax.tick_params(which=\"both\", direction=\"inout\", top=True, right=True, labelsize=14, pad=15, length=4, width=2)\n",
    "    ax.tick_params(which=\"major\", length=8)\n",
    "    ax.tick_params(which=\"major\", length=6)\n",
    "    ax.minorticks_on()\n",
    "\n",
    "fig, axs = plt.subplots(nrows = 1, ncols = 2, figsize = (15, 7))\n",
    "cal_image_plot(axs[0])\n",
    "axs[0].imshow(hists[0], extent=[-5, 5, -np.pi, np.pi], aspect='auto')\n",
    "sn.histplot(ET, ax = axs[1], bins=50, kde=True, stat=\"count\")\n",
    "axs[1].set(xlabel=\"Tower transverse energy\", xlim=[0, max(ET)], ylim = [0, 25])"
   ]
  },
  {
   "cell_type": "code",
   "execution_count": 6,
   "id": "6e22a8f8",
   "metadata": {},
   "outputs": [],
   "source": [
    "def store_many_hdf5(images, savepath, filename, labels=None):\n",
    "    \"\"\" Stores an array of images to HDF5.\n",
    "        Parameters:\n",
    "        ---------------\n",
    "        images       images array, (N, 32, 32, 3) to be stored\n",
    "        labels       labels array, (N, 1) to be stored\n",
    "    \"\"\"\n",
    "    num_images = len(images)\n",
    "\n",
    "    # Create a new HDF5 file\n",
    "    file = h5py.File(f\"{savepath}/{filename}.h5\", \"w\")\n",
    "\n",
    "    # Create a dataset in the file\n",
    "    dataset = file.create_dataset(\n",
    "        \"images\", np.shape(images), h5py.h5t.STD_U8BE, data=images\n",
    "    )\n",
    "    if(labels is not None):\n",
    "        meta_set = file.create_dataset(\n",
    "            \"meta\", np.shape(labels), h5py.h5t.STD_U8BE, data=labels\n",
    "    )\n",
    "    file.close()\n",
    "\n",
    "store_many_hdf5(hists, savepath, filename)\n",
    "\n",
    "#hists_zeros = np.zeros_like(hists)\n",
    "#store_many_hdf5(hists_zeros, savepath, \"blank_images_10000events\")"
   ]
  }
 ],
 "metadata": {
  "interpreter": {
   "hash": "5b1332e5a07ce33895000dbe941ad9cee852d3baee8993fa123c6057492c40e7"
  },
  "kernelspec": {
   "display_name": "Python 3.9.7 ('matrices': conda)",
   "language": "python",
   "name": "python3"
  },
  "language_info": {
   "codemirror_mode": {
    "name": "ipython",
    "version": 3
   },
   "file_extension": ".py",
   "mimetype": "text/x-python",
   "name": "python",
   "nbconvert_exporter": "python",
   "pygments_lexer": "ipython3",
   "version": "3.9.7"
  }
 },
 "nbformat": 4,
 "nbformat_minor": 5
}

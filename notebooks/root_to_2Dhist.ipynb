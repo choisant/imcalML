{
 "cells": [
  {
   "cell_type": "code",
   "execution_count": 107,
   "id": "1dcd1449",
   "metadata": {},
   "outputs": [],
   "source": [
    "import numpy as np\n",
    "import matplotlib.pyplot as plt\n",
    "import pandas as pd\n",
    "import uproot\n",
    "import os\n",
    "import awkward as ak\n",
    "import numba as nb\n",
    "from tqdm import tqdm\n",
    "from fast_histogram import histogram1d, histogram2d\n",
    "import datetime\n",
    "import pickle"
   ]
  },
  {
   "cell_type": "code",
   "execution_count": 118,
   "id": "7e8c7412",
   "metadata": {},
   "outputs": [],
   "source": [
    "MIN_RES = 20\n",
    "\n",
    "rootfile = \"/disk/atlas3/data_MC/ATLASOpen/jets/part1.root\" \n",
    "RESOLUTION = int(4*MIN_RES)\n",
    "MAX_EVENTS = 10000"
   ]
  },
  {
   "cell_type": "code",
   "execution_count": 75,
   "id": "e0e65afb",
   "metadata": {},
   "outputs": [
    {
     "name": "stdout",
     "output_type": "stream",
     "text": [
      "Number of available events: 102900\n"
     ]
    }
   ],
   "source": [
    "#Load relevant data\n",
    "with uproot.open(rootfile +\":JetRecoTree\") as file:\n",
    "    events = file.arrays(library=\"ak\", how=\"zip\")\n",
    "    print(\"Number of available events:\", len(events))\n",
    "    clusters = events[\"Clusters\", [\"pt\", \"eta\", \"phi\", \"m\"]]\n",
    "    clusters[\"n_jets\"] = ak.num(events[\"TruthJets_R10\"])    \n",
    "    clusters = clusters[ak.any(clusters.n_jets > 0, axis=1)]"
   ]
  },
  {
   "cell_type": "code",
   "execution_count": 119,
   "id": "afb5bf81",
   "metadata": {},
   "outputs": [
    {
     "name": "stdout",
     "output_type": "stream",
     "text": [
      "13.179321\n"
     ]
    }
   ],
   "source": [
    "#@nb.jit #could be optimized by using Numba, however 2d histogram is not straightforward to implement\n",
    "def create_histograms(array):\n",
    "    max_available_events = len(clusters)\n",
    "    if max_available_events < MAX_EVENTS:\n",
    "        max_events = max_available_events\n",
    "    else: max_events = MAX_EVENTS\n",
    "    first = datetime.datetime.now()\n",
    "    Cal = [histogram2d(event.phi, event.eta, range=[[-np.pi, np.pi], [-2.5, 2.5]], bins=RESOLUTION, weights=event.pt) for event in array[:max_events]]\n",
    "    second = datetime.datetime.now()\n",
    "    print((second - first).total_seconds())\n",
    "    return Cal\n",
    "    \n",
    "hists = create_histograms(clusters)"
   ]
  },
  {
   "cell_type": "code",
   "execution_count": 90,
   "id": "1ec2289a",
   "metadata": {},
   "outputs": [
    {
     "name": "stdout",
     "output_type": "stream",
     "text": [
      "2\n"
     ]
    },
    {
     "data": {
      "image/png": "[encoded data removed]",
      "text/plain": [
       "<Figure size 432x288 with 1 Axes>"
      ]
     },
     "metadata": {
      "needs_background": "light"
     },
     "output_type": "display_data"
    }
   ],
   "source": [
    "k = 30\n",
    "plt.imshow(hists[k])\n",
    "print(clusters.n_jets[k][0])"
   ]
  },
  {
   "cell_type": "code",
   "execution_count": 121,
   "id": "ec3b097e",
   "metadata": {},
   "outputs": [],
   "source": [
    "#Save files as pickles\n",
    "file_name = \"jets_part1_\" + str(MAX_EVENTS) + \"events_\" + str(RESOLUTION) + \"x\" + str(RESOLUTION) +\"_min1jet\" + \".pkl\"\n",
    "pickle.dump(hists, open(\"../data/histograms/\" + file_name, 'wb'))\n",
    "file_name = \"jets_part1_\" + str(MAX_EVENTS) + \"events_\" + str(RESOLUTION) + \"x\" + str(RESOLUTION) +\"_min1jet_labels_njets\" + \".pkl\"\n",
    "pickle.dump(clusters.n_jets[:,0], open(\"../data/histograms/\" + file_name, 'wb'))"
   ]
  },
  {
   "cell_type": "code",
   "execution_count": 117,
   "id": "361b1699",
   "metadata": {},
   "outputs": [],
   "source": []
  }
 ],
 "metadata": {
  "kernelspec": {
   "display_name": "Python 3",
   "language": "python",
   "name": "python3"
  },
  "language_info": {
   "codemirror_mode": {
    "name": "ipython",
    "version": 3
   },
   "file_extension": ".py",
   "mimetype": "text/x-python",
   "name": "python",
   "nbconvert_exporter": "python",
   "pygments_lexer": "ipython3",
   "version": "3.6.13"
  }
 },
 "nbformat": 4,
 "nbformat_minor": 5
}

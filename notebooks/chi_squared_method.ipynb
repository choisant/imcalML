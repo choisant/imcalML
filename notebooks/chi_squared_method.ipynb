{
 "cells": [
  {
   "cell_type": "code",
   "execution_count": 1,
   "metadata": {},
   "outputs": [],
   "source": [
    "#scientific libraries and plotting\n",
    "import numpy as np\n",
    "import scipy as scipy\n",
    "from scipy.optimize import minimize\n",
    "import matplotlib.pyplot as plt\n",
    "import pandas as pd\n",
    "import seaborn as sn\n",
    "import awkward as ak\n",
    "\n",
    "#torch specific\n",
    "import torch\n",
    "import torchvision as torchv\n",
    "import torch.optim as optim\n",
    "\n",
    "#other libraries\n",
    "import time\n",
    "import sys\n",
    "from pathlib import Path\n",
    "from sklearn.metrics import accuracy_score\n",
    "from sklearn.metrics import confusion_matrix\n",
    "import atlas_mpl_style as ampl\n",
    "#Using newest versions of all libraries"
   ]
  },
  {
   "cell_type": "code",
   "execution_count": 2,
   "metadata": {},
   "outputs": [],
   "source": [
    "# import custom functions from src folder\n",
    "module_path = str(Path.cwd().parents[0] / \"src\")\n",
    "\n",
    "if module_path not in sys.path:\n",
    "    sys.path.append(module_path)\n",
    "\n",
    "from machine_learning import *\n",
    "from resnet import *\n",
    "from imcal import *\n",
    "\n",
    "from resnet import ResNet18"
   ]
  },
  {
   "cell_type": "code",
   "execution_count": 3,
   "metadata": {},
   "outputs": [
    {
     "name": "stdout",
     "output_type": "stream",
     "text": [
      "Running on the GPU\n"
     ]
    }
   ],
   "source": [
    "#variables controlled by the user. Change these to fit your specific needs.\n",
    "TEST_N_EVENTS = 3000 #Number of events to process for each class. If higher than the available number of events an exception will be raised.\n",
    "RES = 50 #resolution\n",
    "\"\"\"\n",
    "#Data specification\n",
    "LABELS = [\"PP13-Sphaleron-THR9-FRZ15-NB0-NSUBPALL\", \"BH_n2_M10\", \"BH_n4_M10\", \"BH_n6_M10\"] #for plotting #\"PP13-Sphaleron-THR9-FRZ15-NB0-NSUBPALL\", \n",
    "TEST_LABELS = [f\"{label}_test\" for label in LABELS]\n",
    "PLOT_LABELS = [\"SPH_9TEV\", \"BH_n2_M10\", \"BH_n4_M10\", \"BH_n6_M10\"]\n",
    "CLASSES = len(LABELS) #The number of output nodes in the net, equal to the number of classes\n",
    "FOLDERS = [\"sph\", \"BH\", \"BH\", \"BH\"]\n",
    "\"\"\"\n",
    "\n",
    "LABELS = [\"PP13-Sphaleron-THR9-FRZ15-NB0-NSUBPALL\", \"BH_n4_M10\"]\n",
    "TEST_LABELS = [f\"{label}_test\" for label in LABELS]\n",
    "PLOT_LABELS = [\"SPH_9TeV\", \"BH_n4_M10\"] #for plotting \n",
    "CLASSES = 2 #The number of output nodes in the net, equal to the number of classes\n",
    "FOLDERS = [\"sph\", \"BH\"]\n",
    "\n",
    "TEST_FILENAMES = [f\"{label}_res{RES}_3000_events.h5\" for label in TEST_LABELS]\n",
    "TEST_DATAPATHS = [f\"/disk/atlas3/data_MC/2dhistograms/{FOLDERS[i]}/{RES}/{TEST_FILENAMES[i]}\" for i in range(len(LABELS))] #The path to the folder containing the testing histogram files\n",
    "\n",
    "MODEL_NAME = \"resnet_1672847262\"\n",
    "LOAD_FOLDER = \"/home/agrefsru/imcalML/results/models\"\n",
    "LOAD_PATH = f\"{LOAD_FOLDER}/{MODEL_NAME}.pt\"\n",
    "\n",
    "if torch.cuda.is_available():\n",
    "    DEVICE = torch.device(\"cuda\")\n",
    "    torch.cuda.empty_cache()\n",
    "    print(\"Running on the GPU\")\n",
    "else:\n",
    "    DEVICE = torch.device(\"cpu\")\n",
    "    print(\"Running on the CPU\")\n",
    "\n",
    "ampl.use_atlas_style()   "
   ]
  },
  {
   "cell_type": "code",
   "execution_count": 4,
   "metadata": {},
   "outputs": [
    {
     "data": {
      "text/plain": [
       "ResNet(\n",
       "  (conv1): Conv2d(3, 64, kernel_size=(7, 7), stride=(2, 2), padding=(3, 3), padding_mode=circular)\n",
       "  (bn1): BatchNorm2d(64, eps=1e-05, momentum=0.1, affine=True, track_running_stats=True)\n",
       "  (relu): ReLU()\n",
       "  (maxpool): MaxPool2d(kernel_size=3, stride=2, padding=1, dilation=1, ceil_mode=False)\n",
       "  (layer1): Sequential(\n",
       "    (0): Block(\n",
       "      (conv1): Conv2d(64, 64, kernel_size=(1, 1), stride=(1, 1), padding_mode=circular)\n",
       "      (bn1): BatchNorm2d(64, eps=1e-05, momentum=0.1, affine=True, track_running_stats=True)\n",
       "      (conv2): Conv2d(64, 64, kernel_size=(3, 3), stride=(1, 1), padding=(1, 1), padding_mode=circular)\n",
       "      (bn2): BatchNorm2d(64, eps=1e-05, momentum=0.1, affine=True, track_running_stats=True)\n",
       "      (conv3): Conv2d(64, 64, kernel_size=(1, 1), stride=(1, 1), padding_mode=circular)\n",
       "      (bn3): BatchNorm2d(64, eps=1e-05, momentum=0.1, affine=True, track_running_stats=True)\n",
       "      (relu): ReLU()\n",
       "      (identity_downsample): Sequential(\n",
       "        (0): Conv2d(64, 64, kernel_size=(1, 1), stride=(1, 1))\n",
       "        (1): BatchNorm2d(64, eps=1e-05, momentum=0.1, affine=True, track_running_stats=True)\n",
       "      )\n",
       "    )\n",
       "    (1): Block(\n",
       "      (conv1): Conv2d(64, 64, kernel_size=(1, 1), stride=(1, 1), padding_mode=circular)\n",
       "      (bn1): BatchNorm2d(64, eps=1e-05, momentum=0.1, affine=True, track_running_stats=True)\n",
       "      (conv2): Conv2d(64, 64, kernel_size=(3, 3), stride=(1, 1), padding=(1, 1), padding_mode=circular)\n",
       "      (bn2): BatchNorm2d(64, eps=1e-05, momentum=0.1, affine=True, track_running_stats=True)\n",
       "      (conv3): Conv2d(64, 64, kernel_size=(1, 1), stride=(1, 1), padding_mode=circular)\n",
       "      (bn3): BatchNorm2d(64, eps=1e-05, momentum=0.1, affine=True, track_running_stats=True)\n",
       "      (relu): ReLU()\n",
       "    )\n",
       "  )\n",
       "  (layer2): Sequential(\n",
       "    (0): Block(\n",
       "      (conv1): Conv2d(64, 128, kernel_size=(1, 1), stride=(1, 1), padding_mode=circular)\n",
       "      (bn1): BatchNorm2d(128, eps=1e-05, momentum=0.1, affine=True, track_running_stats=True)\n",
       "      (conv2): Conv2d(64, 128, kernel_size=(3, 3), stride=(2, 2), padding=(1, 1), padding_mode=circular)\n",
       "      (bn2): BatchNorm2d(128, eps=1e-05, momentum=0.1, affine=True, track_running_stats=True)\n",
       "      (conv3): Conv2d(128, 128, kernel_size=(1, 1), stride=(1, 1), padding_mode=circular)\n",
       "      (bn3): BatchNorm2d(128, eps=1e-05, momentum=0.1, affine=True, track_running_stats=True)\n",
       "      (relu): ReLU()\n",
       "      (identity_downsample): Sequential(\n",
       "        (0): Conv2d(64, 128, kernel_size=(1, 1), stride=(2, 2))\n",
       "        (1): BatchNorm2d(128, eps=1e-05, momentum=0.1, affine=True, track_running_stats=True)\n",
       "      )\n",
       "    )\n",
       "    (1): Block(\n",
       "      (conv1): Conv2d(128, 128, kernel_size=(1, 1), stride=(1, 1), padding_mode=circular)\n",
       "      (bn1): BatchNorm2d(128, eps=1e-05, momentum=0.1, affine=True, track_running_stats=True)\n",
       "      (conv2): Conv2d(128, 128, kernel_size=(3, 3), stride=(1, 1), padding=(1, 1), padding_mode=circular)\n",
       "      (bn2): BatchNorm2d(128, eps=1e-05, momentum=0.1, affine=True, track_running_stats=True)\n",
       "      (conv3): Conv2d(128, 128, kernel_size=(1, 1), stride=(1, 1), padding_mode=circular)\n",
       "      (bn3): BatchNorm2d(128, eps=1e-05, momentum=0.1, affine=True, track_running_stats=True)\n",
       "      (relu): ReLU()\n",
       "    )\n",
       "  )\n",
       "  (layer3): Sequential(\n",
       "    (0): Block(\n",
       "      (conv1): Conv2d(128, 256, kernel_size=(1, 1), stride=(1, 1), padding_mode=circular)\n",
       "      (bn1): BatchNorm2d(256, eps=1e-05, momentum=0.1, affine=True, track_running_stats=True)\n",
       "      (conv2): Conv2d(128, 256, kernel_size=(3, 3), stride=(2, 2), padding=(1, 1), padding_mode=circular)\n",
       "      (bn2): BatchNorm2d(256, eps=1e-05, momentum=0.1, affine=True, track_running_stats=True)\n",
       "      (conv3): Conv2d(256, 256, kernel_size=(1, 1), stride=(1, 1), padding_mode=circular)\n",
       "      (bn3): BatchNorm2d(256, eps=1e-05, momentum=0.1, affine=True, track_running_stats=True)\n",
       "      (relu): ReLU()\n",
       "      (identity_downsample): Sequential(\n",
       "        (0): Conv2d(128, 256, kernel_size=(1, 1), stride=(2, 2))\n",
       "        (1): BatchNorm2d(256, eps=1e-05, momentum=0.1, affine=True, track_running_stats=True)\n",
       "      )\n",
       "    )\n",
       "    (1): Block(\n",
       "      (conv1): Conv2d(256, 256, kernel_size=(1, 1), stride=(1, 1), padding_mode=circular)\n",
       "      (bn1): BatchNorm2d(256, eps=1e-05, momentum=0.1, affine=True, track_running_stats=True)\n",
       "      (conv2): Conv2d(256, 256, kernel_size=(3, 3), stride=(1, 1), padding=(1, 1), padding_mode=circular)\n",
       "      (bn2): BatchNorm2d(256, eps=1e-05, momentum=0.1, affine=True, track_running_stats=True)\n",
       "      (conv3): Conv2d(256, 256, kernel_size=(1, 1), stride=(1, 1), padding_mode=circular)\n",
       "      (bn3): BatchNorm2d(256, eps=1e-05, momentum=0.1, affine=True, track_running_stats=True)\n",
       "      (relu): ReLU()\n",
       "    )\n",
       "  )\n",
       "  (layer4): Sequential(\n",
       "    (0): Block(\n",
       "      (conv1): Conv2d(256, 512, kernel_size=(1, 1), stride=(1, 1), padding_mode=circular)\n",
       "      (bn1): BatchNorm2d(512, eps=1e-05, momentum=0.1, affine=True, track_running_stats=True)\n",
       "      (conv2): Conv2d(256, 512, kernel_size=(3, 3), stride=(2, 2), padding=(1, 1), padding_mode=circular)\n",
       "      (bn2): BatchNorm2d(512, eps=1e-05, momentum=0.1, affine=True, track_running_stats=True)\n",
       "      (conv3): Conv2d(512, 512, kernel_size=(1, 1), stride=(1, 1), padding_mode=circular)\n",
       "      (bn3): BatchNorm2d(512, eps=1e-05, momentum=0.1, affine=True, track_running_stats=True)\n",
       "      (relu): ReLU()\n",
       "      (identity_downsample): Sequential(\n",
       "        (0): Conv2d(256, 512, kernel_size=(1, 1), stride=(2, 2))\n",
       "        (1): BatchNorm2d(512, eps=1e-05, momentum=0.1, affine=True, track_running_stats=True)\n",
       "      )\n",
       "    )\n",
       "    (1): Block(\n",
       "      (conv1): Conv2d(512, 512, kernel_size=(1, 1), stride=(1, 1), padding_mode=circular)\n",
       "      (bn1): BatchNorm2d(512, eps=1e-05, momentum=0.1, affine=True, track_running_stats=True)\n",
       "      (conv2): Conv2d(512, 512, kernel_size=(3, 3), stride=(1, 1), padding=(1, 1), padding_mode=circular)\n",
       "      (bn2): BatchNorm2d(512, eps=1e-05, momentum=0.1, affine=True, track_running_stats=True)\n",
       "      (conv3): Conv2d(512, 512, kernel_size=(1, 1), stride=(1, 1), padding_mode=circular)\n",
       "      (bn3): BatchNorm2d(512, eps=1e-05, momentum=0.1, affine=True, track_running_stats=True)\n",
       "      (relu): ReLU()\n",
       "    )\n",
       "  )\n",
       "  (avgpool): AdaptiveAvgPool2d(output_size=(1, 1))\n",
       "  (fc): Linear(in_features=512, out_features=2, bias=True)\n",
       ")"
      ]
     },
     "execution_count": 4,
     "metadata": {},
     "output_type": "execute_result"
    }
   ],
   "source": [
    "#import model\n",
    "model = ResNet18(img_channels=3, num_classes=CLASSES)\n",
    "model.load_state_dict(torch.load(LOAD_PATH))\n",
    "model.eval()\n",
    "model.to(DEVICE)"
   ]
  },
  {
   "cell_type": "code",
   "execution_count": 5,
   "metadata": {},
   "outputs": [],
   "source": [
    "#Load data\n",
    "sph_testpath = [Path(TEST_DATAPATHS[0])]\n",
    "sph_test_data = Hdf5Dataset(sph_testpath, [TEST_LABELS[0]], DEVICE, \n",
    "                        shuffle=False, filters=None, transform=None, event_limit=TEST_N_EVENTS)\n",
    "\n",
    "bh_testpath = [Path(TEST_DATAPATHS[1])]\n",
    "bh_test_data = Hdf5Dataset(bh_testpath, [TEST_LABELS[1]], DEVICE, \n",
    "                        shuffle=False, filters=None, transform=None, event_limit=TEST_N_EVENTS)\n"
   ]
  },
  {
   "cell_type": "code",
   "execution_count": 6,
   "metadata": {},
   "outputs": [
    {
     "name": "stderr",
     "output_type": "stream",
     "text": [
      "100%|██████████| 3000/3000 [00:18<00:00, 161.33it/s]\n",
      "100%|██████████| 3000/3000 [00:21<00:00, 139.43it/s]\n"
     ]
    }
   ],
   "source": [
    "truth, preds = predict(model, sph_test_data, CLASSES, 1, RES, DEVICE)\n",
    "sph_df_3000 = pd.DataFrame(dict(zip([\"Truth\", \"Predictions\"], [truth, preds])))\n",
    "truth, preds = predict(model, bh_test_data, CLASSES, 1, RES, DEVICE)\n",
    "bh_df_3000 = pd.DataFrame(dict(zip([\"Truth\", \"Predictions\"], [truth, preds])))"
   ]
  },
  {
   "cell_type": "code",
   "execution_count": 7,
   "metadata": {},
   "outputs": [
    {
     "data": {
      "text/plain": [
       "Text(0.5, 1.0, 'Sphaleron predictions')"
      ]
     },
     "execution_count": 7,
     "metadata": {},
     "output_type": "execute_result"
    },
    {
     "data": {
      "image/png": "[encoded data removed]",
      "text/plain": [
       "<Figure size 799.992x599.976 with 1 Axes>"
      ]
     },
     "metadata": {},
     "output_type": "display_data"
    }
   ],
   "source": [
    "sn.histplot(sph_df_3000[\"Predictions\"], binrange=(-0.5,1.5), binwidth=(0.5))\n",
    "plt.title(\"Sphaleron predictions\")"
   ]
  },
  {
   "cell_type": "code",
   "execution_count": 8,
   "metadata": {},
   "outputs": [
    {
     "data": {
      "text/plain": [
       "Text(0.5, 1.0, 'Black holes predictions')"
      ]
     },
     "execution_count": 8,
     "metadata": {},
     "output_type": "execute_result"
    },
    {
     "data": {
      "image/png": "[encoded data removed]",
      "text/plain": [
       "<Figure size 799.992x599.976 with 1 Axes>"
      ]
     },
     "metadata": {},
     "output_type": "display_data"
    }
   ],
   "source": [
    "sn.histplot(bh_df_3000[\"Predictions\"], binrange=(-0.5,1.5), binwidth=(0.5))\n",
    "plt.title(\"Black holes predictions\")"
   ]
  },
  {
   "cell_type": "code",
   "execution_count": 9,
   "metadata": {},
   "outputs": [
    {
     "name": "stderr",
     "output_type": "stream",
     "text": [
      "100%|██████████| 3000/3000 [00:21<00:00, 142.18it/s]\n",
      "100%|██████████| 3000/3000 [00:21<00:00, 142.71it/s]\n"
     ]
    }
   ],
   "source": [
    "truth, preds = shuffle_predict(model, sph_test_data, CLASSES, 1, RES, DEVICE)\n",
    "sph_df_shuffled = pd.DataFrame(dict(zip([\"Truth\", \"Predictions\"], [truth, preds])))\n",
    "truth, preds = shuffle_predict(model, bh_test_data, CLASSES, 1, RES, DEVICE)\n",
    "bh_df_shuffled = pd.DataFrame(dict(zip([\"Truth\", \"Predictions\"], [truth, preds])))"
   ]
  },
  {
   "cell_type": "code",
   "execution_count": 10,
   "metadata": {},
   "outputs": [
    {
     "data": {
      "text/plain": [
       "Text(0.5, 1.0, 'Sphaleron 10 events predictions')"
      ]
     },
     "execution_count": 10,
     "metadata": {},
     "output_type": "execute_result"
    },
    {
     "data": {
      "image/png": "[encoded data removed]",
      "text/plain": [
       "<Figure size 799.992x599.976 with 1 Axes>"
      ]
     },
     "metadata": {},
     "output_type": "display_data"
    }
   ],
   "source": [
    "N = 5\n",
    "k = np.random.randint(0, len(sph_df_shuffled)-N)\n",
    "sn.histplot(sph_df_shuffled[\"Predictions\"][k:k+N], binrange=(-0.5,1.5), binwidth=(0.5))\n",
    "plt.title(\"Sphaleron 10 events predictions\")"
   ]
  },
  {
   "cell_type": "code",
   "execution_count": 11,
   "metadata": {},
   "outputs": [
    {
     "name": "stdout",
     "output_type": "stream",
     "text": [
      "Sending in sphalerons\n",
      "Histogram for data: [74, 6]\n",
      "Histogram sphaleron theory: [74.56, 5.44]\n",
      "The chi2 value for sphaleron theory is 0.06180528182893621. The p-value is 0.8036650400520989\n",
      "Histogram black holes theory: [9.44, 70.56]\n",
      "The chi2 value for black holes theory is 68.97682454572535. The p-value is 1.1102230246251565e-16\n"
     ]
    }
   ],
   "source": [
    "#chi2 test\n",
    "from scipy import stats\n",
    "\n",
    "def chi2(x, values):\n",
    "    #Values is a 2xN vector, [data, theory]\n",
    "    data = np.array(values[0])\n",
    "    theory = np.array(values[1])\n",
    "    return(np.sum([(x*data-theory)**2/(theory)]))\n",
    "\n",
    "def chi2_method(sph, bh, data):\n",
    "    \n",
    "    #number of predicted particles in each class\n",
    "    N_data_sph = len(data[data[\"Predictions\"]==0])\n",
    "    N_data_bh = len(data[data[\"Predictions\"]==1])\n",
    "    N_samp = len(data)\n",
    "\n",
    "    #normalized predictions for theory 1 and 2 \n",
    "    n_t1_sph = ((len(sph[sph[\"Predictions\"]==0])/len(sph)))*N_samp \n",
    "    n_t1_bh = ((len(sph[sph[\"Predictions\"]==1])/len(sph)))*N_samp \n",
    "    n_t2_sph = ((len(bh[bh[\"Predictions\"]==0])/len(bh)))*N_samp \n",
    "    n_t2_bh = ((len(bh[bh[\"Predictions\"]==1])/len(bh)))*N_samp \n",
    "\n",
    "    value_list1 = [[N_data_sph, N_data_bh], [n_t1_sph, n_t1_bh]]\n",
    "    value_list2 = [[N_data_sph, N_data_bh], [n_t2_sph, n_t2_bh]]\n",
    "    \n",
    "    x_value1 = minimize(chi2, 0, value_list1).x[0]\n",
    "    x_value2 = minimize(chi2, 0, value_list2).x[0]\n",
    "\n",
    "    chi2_value1=chi2(x_value1, np.array(value_list1))\n",
    "    chi2_value2=chi2(x_value2, np.array(value_list2))\n",
    "\n",
    "    print(f\"Histogram for data: {[N_data_sph, N_data_bh]}\")\n",
    "    print(f\"Histogram sphaleron theory: {[n_t1_sph, n_t1_bh]}\")\n",
    "    print(f\"The chi2 value for sphaleron theory is {chi2_value1}. The p-value is {1 - stats.chi2.cdf(chi2_value1, 1)}\")\n",
    "    print(f\"Histogram black holes theory: {[n_t2_sph, n_t2_bh]}\")\n",
    "    print(f\"The chi2 value for black holes theory is {chi2_value2}. The p-value is {1 - stats.chi2.cdf(chi2_value2, 1)}\")\n",
    "\n",
    "\n",
    "N = 80\n",
    "k = np.random.randint(0, len(sph_df_shuffled)-N)\n",
    "#send in theory 1 particles\n",
    "experiment = sph_df_shuffled[k:k+N]\n",
    "print(\"Sending in sphalerons\")\n",
    "chi2_method(sph_df_3000, bh_df_3000, experiment)\n"
   ]
  },
  {
   "cell_type": "code",
   "execution_count": null,
   "metadata": {},
   "outputs": [],
   "source": []
  }
 ],
 "metadata": {
  "kernelspec": {
   "display_name": "matrices",
   "language": "python",
   "name": "python3"
  },
  "language_info": {
   "codemirror_mode": {
    "name": "ipython",
    "version": 3
   },
   "file_extension": ".py",
   "mimetype": "text/x-python",
   "name": "python",
   "nbconvert_exporter": "python",
   "pygments_lexer": "ipython3",
   "version": "3.9.7"
  },
  "orig_nbformat": 4,
  "vscode": {
   "interpreter": {
    "hash": "5b1332e5a07ce33895000dbe941ad9cee852d3baee8993fa123c6057492c40e7"
   }
  }
 },
 "nbformat": 4,
 "nbformat_minor": 2
}

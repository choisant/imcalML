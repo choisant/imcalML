{
 "cells": [
  {
   "cell_type": "code",
   "execution_count": 14,
   "id": "1831994b",
   "metadata": {},
   "outputs": [],
   "source": [
    "import torch\n",
    "import torchvision\n",
    "from torchvision import transforms, datasets\n",
    "import matplotlib.pyplot as plt\n",
    "import pickle\n",
    "from tqdm import tqdm\n",
    "import time\n",
    "import pandas as pd\n",
    "import torch.nn as nn\n",
    "import torch.nn.functional as F\n",
    "import torch.optim as optim\n",
    "from torch.utils.data import DataLoader\n",
    "from torch.utils.data import Dataset\n",
    "\n",
    "data_path = \"../data/histograms/\""
   ]
  },
  {
   "cell_type": "code",
   "execution_count": 15,
   "id": "32def5f8",
   "metadata": {},
   "outputs": [
    {
     "name": "stdout",
     "output_type": "stream",
     "text": [
      "jet_nr-1643709146\n"
     ]
    }
   ],
   "source": [
    "#variables\n",
    "VAL_PCT = 0.2\n",
    "N_EVENTS = 10000\n",
    "EPOCHS = 100\n",
    "CUDA = torch.device('cuda') \n",
    "MODEL_NAME = \"jet_nr-\" + str(int(time.time()))\n",
    "print(MODEL_NAME)\n",
    "MAX_JETS = 4"
   ]
  },
  {
   "cell_type": "code",
   "execution_count": 16,
   "id": "8bdc5604",
   "metadata": {},
   "outputs": [],
   "source": [
    "def load_pickle_file(path, file_name):\n",
    "    return pickle.load(open(path + file_name, 'rb') )\n",
    "\n",
    "class Net(nn.Module):\n",
    "    def __init__(self): #initialises class Net\n",
    "        super().__init__() #initialises inherited class nn.Module\n",
    "        self.conv1 = nn.Conv2d(1, 32, 5)\n",
    "        self.conv2 = nn.Conv2d(32, 64, 5)\n",
    "        self.conv3 = nn.Conv2d(64, 128, 5)\n",
    "        self.pool1 = nn.MaxPool2d((2, 2))\n",
    "        self.pool2 = nn.MaxPool2d((2, 2))\n",
    "        self.pool3 = nn.MaxPool2d((2, 2))\n",
    "# commenting out fc layers, replace value with our output\n",
    "        #self.fc1 = nn.Linear(value, 512)\n",
    "        self.fc1 = nn.Linear(4608, 512)\n",
    "        self.fc2 = nn.Linear(512, MAX_JETS+1)\n",
    "    \n",
    "    def forward(self, x):\n",
    "        x = F.relu(self.conv1(x))\n",
    "        x = self.pool1(x)\n",
    "        x = F.relu(self.conv2(x))\n",
    "        x = self.pool2(x)\n",
    "        x = F.relu(self.conv3(x))\n",
    "        x = self.pool3(x)\n",
    "        x = x.flatten(start_dim=1) # flattening out\n",
    "        #print(x.shape) # printing the shape of the flattened output, replace \"value\" above with this value\n",
    "        x = F.relu(self.fc1(x))\n",
    "        x = self.fc2(x)\n",
    "        return F.softmax(x, dim=1)\n",
    "\n",
    "\n",
    "class CalorimeterDataset(Dataset):\n",
    "    def __init__(self, images, labels):\n",
    "            self.img_labels = labels\n",
    "            self.images = images\n",
    "            \n",
    "    def __len__(self):\n",
    "        return len(self.img_labels)\n",
    "    \n",
    "    def __getitem__(self, idx):\n",
    "        image = self.images[idx]\n",
    "        label = self.img_labels[idx]\n",
    "        return image, label\n"
   ]
  },
  {
   "cell_type": "code",
   "execution_count": 17,
   "id": "545fbd71",
   "metadata": {},
   "outputs": [],
   "source": [
    "def label_maker(labels, max_value):\n",
    "    label_lists = torch.zeros([len(labels), max_value + 1])\n",
    "    labels[labels > max_value] = max_value\n",
    "    for i in range (0, len(labels)):\n",
    "        label = labels[i]\n",
    "        label_lists[i, label] = 1 \n",
    "    return label_lists\n",
    "\n",
    "\n",
    "def load_data(input_file, label_file):\n",
    "    val_size = int(N_EVENTS*VAL_PCT)\n",
    "    train_size = int(N_EVENTS*(1-VAL_PCT))\n",
    "    \n",
    "    Cal_train = torch.tensor(load_pickle_file(data_path, input_file)[:-val_size]).unsqueeze(3).float().cuda()\n",
    "    labels_train = torch.tensor(load_pickle_file(data_path, label_file)[:-val_size]).cuda()\n",
    "    labels_train = label_maker(labels_train, MAX_JETS)\n",
    "\n",
    "    Cal_test = torch.tensor(load_pickle_file(data_path, input_file)[-val_size:]).unsqueeze(3).float().cuda()\n",
    "    labels_test = torch.tensor(load_pickle_file(data_path, label_file)[-val_size:]).cuda()\n",
    "    labels_test = label_maker(labels_test, MAX_JETS)\n",
    "    \n",
    "    train_dataset = CalorimeterDataset(Cal_train, labels_train)\n",
    "    test_dataset = CalorimeterDataset(Cal_test, labels_test)\n",
    "    \n",
    "    return train_dataset, test_dataset\n"
   ]
  },
  {
   "cell_type": "code",
   "execution_count": 18,
   "id": "18767b89",
   "metadata": {},
   "outputs": [],
   "source": [
    "#load data\n",
    "traindata, testdata = load_data('jets_part1_10000events_80x80_min1jet.pkl', 'jets_part1_10000events_80x80_min1jet_labels_njets.pkl')"
   ]
  },
  {
   "cell_type": "code",
   "execution_count": 19,
   "id": "b1d567ea",
   "metadata": {},
   "outputs": [],
   "source": [
    "\n",
    "def fwd_pass(net, X, y, train=False):\n",
    "    if train:\n",
    "        net.zero_grad()\n",
    "    outputs = net(X.view(-1, 1, 80, 80).cuda())\n",
    "    matches = [torch.argmax(i) == torch.argmax(j) for i, j in zip(outputs, y)]\n",
    "    acc = matches.count(True)/len(matches)\n",
    "    loss = F.cross_entropy(outputs, y.cuda()) # loss_function(outputs, y)\n",
    "    \n",
    "    if train:\n",
    "        loss.backward()\n",
    "        optimizer.step()\n",
    "    return acc, loss\n",
    "\n",
    "def test(net, data, size = 32):\n",
    "    dataset = DataLoader(data, size, shuffle=True) #shuffle data and choose batch size\n",
    "    X, y = next(iter(dataset)) #get a random batch\n",
    "    val_acc, val_loss = fwd_pass(net, X, y)\n",
    "    return val_acc, val_loss\n",
    "    \n",
    "def predict(net, data):\n",
    "    dataset = DataLoader(data, 1, shuffle=True) #shuffle data and choose batch size\n",
    "    prediction = torch.zeros(len(dataset))\n",
    "    truth = torch.zeros(len(dataset))\n",
    "    i = 0\n",
    "    for data in tqdm(dataset):\n",
    "        X, y = data\n",
    "        output = net(X.view(-1, 1, 80, 80).cuda())\n",
    "        prediction[i] = torch.argmax(output)\n",
    "        truth[i] = torch.argmax(y)\n",
    "        i = i +1\n",
    "    return truth, prediction\n",
    "        \n",
    "\n",
    "def train(net, traindata, testdata, size, epochs):\n",
    "    dataset = DataLoader(traindata, size, shuffle=True)\n",
    "    df_labels = [\"Loss\", \"Accuracy\", \"Validation loss\", \"Validation accuracy\", \"Epoch\", \"Iteration\"]\n",
    "    df_data = [[0], [0], [0], [0], [0], [0]]\n",
    "    df = pd.DataFrame(dict(zip(df_labels, df_data)))\n",
    "    i = 0\n",
    "    for epoch in tqdm(range(epochs)):\n",
    "        for data in dataset:\n",
    "            i = i+1\n",
    "            X, y = data\n",
    "            acc, loss = fwd_pass(net, X, y, train=True)\n",
    "            if i % 10 == 0:\n",
    "                val_acc, val_loss = test(net, testdata, size=size)\n",
    "                df_data = [float(loss), acc, float(val_loss), val_acc, epoch, i]\n",
    "                #print(df_labels, df_data)\n",
    "                new_df = pd.DataFrame(dict(zip(df_labels, df_data)), index=[0])\n",
    "                df = pd.concat([df, new_df], ignore_index=True)\n",
    "    return df"
   ]
  },
  {
   "cell_type": "code",
   "execution_count": 35,
   "id": "9d8ccaa9",
   "metadata": {},
   "outputs": [],
   "source": [
    "#create NN\n",
    "net = Net()\n",
    "net.to(device = CUDA)\n",
    "optimizer = optim.Adam(net.parameters(), lr=0.0001)"
   ]
  },
  {
   "cell_type": "code",
   "execution_count": 36,
   "id": "6de0788a",
   "metadata": {},
   "outputs": [
    {
     "name": "stderr",
     "output_type": "stream",
     "text": [
      "100%|██████████| 100/100 [02:11<00:00,  1.32s/it]\n"
     ]
    }
   ],
   "source": [
    "training_results = train(net, traindata, testdata, 100, 100)"
   ]
  },
  {
   "cell_type": "code",
   "execution_count": 37,
   "id": "3604abc4",
   "metadata": {},
   "outputs": [
    {
     "data": {
      "text/plain": [
       "<AxesSubplot:xlabel='Iteration'>"
      ]
     },
     "execution_count": 37,
     "metadata": {},
     "output_type": "execute_result"
    },
    {
     "data": {
      "image/png": "[encoded data removed]",
      "text/plain": [
       "<Figure size 432x288 with 1 Axes>"
      ]
     },
     "metadata": {
      "needs_background": "light"
     },
     "output_type": "display_data"
    }
   ],
   "source": [
    "training_results.plot(\"Iteration\", [\"Accuracy\", \"Validation accuracy\"])"
   ]
  },
  {
   "cell_type": "code",
   "execution_count": 38,
   "id": "b95a5ed0",
   "metadata": {},
   "outputs": [
    {
     "data": {
      "text/plain": [
       "<AxesSubplot:xlabel='Iteration'>"
      ]
     },
     "execution_count": 38,
     "metadata": {},
     "output_type": "execute_result"
    },
    {
     "data": {
      "image/png": "[encoded data removed]",
      "text/plain": [
       "<Figure size 432x288 with 1 Axes>"
      ]
     },
     "metadata": {
      "needs_background": "light"
     },
     "output_type": "display_data"
    }
   ],
   "source": [
    "training_results.plot(\"Iteration\", [\"Loss\", \"Validation loss\"])"
   ]
  },
  {
   "cell_type": "code",
   "execution_count": 39,
   "id": "6d73aa0e",
   "metadata": {},
   "outputs": [
    {
     "name": "stderr",
     "output_type": "stream",
     "text": [
      "100%|██████████| 2000/2000 [00:01<00:00, 1318.13it/s]"
     ]
    },
    {
     "name": "stdout",
     "output_type": "stream",
     "text": [
      "tensor([2., 2., 2., 2., 2., 2., 2., 2., 2., 2., 2., 2., 2., 2., 2., 2., 2., 2.,\n",
      "        2., 2., 2., 2., 2., 2., 2., 2., 2., 2., 2., 2., 2., 2., 2., 2., 2., 2.,\n",
      "        2., 2., 2., 2., 2., 2., 2., 2., 2., 2., 2., 2., 2., 2.])\n",
      "tensor([2., 3., 2., 3., 4., 3., 2., 3., 2., 0., 0., 2., 2., 2., 2., 2., 0., 2.,\n",
      "        2., 0., 2., 2., 2., 2., 2., 2., 0., 2., 4., 3., 2., 2., 0., 2., 4., 2.,\n",
      "        0., 0., 2., 2., 3., 3., 2., 2., 4., 2., 3., 4., 0., 3.])\n"
     ]
    },
    {
     "name": "stderr",
     "output_type": "stream",
     "text": [
      "\n"
     ]
    }
   ],
   "source": [
    "truth, preds = predict(net, testdata)\n",
    "confusion = pd.DataFrame(dict(zip([\"Truth\", \"Predictions\"], [truth, preds])))\n",
    "print(preds[:50])\n",
    "print(truth[:50])"
   ]
  },
  {
   "cell_type": "markdown",
   "id": "95b93bbb",
   "metadata": {},
   "source": [
    "# Our network became lazy and only guesses 2 every time!!!\n"
   ]
  },
  {
   "cell_type": "code",
   "execution_count": 33,
   "id": "574f74d2",
   "metadata": {},
   "outputs": [
    {
     "data": {
      "text/plain": [
       "(0.0, 4.0)"
      ]
     },
     "execution_count": 33,
     "metadata": {},
     "output_type": "execute_result"
    },
    {
     "data": {
      "image/png": "[encoded data removed]",
      "text/plain": [
       "<Figure size 360x360 with 1 Axes>"
      ]
     },
     "metadata": {
      "needs_background": "light"
     },
     "output_type": "display_data"
    }
   ],
   "source": [
    "import seaborn as sn\n",
    "sn.displot(confusion, x=\"Predictions\", )\n",
    "plt.xlim(0, 4)"
   ]
  },
  {
   "cell_type": "code",
   "execution_count": 34,
   "id": "cf9caaf8",
   "metadata": {},
   "outputs": [
    {
     "data": {
      "text/plain": [
       "(0.0, 4.0)"
      ]
     },
     "execution_count": 34,
     "metadata": {},
     "output_type": "execute_result"
    },
    {
     "data": {
      "image/png": "[encoded data removed]",
      "text/plain": [
       "<Figure size 360x360 with 1 Axes>"
      ]
     },
     "metadata": {
      "needs_background": "light"
     },
     "output_type": "display_data"
    }
   ],
   "source": [
    "sn.displot(confusion, x=\"Truth\")\n",
    "plt.xlim(0, 4)"
   ]
  }
 ],
 "metadata": {
  "kernelspec": {
   "display_name": "Python 3",
   "language": "python",
   "name": "python3"
  },
  "language_info": {
   "codemirror_mode": {
    "name": "ipython",
    "version": 3
   },
   "file_extension": ".py",
   "mimetype": "text/x-python",
   "name": "python",
   "nbconvert_exporter": "python",
   "pygments_lexer": "ipython3",
   "version": "3.9.7"
  }
 },
 "nbformat": 4,
 "nbformat_minor": 5
}

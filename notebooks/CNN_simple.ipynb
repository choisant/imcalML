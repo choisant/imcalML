{
 "cells": [
  {
   "cell_type": "code",
   "execution_count": 2,
   "id": "1831994b",
   "metadata": {},
   "outputs": [],
   "source": [
    "import torch\n",
    "import torchvision\n",
    "from torchvision import transforms, datasets\n",
    "import matplotlib.pyplot as plt\n",
    "import pickle\n",
    "from tqdm import tqdm\n",
    "import time\n",
    "import pandas as pd\n",
    "import torch.nn as nn\n",
    "import torch.nn.functional as F\n",
    "import torch.optim as optim\n",
    "from torch.utils.data import DataLoader\n",
    "from torch.utils.data import Dataset\n",
    "\n",
    "data_path = \"../data/histograms/\""
   ]
  },
  {
   "cell_type": "code",
   "execution_count": 3,
   "id": "32def5f8",
   "metadata": {},
   "outputs": [
    {
     "name": "stdout",
     "output_type": "stream",
     "text": [
      "signal_vs_bg-1643290944\n"
     ]
    }
   ],
   "source": [
    "#variables\n",
    "VAL_PCT = 0.1\n",
    "N_EVENTS = 3000\n",
    "EPOCHS = 100\n",
    "CUDA = torch.device('cuda') \n",
    "MODEL_NAME = \"signal_vs_bg-\" + str(int(time.time()))\n",
    "print(MODEL_NAME)"
   ]
  },
  {
   "cell_type": "code",
   "execution_count": 5,
   "id": "8bdc5604",
   "metadata": {},
   "outputs": [],
   "source": [
    "def load_pickle_file(path, file_name):\n",
    "    return pickle.load(open(path + file_name, 'rb') )\n",
    "\n",
    "class Net(nn.Module):\n",
    "    def __init__(self): #initialises class Net\n",
    "        super().__init__() #initialises inherited class nn.Module\n",
    "        self.conv1 = nn.Conv2d(1, 32, 5)\n",
    "        self.conv2 = nn.Conv2d(32, 64, 5)\n",
    "        self.conv3 = nn.Conv2d(64, 128, 5)\n",
    "        self.pool1 = nn.MaxPool2d((2, 2))\n",
    "        self.pool2 = nn.MaxPool2d((2, 2))\n",
    "        self.pool3 = nn.MaxPool2d((2, 2))\n",
    "# commenting out fc layers, replace value with our output\n",
    "        #self.fc1 = nn.Linear(value, 512)\n",
    "        self.fc1 = nn.Linear(4608, 512)\n",
    "        self.fc2 = nn.Linear(512, 2)\n",
    "    \n",
    "    def forward(self, x):\n",
    "        x = F.relu(self.conv1(x))\n",
    "        x = self.pool1(x)\n",
    "        x = F.relu(self.conv2(x))\n",
    "        x = self.pool2(x)\n",
    "        x = F.relu(self.conv3(x))\n",
    "        x = self.pool3(x)\n",
    "        x = x.flatten(start_dim=1) # flattening out\n",
    "        #print(x.shape) # printing the shape of the flattened output, replace \"value\" above with this value\n",
    "        x = F.relu(self.fc1(x))\n",
    "        x = self.fc2(x)\n",
    "        return F.softmax(x, dim=1)\n",
    "\n",
    "\n",
    "class CalorimeterDataset(Dataset):\n",
    "    def __init__(self, images, labels):\n",
    "            self.img_labels = labels\n",
    "            self.images = images\n",
    "            \n",
    "    def __len__(self):\n",
    "        return len(self.img_labels)\n",
    "    \n",
    "    def __getitem__(self, idx):\n",
    "        image = self.images[idx]\n",
    "        label = self.img_labels[idx]\n",
    "        return image, label\n"
   ]
  },
  {
   "cell_type": "code",
   "execution_count": 6,
   "id": "545fbd71",
   "metadata": {},
   "outputs": [],
   "source": [
    "def load_data(input_files):\n",
    "    val_size = int(N_EVENTS*VAL_PCT)\n",
    "    train_size = int(N_EVENTS*(1-VAL_PCT))\n",
    "    \n",
    "    ECal_test = torch.tensor(list(load_pickle_file(data_path, input_files[0])[:-val_size]))).unsqueeze(3).float().cuda()\n",
    "    labels_test = (torch.tensor(([[1, 0]]*train_size + [[0, 1]]*train_size)).cuda()).to(torch.float32)\n",
    "\n",
    "    ECal_train = torch.cat([torch.tensor(list(load_pickle_file(data_path, input_files[0])[-val_size:])), \n",
    "                  torch.tensor(list(load_pickle_file(data_path, input_files[1])[-val_size:]))] ).unsqueeze(3).float().cuda()\n",
    "    labels_train = (torch.tensor(([[1, 0]]*val_size + [[0, 1]]*val_size)).cuda()).to(torch.float32)\n",
    "    \n",
    "    train_dataset = CalorimeterDataset(ECal_train, labels_train)\n",
    "    test_dataset = CalorimeterDataset(ECal_test, labels_test)\n",
    "    \n",
    "    return train_dataset, test_dataset"
   ]
  },
  {
   "cell_type": "code",
   "execution_count": null,
   "id": "18767b89",
   "metadata": {},
   "outputs": [],
   "source": [
    "#load data\n",
    "traindata, testdata = load_data(['ECAL_squark_inclusive_80x80_no_sat_level.pkl', 'ECAL_Z_vv_jj_80x80_no_sat_level.pkl'])"
   ]
  }
 ],
 "metadata": {
  "kernelspec": {
   "display_name": "Python 3",
   "language": "python",
   "name": "python3"
  },
  "language_info": {
   "codemirror_mode": {
    "name": "ipython",
    "version": 3
   },
   "file_extension": ".py",
   "mimetype": "text/x-python",
   "name": "python",
   "nbconvert_exporter": "python",
   "pygments_lexer": "ipython3",
   "version": "3.6.13"
  }
 },
 "nbformat": 4,
 "nbformat_minor": 5
}

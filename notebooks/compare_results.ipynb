{
 "cells": [
  {
   "cell_type": "code",
   "execution_count": 1,
   "metadata": {},
   "outputs": [],
   "source": [
    "import pandas as pd\n",
    "import numpy as np"
   ]
  },
  {
   "cell_type": "code",
   "execution_count": 2,
   "metadata": {},
   "outputs": [],
   "source": [
    "df_resnet = pd.read_csv(\"../results/resnet_1675347192_SPH_9TeV_BH_n4_M10_CUT_wrongly_predicted.csv\", names=[\"EventType\", \"EventID\"], skiprows=1)\n",
    "df_xgboost = pd.read_csv(\"../results/XGBoost_binary-classification_low-level_wrongly_predicted.csv\", names=[\"EventType\", \"EventID\"], skiprows=1)"
   ]
  },
  {
   "cell_type": "code",
   "execution_count": 16,
   "metadata": {},
   "outputs": [],
   "source": [
    "df_resnet_sph = df_resnet[df_resnet[\"EventType\"]==\"SPH_9TeV\"]\n",
    "df_resnet_bh = df_resnet[df_resnet[\"EventType\"]==\"BH_n4_M10\"]\n",
    "df_xgboost_sph = df_xgboost[df_xgboost[\"EventType\"]==\"SPH_9TeV\"]\n",
    "df_xgboost_bh = df_xgboost[df_xgboost[\"EventType\"]==\"BH_n4_M10\"]"
   ]
  },
  {
   "cell_type": "code",
   "execution_count": 22,
   "metadata": {},
   "outputs": [],
   "source": [
    "df_resnet_sph = df_resnet_sph.sort_values(by=\"EventID\")\n",
    "df_resnet_bh = df_resnet_bh.sort_values(by=\"EventID\")\n",
    "df_xgboost_sph = df_xgboost_sph.sort_values(by=\"EventID\")\n",
    "df_xgboost_bh = df_xgboost_bh.sort_values(by=\"EventID\")"
   ]
  },
  {
   "cell_type": "code",
   "execution_count": 29,
   "metadata": {},
   "outputs": [
    {
     "name": "stdout",
     "output_type": "stream",
     "text": [
      "182 84\n",
      "46.15384615384615\n"
     ]
    }
   ],
   "source": [
    "intersect_sph = np.intersect1d(df_resnet_sph[\"EventID\"], df_xgboost_sph[\"EventID\"])\n",
    "len_sph = len(df_resnet_sph[\"EventID\"])\n",
    "print(len_sph, len(intersect_sph))\n",
    "intersect_prc = 100*(len(intersect_sph)/len_sph)\n",
    "print(intersect_prc)"
   ]
  },
  {
   "cell_type": "code",
   "execution_count": 30,
   "metadata": {},
   "outputs": [
    {
     "name": "stdout",
     "output_type": "stream",
     "text": [
      "440 234\n",
      "53.18181818181819\n"
     ]
    }
   ],
   "source": [
    "intersect_bh = np.intersect1d(df_resnet_bh[\"EventID\"], df_xgboost_bh[\"EventID\"])\n",
    "len_bh = len(df_resnet_bh[\"EventID\"])\n",
    "print(len_bh, len(intersect_bh))\n",
    "intersect_prc = 100*(len(intersect_bh)/len_bh)\n",
    "print(intersect_prc)"
   ]
  }
 ],
 "metadata": {
  "kernelspec": {
   "display_name": "matrices",
   "language": "python",
   "name": "python3"
  },
  "language_info": {
   "codemirror_mode": {
    "name": "ipython",
    "version": 3
   },
   "file_extension": ".py",
   "mimetype": "text/x-python",
   "name": "python",
   "nbconvert_exporter": "python",
   "pygments_lexer": "ipython3",
   "version": "3.9.7"
  },
  "orig_nbformat": 4,
  "vscode": {
   "interpreter": {
    "hash": "5b1332e5a07ce33895000dbe941ad9cee852d3baee8993fa123c6057492c40e7"
   }
  }
 },
 "nbformat": 4,
 "nbformat_minor": 2
}

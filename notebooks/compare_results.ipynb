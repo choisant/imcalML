{
 "cells": [
  {
   "cell_type": "code",
   "execution_count": 11,
   "metadata": {},
   "outputs": [],
   "source": [
    "import pandas as pd\n",
    "import numpy as np"
   ]
  },
  {
   "cell_type": "markdown",
   "metadata": {},
   "source": [
    "# Comparing two models\n",
    "\n",
    "This notebook reads in the indices of wrongly classified events for each of the two models and compares how many of these are overlapping events."
   ]
  },
  {
   "cell_type": "code",
   "execution_count": 12,
   "metadata": {},
   "outputs": [],
   "source": [
    "MODELS = [\"resnet18\", \"XGBoost\"]\n",
    "df_resnet = pd.read_csv(\"../results/resnet_1687178683_SPH_9_BH_n2_M10_BH_n4_M8_BH_n4_M10_BH_n4_M12_BH_n6_M10_CUT_wrongly_predicted.csv\", names=[\"EventType\", \"EventID\"], skiprows=1)\n",
    "df_xgboost = pd.read_csv(\"../results/XGBoost_multiclass-classification_CUT_high-level_wrongly_predicted.csv\", names=[\"EventType\", \"EventID\"], skiprows=1)"
   ]
  },
  {
   "cell_type": "code",
   "execution_count": 13,
   "metadata": {},
   "outputs": [
    {
     "name": "stdout",
     "output_type": "stream",
     "text": [
      "42056 8626\n"
     ]
    }
   ],
   "source": [
    "print(len(df_resnet), len(df_xgboost))"
   ]
  },
  {
   "cell_type": "code",
   "execution_count": 14,
   "metadata": {},
   "outputs": [
    {
     "name": "stdout",
     "output_type": "stream",
     "text": [
      "81954\n"
     ]
    }
   ],
   "source": [
    "print(df_resnet[\"EventID\"].max())"
   ]
  },
  {
   "cell_type": "code",
   "execution_count": 22,
   "metadata": {},
   "outputs": [
    {
     "name": "stdout",
     "output_type": "stream",
     "text": [
      "Number of SPH_9 events wrongly classified by resnet: 1564\n",
      "Number of SPH_9 events wrongly classified by xgboost: 392\n",
      "Number of SPH_9 events wrongly classified by both: 6\n",
      "-------------------------------\n",
      "Number of BH_n2_M10 events wrongly classified by resnet: 9561\n",
      "Number of BH_n2_M10 events wrongly classified by xgboost: 1985\n",
      "Number of BH_n2_M10 events wrongly classified by both: 808\n",
      "-------------------------------\n",
      "Number of BH_n4_M8 events wrongly classified by resnet: 4213\n",
      "Number of BH_n4_M8 events wrongly classified by xgboost: 923\n",
      "Number of BH_n4_M8 events wrongly classified by both: 62\n",
      "-------------------------------\n",
      "Number of BH_n4_M10 events wrongly classified by resnet: 14109\n",
      "Number of BH_n4_M10 events wrongly classified by xgboost: 2363\n",
      "Number of BH_n4_M10 events wrongly classified by both: 1383\n",
      "-------------------------------\n",
      "Number of BH_n4_M12 events wrongly classified by resnet: 1857\n",
      "Number of BH_n4_M12 events wrongly classified by xgboost: 880\n",
      "Number of BH_n4_M12 events wrongly classified by both: 91\n",
      "-------------------------------\n",
      "Number of BH_n6_M10 events wrongly classified by resnet: 10752\n",
      "Number of BH_n6_M10 events wrongly classified by xgboost: 2083\n",
      "Number of BH_n6_M10 events wrongly classified by both: 903\n",
      "-------------------------------\n"
     ]
    }
   ],
   "source": [
    "labels = list(df_resnet[\"EventType\"].unique())\n",
    "for label in labels:\n",
    "    resnet = df_resnet[df_resnet[\"EventType\"]==label]\n",
    "    xgboost = df_xgboost[df_xgboost[\"EventType\"]==label]\n",
    "    intersect = np.intersect1d(resnet[\"EventID\"], xgboost[\"EventID\"])\n",
    "    print(f\"Number of {label} events wrongly classified by resnet: {len(resnet)}\")\n",
    "    print(f\"Number of {label} events wrongly classified by xgboost: {len(xgboost)}\")\n",
    "    print(f\"Number of {label} events wrongly classified by both: {len(intersect)}\")\n",
    "    print(\"-------------------------------\")\n"
   ]
  },
  {
   "cell_type": "code",
   "execution_count": 16,
   "metadata": {},
   "outputs": [],
   "source": [
    "df_resnet_sph = df_resnet[df_resnet[\"EventType\"]==\"SPH_9TeV\"]\n",
    "df_resnet_bh = df_resnet[df_resnet[\"EventType\"]==\"BH_n4_M10\"]\n",
    "df_xgboost_sph = df_xgboost[df_xgboost[\"EventType\"]==\"SPH_9TeV\"]\n",
    "df_xgboost_bh = df_xgboost[df_xgboost[\"EventType\"]==\"BH_n4_M10\"]"
   ]
  },
  {
   "cell_type": "code",
   "execution_count": 17,
   "metadata": {},
   "outputs": [],
   "source": [
    "df_resnet_sph = df_resnet_sph.sort_values(by=\"EventID\")\n",
    "df_resnet_bh = df_resnet_bh.sort_values(by=\"EventID\")\n",
    "df_xgboost_sph = df_xgboost_sph.sort_values(by=\"EventID\")\n",
    "df_xgboost_bh = df_xgboost_bh.sort_values(by=\"EventID\")"
   ]
  },
  {
   "cell_type": "code",
   "execution_count": 18,
   "metadata": {},
   "outputs": [
    {
     "name": "stdout",
     "output_type": "stream",
     "text": [
      "0 0\n"
     ]
    },
    {
     "ename": "ZeroDivisionError",
     "evalue": "division by zero",
     "output_type": "error",
     "traceback": [
      "\u001b[0;31m---------------------------------------------------------------------------\u001b[0m",
      "\u001b[0;31mZeroDivisionError\u001b[0m                         Traceback (most recent call last)",
      "\u001b[1;32m/disk/atlas3/users/agrefsru/imcalML/notebooks/compare_results.ipynb Cell 9\u001b[0m line \u001b[0;36m<module>\u001b[0;34m\u001b[0m\n\u001b[1;32m      <a href='vscode-notebook-cell://ssh-remote%2Batlas3.ift.uib.no/disk/atlas3/users/agrefsru/imcalML/notebooks/compare_results.ipynb#W6sdnNjb2RlLXJlbW90ZQ%3D%3D?line=1'>2</a>\u001b[0m len_sph \u001b[39m=\u001b[39m \u001b[39mlen\u001b[39m(df_resnet_sph[\u001b[39m\"\u001b[39m\u001b[39mEventID\u001b[39m\u001b[39m\"\u001b[39m])\n\u001b[1;32m      <a href='vscode-notebook-cell://ssh-remote%2Batlas3.ift.uib.no/disk/atlas3/users/agrefsru/imcalML/notebooks/compare_results.ipynb#W6sdnNjb2RlLXJlbW90ZQ%3D%3D?line=2'>3</a>\u001b[0m \u001b[39mprint\u001b[39m(len_sph, \u001b[39mlen\u001b[39m(intersect_sph))\n\u001b[0;32m----> <a href='vscode-notebook-cell://ssh-remote%2Batlas3.ift.uib.no/disk/atlas3/users/agrefsru/imcalML/notebooks/compare_results.ipynb#W6sdnNjb2RlLXJlbW90ZQ%3D%3D?line=3'>4</a>\u001b[0m intersect_prc \u001b[39m=\u001b[39m \u001b[39m100\u001b[39m\u001b[39m*\u001b[39m(\u001b[39mlen\u001b[39;49m(intersect_sph)\u001b[39m/\u001b[39;49mlen_sph)\n\u001b[1;32m      <a href='vscode-notebook-cell://ssh-remote%2Batlas3.ift.uib.no/disk/atlas3/users/agrefsru/imcalML/notebooks/compare_results.ipynb#W6sdnNjb2RlLXJlbW90ZQ%3D%3D?line=4'>5</a>\u001b[0m \u001b[39mprint\u001b[39m(intersect_prc)\n",
      "\u001b[0;31mZeroDivisionError\u001b[0m: division by zero"
     ]
    }
   ],
   "source": [
    "intersect_sph = np.intersect1d(df_resnet_sph[\"EventID\"], df_xgboost_sph[\"EventID\"])\n",
    "len_sph = len(df_resnet_sph[\"EventID\"])\n",
    "print(len_sph, len(intersect_sph))\n",
    "intersect_prc = 100*(len(intersect_sph)/len_sph)\n",
    "print(intersect_prc)"
   ]
  },
  {
   "cell_type": "code",
   "execution_count": null,
   "metadata": {},
   "outputs": [
    {
     "name": "stdout",
     "output_type": "stream",
     "text": [
      "407 0\n",
      "Percent of wrongly classified events that are the same: 0.0\n"
     ]
    }
   ],
   "source": [
    "intersect_bh = np.intersect1d(df_resnet_bh[\"EventID\"], df_xgboost_bh[\"EventID\"])\n",
    "len_bh = len(df_resnet_bh[\"EventID\"])\n",
    "print(len_bh, len(intersect_bh))\n",
    "intersect_prc = 100*(len(intersect_bh)/len_bh)\n",
    "print(f\"Percent of wrongly classified events that are the same: {intersect_prc}\")"
   ]
  }
 ],
 "metadata": {
  "kernelspec": {
   "display_name": "matrices",
   "language": "python",
   "name": "python3"
  },
  "language_info": {
   "codemirror_mode": {
    "name": "ipython",
    "version": 3
   },
   "file_extension": ".py",
   "mimetype": "text/x-python",
   "name": "python",
   "nbconvert_exporter": "python",
   "pygments_lexer": "ipython3",
   "version": "3.9.7"
  },
  "orig_nbformat": 4,
  "vscode": {
   "interpreter": {
    "hash": "5b1332e5a07ce33895000dbe941ad9cee852d3baee8993fa123c6057492c40e7"
   }
  }
 },
 "nbformat": 4,
 "nbformat_minor": 2
}

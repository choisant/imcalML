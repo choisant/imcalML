{
 "cells": [
  {
   "cell_type": "code",
   "execution_count": 23,
   "metadata": {},
   "outputs": [],
   "source": [
    "import pandas as pd\n",
    "import numpy as np"
   ]
  },
  {
   "cell_type": "markdown",
   "metadata": {},
   "source": [
    "# Comparing two models\n",
    "\n",
    "This notebook reads in the indices of wrongly classified events for each of the two models and compares how many of these are overlapping events."
   ]
  },
  {
   "cell_type": "code",
   "execution_count": 31,
   "metadata": {},
   "outputs": [],
   "source": [
    "MODELS = [\"resnet18\", \"XGBoost\"]\n",
    "df_resnet = pd.read_csv(\"../results/resnet_1687178683_SPH_9_BH_n2_M10_BH_n4_M8_BH_n4_M10_BH_n4_M12_BH_n6_M10_CUT_3000_events_wrongly_predicted.csv\", names=[\"EventType\", \"EventID\"], skiprows=1)\n",
    "df_xgboost = pd.read_csv(\"../results/XGBoost_multiclass-classification_3000_events_CUT_high-level_wrongly_predicted.csv\", names=[\"EventType\", \"EventID\"], skiprows=1)"
   ]
  },
  {
   "cell_type": "code",
   "execution_count": 25,
   "metadata": {},
   "outputs": [
    {
     "name": "stdout",
     "output_type": "stream",
     "text": [
      "8386 8708\n"
     ]
    }
   ],
   "source": [
    "print(len(df_resnet), len(df_xgboost))"
   ]
  },
  {
   "cell_type": "code",
   "execution_count": 26,
   "metadata": {},
   "outputs": [
    {
     "name": "stdout",
     "output_type": "stream",
     "text": [
      "15987\n"
     ]
    }
   ],
   "source": [
    "print(df_resnet[\"EventID\"].max())"
   ]
  },
  {
   "cell_type": "code",
   "execution_count": 27,
   "metadata": {},
   "outputs": [
    {
     "name": "stdout",
     "output_type": "stream",
     "text": [
      "Number of SPH_9 events wrongly classified by resnet: 291\n",
      "Number of SPH_9 events wrongly classified by xgboost: 397\n",
      "Number of SPH_9 events wrongly classified by both: 129\n",
      "-------------------------------\n",
      "Number of BH_n2_M10 events wrongly classified by resnet: 1892\n",
      "Number of BH_n2_M10 events wrongly classified by xgboost: 1998\n",
      "Number of BH_n2_M10 events wrongly classified by both: 1461\n",
      "-------------------------------\n",
      "Number of BH_n4_M8 events wrongly classified by resnet: 909\n",
      "Number of BH_n4_M8 events wrongly classified by xgboost: 942\n",
      "Number of BH_n4_M8 events wrongly classified by both: 543\n",
      "-------------------------------\n",
      "Number of BH_n4_M10 events wrongly classified by resnet: 2812\n",
      "Number of BH_n4_M10 events wrongly classified by xgboost: 2389\n",
      "Number of BH_n4_M10 events wrongly classified by both: 2251\n",
      "-------------------------------\n",
      "Number of BH_n4_M12 events wrongly classified by resnet: 368\n",
      "Number of BH_n4_M12 events wrongly classified by xgboost: 890\n",
      "Number of BH_n4_M12 events wrongly classified by both: 212\n",
      "-------------------------------\n",
      "Number of BH_n6_M10 events wrongly classified by resnet: 2114\n",
      "Number of BH_n6_M10 events wrongly classified by xgboost: 2092\n",
      "Number of BH_n6_M10 events wrongly classified by both: 1622\n",
      "-------------------------------\n"
     ]
    }
   ],
   "source": [
    "labels = list(df_resnet[\"EventType\"].unique())\n",
    "for label in labels:\n",
    "    resnet = df_resnet[df_resnet[\"EventType\"]==label]\n",
    "    xgboost = df_xgboost[df_xgboost[\"EventType\"]==label]\n",
    "    intersect = np.intersect1d(resnet[\"EventID\"], xgboost[\"EventID\"])\n",
    "    print(f\"Number of {label} events wrongly classified by resnet: {len(resnet)}\")\n",
    "    print(f\"Number of {label} events wrongly classified by xgboost: {len(xgboost)}\")\n",
    "    print(f\"Number of {label} events wrongly classified by both: {len(intersect)}\")\n",
    "    print(\"-------------------------------\")\n"
   ]
  }
 ],
 "metadata": {
  "kernelspec": {
   "display_name": "matrices",
   "language": "python",
   "name": "python3"
  },
  "language_info": {
   "codemirror_mode": {
    "name": "ipython",
    "version": 3
   },
   "file_extension": ".py",
   "mimetype": "text/x-python",
   "name": "python",
   "nbconvert_exporter": "python",
   "pygments_lexer": "ipython3",
   "version": "3.9.7"
  },
  "orig_nbformat": 4,
  "vscode": {
   "interpreter": {
    "hash": "5b1332e5a07ce33895000dbe941ad9cee852d3baee8993fa123c6057492c40e7"
   }
  }
 },
 "nbformat": 4,
 "nbformat_minor": 2
}

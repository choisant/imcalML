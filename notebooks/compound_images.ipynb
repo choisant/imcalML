{
 "cells": [
  {
   "cell_type": "code",
   "execution_count": 145,
   "metadata": {},
   "outputs": [],
   "source": [
    "import numpy as np\n",
    "import matplotlib.pyplot as plt\n",
    "import pandas as pd\n",
    "import uproot\n",
    "import awkward as ak\n",
    "from fast_histogram import histogram2d\n",
    "import seaborn as sn\n",
    "from sklearn.preprocessing import normalize"
   ]
  },
  {
   "cell_type": "code",
   "execution_count": 146,
   "metadata": {},
   "outputs": [],
   "source": [
    "MIN_RES = 20\n",
    "RESOLUTION = int(5*MIN_RES)\n",
    "N_events = 1000 #events to load\n",
    "MAX_EVENTS = 100 #images to make\n",
    "savepath = \"/home/agrefsru/imcalML/fig/\"\n",
    "path = \"/disk/atlas3/data_MC/delphes/black_holes_1000events.root:Delphes\"\n",
    "data_paths = [\"/disk/atlas3/data_MC/delphes/black_holes_1000events.root:Delphes\", \n",
    "            \"/disk/atlas3/data_MC/delphes/ttbar_13TeV_pTmin1000_1000events.root:Delphes\",\n",
    "            \"/disk/atlas3/data_MC/delphes/sphalerons.root:Delphes\"]"
   ]
  },
  {
   "cell_type": "code",
   "execution_count": 147,
   "metadata": {},
   "outputs": [],
   "source": [
    "def cal_image_plot(ax):\n",
    "    \"\"\"\n",
    "    Formating of calorimeter image\n",
    "    \"\"\"\n",
    "    ax.set_ylabel(r\"$\\phi$ [radians]]\", fontsize=16)\n",
    "    ax.set_xlabel(r\"$\\eta$\", fontsize=16)\n",
    "    #ax.set_title(\"Calorimeter image\", fontsize=20, color=\"black\")\n",
    "    ax.tick_params(which=\"both\", direction=\"inout\", top=True, right=True, labelsize=14, pad=15, length=4, width=2)\n",
    "    ax.tick_params(which=\"major\", length=8)\n",
    "    ax.tick_params(which=\"major\", length=6)\n",
    "    ax.minorticks_on()\n",
    "\n",
    "def create_histograms(x, y, z):\n",
    "    max_available_events = len(x)\n",
    "    if max_available_events < MAX_EVENTS:\n",
    "        max_events = max_available_events\n",
    "    else: max_events = MAX_EVENTS\n",
    "    Cal = [histogram2d(x[i], y[i], \n",
    "            range=[[-np.pi, np.pi], [-2.5, 2.5]], bins=RESOLUTION, \n",
    "            weights=z[i]) \n",
    "            for i in range(0, max_events)]\n",
    "    return Cal\n",
    "\n",
    "def preproc_histograms(hists:list):\n",
    "    hists = [item/np.amax(item) for item in hists]\n",
    "    return hists\n",
    "\n",
    "def filters(key:str, image):\n",
    "    if key==\"saturate\":\n",
    "        image[np.nonzero(image)] = 255\n",
    "        image = image.astype(int)\n",
    "        print(np.max(image))\n",
    "    return image"
   ]
  },
  {
   "cell_type": "code",
   "execution_count": 148,
   "metadata": {},
   "outputs": [],
   "source": [
    "#Open file in with-function will close it when you exit\n",
    "def load_data(rootfile:str, branch:str, keys:list):\n",
    "    with uproot.open(rootfile) as file:\n",
    "        valid_list = [key in file.keys() for key in keys]\n",
    "        if valid_list:\n",
    "            arr = file[branch].arrays(keys, library=\"ak\", how=\"zip\")[0:N_events]\n",
    "            return arr[branch]\n",
    "        else:\n",
    "            print(keys[not(valid_list)], \" not present in data.\")\n",
    "\n",
    "\n",
    "clusters = [load_data(path, \"Tower\", \n",
    "                        [\"Tower.ET\", \"Tower.Eta\", \"Tower.Phi\", \"Tower.Eem\", \"Tower.Ehad\", \"Tower.E\"])\n",
    "                        for path in data_paths]\n",
    "tracks = [load_data(path, \"Track\", \n",
    "                        [\"Track.PT\", \"Track.Eta\", \"Track.Phi\"])\n",
    "                        for path in data_paths]\n"
   ]
  },
  {
   "cell_type": "code",
   "execution_count": 149,
   "metadata": {},
   "outputs": [
    {
     "name": "stdout",
     "output_type": "stream",
     "text": [
      "705\n"
     ]
    }
   ],
   "source": [
    "#Pad Tower data and normalise\n",
    "max_hits = np.max([np.max([len(event) for event in item[\"Eta\"]]) for item in clusters])\n",
    "print(max_hits)\n",
    "clusters = [ak.pad_none(item, max_hits, axis=-1) for item in clusters]\n",
    "\n",
    "#normalise and remove None\n",
    "for i in range(len(clusters)):\n",
    "    ak.fill_none(clusters[i], 0)\n",
    "    clusters[i].Eem_norm = clusters[i].Eem/ak.max(clusters[i].Eem, axis=1)\n",
    "    clusters[i].Ehad_norm = clusters[i].Ehad/ak.max(clusters[i].Ehad, axis=1)\n",
    "    clusters[i].ET_norm = clusters[i].ET/ak.max(clusters[i].ET, axis=1)\n"
   ]
  },
  {
   "cell_type": "code",
   "execution_count": 150,
   "metadata": {},
   "outputs": [
    {
     "name": "stdout",
     "output_type": "stream",
     "text": [
      "380\n"
     ]
    }
   ],
   "source": [
    "#Pad track data and normalise\n",
    "max_hits = np.max([np.max([len(event) for event in item[\"Eta\"]]) for item in tracks])\n",
    "print(max_hits)\n",
    "tracks = [ak.pad_none(item, max_hits, axis=-1) for item in tracks]\n",
    "\n",
    "#normalise\n",
    "for i in range(len(tracks)):\n",
    "    ak.fill_none(tracks[i], 0)\n",
    "    tracks[i].PT_norm = tracks[i].PT/ak.max(tracks[i].PT, axis=1)"
   ]
  },
  {
   "cell_type": "code",
   "execution_count": 151,
   "metadata": {},
   "outputs": [],
   "source": [
    "hists_Eem = create_histograms(ak.to_numpy(clusters[0].Phi), ak.to_numpy(clusters[0].Eta), ak.to_numpy(clusters[0].Eem_norm))\n",
    "hists_Ehad = create_histograms(ak.to_numpy(clusters[0].Phi), ak.to_numpy(clusters[0].Eta), ak.to_numpy(clusters[0].Ehad_norm))\n",
    "hists_tracks = create_histograms(ak.to_numpy(tracks[0].Phi), ak.to_numpy(tracks[0].Eta), ak.to_numpy(tracks[0].PT))\n",
    "#normalise\n",
    "hists_Eem = preproc_histograms(hists_Eem)\n",
    "hists_Ehad = preproc_histograms(hists_Ehad)\n",
    "hists_tracks = preproc_histograms(hists_tracks)"
   ]
  },
  {
   "cell_type": "code",
   "execution_count": 156,
   "metadata": {},
   "outputs": [
    {
     "name": "stdout",
     "output_type": "stream",
     "text": [
      "(100, 100, 100, 3)\n",
      "255\n"
     ]
    },
    {
     "data": {
      "text/plain": [
       "<matplotlib.image.AxesImage at 0x7f7bfda66130>"
      ]
     },
     "execution_count": 156,
     "metadata": {},
     "output_type": "execute_result"
    },
    {
     "data": {
      "image/png": "[encoded data removed]",
      "text/plain": [
       "<Figure size 576x576 with 1 Axes>"
      ]
     },
     "metadata": {
      "needs_background": "light"
     },
     "output_type": "display_data"
    }
   ],
   "source": [
    "k = np.random.randint(0, high=len(hists_Eem)) #a random image\n",
    "images = np.stack((hists_Eem, hists_Ehad, hists_tracks), axis=-1)\n",
    "print(images.shape)\n",
    "fig, axs = plt.subplots(nrows = 1, ncols = 1, figsize = (8,8))\n",
    "cal_image_plot(axs)\n",
    "image = images[k]\n",
    "image = filters(\"saturate\", image)\n",
    "axs.imshow(image, extent=[-2.5, 2.5, np.pi, -np.pi], aspect='auto')\n"
   ]
  }
 ],
 "metadata": {
  "kernelspec": {
   "display_name": "Python 3.9.7 ('matrices': conda)",
   "language": "python",
   "name": "python3"
  },
  "language_info": {
   "codemirror_mode": {
    "name": "ipython",
    "version": 3
   },
   "file_extension": ".py",
   "mimetype": "text/x-python",
   "name": "python",
   "nbconvert_exporter": "python",
   "pygments_lexer": "ipython3",
   "version": "3.9.7"
  },
  "orig_nbformat": 4,
  "vscode": {
   "interpreter": {
    "hash": "5b1332e5a07ce33895000dbe941ad9cee852d3baee8993fa123c6057492c40e7"
   }
  }
 },
 "nbformat": 4,
 "nbformat_minor": 2
}

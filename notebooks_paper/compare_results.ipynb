{
 "cells": [
  {
   "cell_type": "code",
   "execution_count": 9,
   "metadata": {},
   "outputs": [],
   "source": [
    "import pandas as pd\n",
    "import numpy as np"
   ]
  },
  {
   "cell_type": "markdown",
   "metadata": {},
   "source": [
    "# Comparing two models\n",
    "\n",
    "This notebook reads in the indices of wrongly classified events for each of the two models and compares how many of these are overlapping events."
   ]
  },
  {
   "cell_type": "code",
   "execution_count": 10,
   "metadata": {},
   "outputs": [],
   "source": [
    "MODELS = [\"resnet18\", \"XGBoost\"]\n",
    "df_resnet = pd.read_csv(\"../results/resnet18_1703078471_SPH_9_BH_n2_M10_BH_n4_M8_BH_n4_M10_BH_n4_M12_BH_n6_M10_CUT_15000_events_wrongly_predicted.csv\", names=[\"EventType\", \"EventID\"], skiprows=1)\n",
    "df_xgboost = pd.read_csv(\"../results/XGBoost_multiclass-classification_15000_events_CUT_low-level_wrongly_predicted.csv\", names=[\"EventType\", \"EventID\"], skiprows=1)"
   ]
  },
  {
   "cell_type": "code",
   "execution_count": 11,
   "metadata": {},
   "outputs": [
    {
     "name": "stdout",
     "output_type": "stream",
     "text": [
      "Number of SPH_9 events wrongly classified by resnet: 1319\n",
      "Number of SPH_9 events wrongly classified by xgboost: 2718\n",
      "Number of SPH_9 events wrongly classified by both: 628\n",
      "-------------------------------\n",
      "Number of BH_n4_M8 events wrongly classified by resnet: 7600\n",
      "Number of BH_n4_M8 events wrongly classified by xgboost: 7449\n",
      "Number of BH_n4_M8 events wrongly classified by both: 648\n",
      "-------------------------------\n",
      "Number of BH_n2_M10 events wrongly classified by resnet: 6496\n",
      "Number of BH_n2_M10 events wrongly classified by xgboost: 11099\n",
      "Number of BH_n2_M10 events wrongly classified by both: 825\n",
      "-------------------------------\n",
      "Number of BH_n4_M10 events wrongly classified by resnet: 12996\n",
      "Number of BH_n4_M10 events wrongly classified by xgboost: 12117\n",
      "Number of BH_n4_M10 events wrongly classified by both: 10587\n",
      "-------------------------------\n",
      "Number of BH_n6_M10 events wrongly classified by resnet: 1136\n",
      "Number of BH_n6_M10 events wrongly classified by xgboost: 11546\n",
      "Number of BH_n6_M10 events wrongly classified by both: 407\n",
      "-------------------------------\n",
      "Number of BH_n4_M12 events wrongly classified by resnet: 8689\n",
      "Number of BH_n4_M12 events wrongly classified by xgboost: 3016\n",
      "Number of BH_n4_M12 events wrongly classified by both: 755\n",
      "-------------------------------\n",
      "Percent classified wrong by resnet: 42.48\n",
      "Percent classified wrong by xgboost: 53.27\n",
      "Percent classified wrong by both: 15.39\n"
     ]
    }
   ],
   "source": [
    "labels = list(df_resnet[\"EventType\"].unique())\n",
    "resnet_list = np.zeros(len(labels))\n",
    "xgboost_list = np.zeros(len(labels))\n",
    "intersect_list = np.zeros(len(labels))\n",
    "for i, label in enumerate(labels):\n",
    "    resnet = df_resnet[df_resnet[\"EventType\"]==label]\n",
    "    xgboost = df_xgboost[df_xgboost[\"EventType\"]==label]\n",
    "    intersect = np.intersect1d(resnet[\"EventID\"], xgboost[\"EventID\"])\n",
    "    resnet_list[i] = len(resnet)\n",
    "    xgboost_list[i] = len(xgboost)\n",
    "    intersect_list[i] = len(intersect)\n",
    "    print(f\"Number of {label} events wrongly classified by resnet: {len(resnet)}\")\n",
    "    print(f\"Number of {label} events wrongly classified by xgboost: {len(xgboost)}\")\n",
    "    print(f\"Number of {label} events wrongly classified by both: {len(intersect)}\")\n",
    "    print(\"-------------------------------\")\n",
    "print(f\"Percent classified wrong by resnet: {np.round(100*np.sum(resnet_list)/(15000*len(labels)), 2)}\")\n",
    "print(f\"Percent classified wrong by xgboost: {np.round(100*np.sum(xgboost_list)/(15000*len(labels)), 2)}\")\n",
    "print(f\"Percent classified wrong by both: {np.round(100*np.sum(intersect_list)/(15000*len(labels)), 2)}\")"
   ]
  }
 ],
 "metadata": {
  "kernelspec": {
   "display_name": "matrices",
   "language": "python",
   "name": "python3"
  },
  "language_info": {
   "codemirror_mode": {
    "name": "ipython",
    "version": 3
   },
   "file_extension": ".py",
   "mimetype": "text/x-python",
   "name": "python",
   "nbconvert_exporter": "python",
   "pygments_lexer": "ipython3",
   "version": "3.9.7"
  },
  "orig_nbformat": 4,
  "vscode": {
   "interpreter": {
    "hash": "5b1332e5a07ce33895000dbe941ad9cee852d3baee8993fa123c6057492c40e7"
   }
  }
 },
 "nbformat": 4,
 "nbformat_minor": 2
}
